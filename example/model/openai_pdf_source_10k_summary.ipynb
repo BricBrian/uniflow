{
 "cells": [
  {
   "cell_type": "markdown",
   "id": "7cbc4c4a",
   "metadata": {},
   "source": [
    "# Example of generating summaries for a 10K\n",
    "Source: https://investors.nike.com/investors/news-events-and-reports/"
   ]
  },
  {
   "cell_type": "markdown",
   "metadata": {},
   "source": [
    "### Before running the code\n",
    "\n",
    "You will need to have the following packages installed:\n",
    "```\n",
    "pip3 install langchain pandas pypdf\n",
    "```\n",
    "\n",
    "Also, make sure you have a .env file with your OpenAI API key in the root directory of this project.\n",
    "```\n",
    "OPENAI_API_KEY=YOUR_API_KEY\n",
    "```"
   ]
  },
  {
   "cell_type": "markdown",
   "metadata": {},
   "source": [
    "### Load packages"
   ]
  },
  {
   "cell_type": "code",
   "execution_count": 1,
   "metadata": {},
   "outputs": [],
   "source": [
    "%reload_ext autoreload\n",
    "%autoreload 2\n",
    "\n",
    "import sys\n",
    "\n",
    "sys.path.append(\".\")\n",
    "sys.path.append(\"..\")\n",
    "sys.path.append(\"../..\")"
   ]
  },
  {
   "cell_type": "code",
   "execution_count": 2,
   "id": "8d84dd70",
   "metadata": {},
   "outputs": [
    {
     "name": "stderr",
     "output_type": "stream",
     "text": [
      "/Users/joseortiz/anaconda3/envs/uniflow/lib/python3.10/site-packages/tqdm/auto.py:21: TqdmWarning: IProgress not found. Please update jupyter and ipywidgets. See https://ipywidgets.readthedocs.io/en/stable/user_install.html\n",
      "  from .autonotebook import tqdm as notebook_tqdm\n"
     ]
    },
    {
     "data": {
      "text/plain": [
       "True"
      ]
     },
     "execution_count": 2,
     "metadata": {},
     "output_type": "execute_result"
    }
   ],
   "source": [
    "from dotenv import load_dotenv\n",
    "import os\n",
    "import pandas as pd\n",
    "from uniflow.client import Client\n",
    "from uniflow.config import OpenAIJsonConfig\n",
    "from langchain.document_loaders import PyPDFLoader\n",
    "from uniflow.schema import Context, GuidedPrompt\n",
    "\n",
    "load_dotenv()\n"
   ]
  },
  {
   "cell_type": "markdown",
   "id": "cb677037",
   "metadata": {},
   "source": [
    "### Prepare the input data"
   ]
  },
  {
   "cell_type": "code",
   "execution_count": 3,
   "id": "a707ef78",
   "metadata": {},
   "outputs": [],
   "source": [
    "pdf_file = \"nike-10k-2023.pdf\""
   ]
  },
  {
   "cell_type": "markdown",
   "id": "4b177df1",
   "metadata": {},
   "source": [
    "##### Set current directory and input data directory."
   ]
  },
  {
   "cell_type": "code",
   "execution_count": 4,
   "id": "092b355a",
   "metadata": {},
   "outputs": [],
   "source": [
    "dir_cur = os.getcwd()\n",
    "input_file = os.path.join(f\"{dir_cur}/data/raw_input/\", pdf_file)"
   ]
  },
  {
   "cell_type": "markdown",
   "metadata": {},
   "source": [
    "##### Load and split the pdf"
   ]
  },
  {
   "cell_type": "code",
   "execution_count": 5,
   "metadata": {},
   "outputs": [],
   "source": [
    "loader = PyPDFLoader(input_file)\n",
    "pages = loader.load_and_split()\n",
    "page_contents = [page.page_content for page in pages]"
   ]
  },
  {
   "cell_type": "code",
   "execution_count": 6,
   "metadata": {},
   "outputs": [],
   "source": [
    "guided_prompt = GuidedPrompt(\n",
    "    instruction=\"Generate a one sentence summary based on the last context below. Follow the format of the examples below to include context and summary in the response\",\n",
    "    examples=[\n",
    "        Context(\n",
    "            context=\"When you're operating on the maker's schedule, meetings are a disaster. A single meeting can blow a whole afternoon, by breaking it into two pieces each too small to do anything hard in. Plus you have to remember to go to the meeting. That's no problem for someone on the manager's schedule. There's always something coming on the next hour; the only question is what. But when someone on the maker's schedule has a meeting, they have to think about it.\",\n",
    "            summary=\"Meetings disrupt the productivity of those following a maker's schedule, dividing their time into impractical segments, while those on a manager's schedule are accustomed to a continuous flow of tasks.\",\n",
    "        ),\n",
    "    ],\n",
    ")\n",
    "data = [ Context(context=p[:500], summary=\"\") for p in page_contents[6:16] if len(p) > 200 ]"
   ]
  },
  {
   "cell_type": "code",
   "execution_count": 7,
   "metadata": {},
   "outputs": [
    {
     "data": {
      "text/plain": [
       "[Context(context='We also offer interactive consumer services and experiences as well as digital products through our digital platforms, including \\nfitness and activity apps; sport, fitness and wellness content; and digital services and features in retail stores that enhance the \\nconsumer experience.\\nSALES AND MARKETING\\nWe experience moderate fluctuations in aggregate sales volume during the year. Historically, revenues in the first and fourth \\nfiscal quarters have slightly exceeded those in the second and third ', summary=''),\n",
       " Context(context='INTERNATIONAL MARKETS\\nFor fiscal 2023, non-U.S. NIKE Brand and Converse sales accounted for approximately 57% of total revenues, compared to 60% \\nand 61% for fiscal 2022 and fiscal 2021, respectively. We sell our products to retail accounts through our own NIKE Direct \\noperations and through a mix of independent distributors, licensees and sales representatives around the world. W e sell to \\nthousands of retail accounts and ship products from 67 distribution centers outside of the United States.', summary=''),\n",
       " Context(context='footwear production. For fiscal 2023, factories in Vietnam, Indonesia and China manufactured approximately 50%, 27% and 18% \\nof total NIKE Brand footwear, respectively. For fiscal 2023, four footwear contract manufacturers each accounted for greater than \\n10% of footwear production and in the aggregate accounted for approximately 58% of NIKE Brand footwear production.\\nAs of May 31, 2023, our contract manufacturers operated 291 finished goods apparel factories located in 31 countries. For fiscal ', summary=''),\n",
       " Context(context=\"of total NIKE Brand apparel, respectively. For fiscal 2023, one apparel contract manufacturer accounted for more than 10% of \\napparel production, and the top five contract manufacturers in the aggregate accounted for approximately 52% of NIKE Brand \\napparel production.\\nNIKE's contract manufacturers buy raw materials for the manufacturing of our footwear, apparel and equipment products. Most \\nraw materials are available and purchased by those contract manufacturers in the countries where manufact\", summary=''),\n",
       " Context(context='We monitor protectionist trends and developments throughout the world that may materially impact our industry, and we engage \\nin administrative and judicial processes to mitigate trade restrictions. W e are actively monitoring actions that may result in \\nadditional anti-dumping measures and could affect our industry. We are also monitoring for and advocating against other \\nimpediments that may limit or delay customs clearance for imports of footwear , apparel and equipment. NIKE also advocates f', summary=''),\n",
       " Context(context='Our international operations are also subject to compliance with the U.S . Foreign Corrupt Practices Act (the \"FCPA\"), and other \\nanti-bribery laws applicable to our operations. We source a significant portion of our products from, and have important consumer \\nmarkets, outside of the United States. We have an ethics and compliance program to address compliance with the FCPA and \\nsimilar laws by us, our employees, agents, suppliers and other partners.  Refer to Item 1A. Risk Factors for additiona', summary=''),\n",
       " Context(context='devices, and related software applications. These patents expire at various times.\\nWe believe our success depends upon our capabilities in areas such as design, research and development, production and \\nmarketing and is supported and protected by our intellectual property rights, such as trademarks, utility and design patents, \\ncopyrights, and trade secrets, among others. \\nWe have followed a policy of applying for and registering intellectual property rights in the United States and select forei', summary=''),\n",
       " Context(context='HUMAN CAPITAL RESOURCES\\nAt NIKE, we consider the strength and effective management of our workforce to be essential to the ongoing success of our \\nbusiness. We believe that it is important to attract, develop and retain a diverse and engaged workforce at all levels of our \\nbusiness and that such a workforce fosters creativity and accelerates innovation. W e are focused on building an increasingly \\ndiverse talent pipeline that reflects our consumers, athletes and the communities we serve.\\nCULTURE', summary=''),\n",
       " Context(context='information and consultation on certain subsidiary decisions) or by organizations similar to a union. In certain E uropean countries, \\nwe are required by local law to enter into, and/or comply with, industry-wide or national collective bargaining agreements. NIK E \\nhas never experienced a material interruption of operations due to labor disagreements.\\nDIVERSITY, EQUITY AND INCLUSION\\nDiversity, equity and inclusion (\"DE&I\") is a strategic priority for NIKE and we are committed to having an increa', summary=''),\n",
       " Context(context=\"Our DE&I focus extends beyond our workforce and includes our communities, which we support in a number of ways. We have \\ncommitted to investments that aim to address racial inequality and improve diversity and representation in our communities. W e \\nalso are leveraging our global scale to accelerate business diversity , including investing in business training programs for women \\nand increasing the proportion of services supplied by minority-owned businesses.\\nCOMPENSATION AND BENEFITS \\nNIKE's to\", summary='')]"
      ]
     },
     "execution_count": 7,
     "metadata": {},
     "output_type": "execute_result"
    }
   ],
   "source": [
    "data"
   ]
  },
  {
   "cell_type": "markdown",
   "metadata": {},
   "source": [
    "### Run the model"
   ]
  },
  {
   "cell_type": "code",
   "execution_count": 8,
   "metadata": {},
   "outputs": [],
   "source": [
    "config = OpenAIJsonConfig(guided_prompt_template=guided_prompt)\n",
    "client = Client(config)"
   ]
  },
  {
   "cell_type": "code",
   "execution_count": 9,
   "metadata": {},
   "outputs": [
    {
     "name": "stderr",
     "output_type": "stream",
     "text": [
      "100%|██████████| 10/10 [00:24<00:00,  2.49s/it]\n"
     ]
    }
   ],
   "source": [
    "output = client.run(data)"
   ]
  },
  {
   "cell_type": "code",
   "execution_count": 10,
   "metadata": {},
   "outputs": [
    {
     "data": {
      "text/plain": [
       "[{'output': [{'response': [{'context': 'We also offer interactive consumer services and experiences as well as digital products through our digital platforms, including \\nfitness and activity apps; sport, fitness and wellness content; and digital services and features in retail stores that enhance the \\nconsumer experience.\\nSALES AND MARKETING\\nWe experience moderate fluctuations in aggregate sales volume during the year. Historically, revenues in the first and fourth \\nfiscal quarters have slightly exceeded those in the second and third',\n",
       "      'summary': 'Revenue fluctuations are experienced throughout the year, with revenues in the first and fourth fiscal quarters slightly surpassing those in the second and third.'}],\n",
       "    'error': 'No errors.'}],\n",
       "  'root': <uniflow.node.node.Node at 0x1573304c0>},\n",
       " {'output': [{'response': [{'context': 'INTERNATIONAL MARKETS\\nFor fiscal 2023, non-U.S. NIKE Brand and Converse sales accounted for approximately 57% of total revenues, compared to 60% \\nand 61% for fiscal 2022 and fiscal 2021, respectively. We sell our products to retail accounts through our own NIKE Direct \\noperations and through a mix of independent distributors, licensees and sales representatives around the world. W e sell to \\nthousands of retail accounts and ship products from 67 distribution centers outside of the United States.',\n",
       "      'summary': \"NIKE's non-U.S sales accounted for 57% of total revenues in fiscal 2023, demonstrating a slight decrease compared to previous fiscal years, and the company operates worldwide through various sales channels.\"}],\n",
       "    'error': 'No errors.'}],\n",
       "  'root': <uniflow.node.node.Node at 0x1573303d0>},\n",
       " {'output': [{'response': [{'context': 'In fiscal 2023, Vietnam, Indonesia, and China constituted majority of NIKE Brand footwear production with 50%, 27%, and 18% respectively, along with four contract manufacturers responsible for over 10% each and operating 291 finished goods apparel factories in 31 countries.',\n",
       "      'summary': \"NIKE's footwear production locations for fiscal 2023 were primarily in Vietnam, Indonesia, and China, with over half of production managed by four contract manufacturers operating across 31 countries.\"}],\n",
       "    'error': 'No errors.'}],\n",
       "  'root': <uniflow.node.node.Node at 0x1573301f0>},\n",
       " {'output': [{'response': [{'context': \"of total NIKE Brand apparel, respectively. For fiscal 2023, one apparel contract manufacturer accounted for more than 10% of \\napparel production, and the top five contract manufacturers in the aggregate accounted for approximately 52% of NIKE Brand \\napparel production.\\nNIKE's contract manufacturers buy raw materials for the manufacturing of our footwear, apparel and equipment products. Most \\nraw materials are available and purchased by those contract manufacturers in the countries where manufact\",\n",
       "      'summary': 'NIKE relies heavily on contract manufacturers for the production of its apparel, with the top five manufacturers accounting for over half of its apparel production.'}],\n",
       "    'error': 'No errors.'}],\n",
       "  'root': <uniflow.node.node.Node at 0x15735b5b0>},\n",
       " {'output': [{'response': [{'context': 'We monitor protectionist trends and developments throughout the world that may materially impact our industry, and we engage in administrative and judicial processes to mitigate trade restrictions. We are actively monitoring actions that may result in additional anti-dumping measures and could affect our industry. We are also monitoring for and advocating against other impediments that may limit or delay customs clearance for imports of footwear, apparel and equipment. NIKE also advocates f',\n",
       "      'summary': 'NIKE monitors protectionist trends globally and engages in administrative and judicial processes to mitigate trade restrictions that could impact the import of footwear, apparel, and equipment.'}],\n",
       "    'error': 'No errors.'}],\n",
       "  'root': <uniflow.node.node.Node at 0x15735b4c0>},\n",
       " {'output': [{'response': [{'context': 'Our international operations are also subject to compliance with the U.S . Foreign Corrupt Practices Act (the \"FCPA\"), and other \\nanti-bribery laws applicable to our operations. We source a significant portion of our products from, and have important consumer \\nmarkets, outside of the United States. We have an ethics and compliance programto address compliance with the FCPA and \\nsimilar laws by us, our employees, agents, suppliers and other partners.  Refer to Item 1A. Risk Factors for additiona',\n",
       "      'summary': 'International operations are subject to adherence with the FCPA and anti-bribery laws, necessitating the implementation of an ethics and compliance program to address compliance guidelines for all relevant parties.'}],\n",
       "    'error': 'No errors.'}],\n",
       "  'root': <uniflow.node.node.Node at 0x1573309d0>},\n",
       " {'output': [{'response': [{'context': 'Our success relies on design, research, and development, production, and marketing supported byintellectual property rights such as trademarks, patents, copyrights, and trade secrets in the US and some foreign countries.',\n",
       "      'summary': 'Our success depends on various capabilities such as design, research and development, production, and marketing, all of which are supported by intellectual property rights such as trademarks, patents, copyrights, and trade secrets.'}],\n",
       "    'error': 'No errors.'}],\n",
       "  'root': <uniflow.node.node.Node at 0x15735af80>},\n",
       " {'output': [{'response': [{'context': 'HUMAN CAPITAL RESOURCES\\nAt NIKE, we consider the strength and effective management of our workforce to be essential to the ongoing success of our \\nbusiness. We believe that it is important to attract, develop and retain a diverse and engaged workforce at all levels of our \\nbusiness and that such a workforce fosters creativity and accelerates innovation. W e are focused on building an increasingly \\ndiverse talent pipeline that reflects our consumers, athletes and the communities we serve.\\nCULTURE',\n",
       "      'summary': 'NIKE emphasizes the importance of managing a diverse and engaged workforce in order to drive innovation and connect with consumers and community.'}],\n",
       "    'error': 'No errors.'}],\n",
       "  'root': <uniflow.node.node.Node at 0x15735aec0>},\n",
       " {'output': [{'response': [{'context': 'information and consultation on certain subsidiary decisions) or by organizations similar to a union. In certain E uropean countries, \\nwe are required by local law to enter into, and/or comply with, industry-wide or national collective bargaining agreements. NIK E \\nhas never experienced a material interruption of operations due to labor disagreements.\\nDIVERSITY, EQUITY AND INCLUSION\\nDiversity, equity and inclusion (\"DE&I\") is a strategic priority for NIKE and we are committed to having an increa',\n",
       "      'summary': 'NIKE is committed to diversity, equity, and inclusion as a strategic priority, while complying with industry-wide or national collective bargaining agreements in certain European countries.'}],\n",
       "    'error': 'No errors.'}],\n",
       "  'root': <uniflow.node.node.Node at 0x15735ae00>},\n",
       " {'output': [{'response': [{'context': 'Our DE&I focus extends beyond our workforce and includes our communities, which we support in a number of ways. We have committed to investments that aim to address racial inequality and improve diversity and representation in our communities. We also are leveraging our global scale to accelerate business diversity, including investing in business training programs for women and increasing the proportion of services supplied by minority-owned businesses.',\n",
       "      'summary': 'NIKE is prioritizing investments to support diversity and representation in communities, as well as accelerating business diversity through training programs for women and increasing support for minority-owned businesses.'}],\n",
       "    'error': 'No errors.'}],\n",
       "  'root': <uniflow.node.node.Node at 0x15735ad40>}]"
      ]
     },
     "execution_count": 10,
     "metadata": {},
     "output_type": "execute_result"
    }
   ],
   "source": [
    "output"
   ]
  },
  {
   "cell_type": "markdown",
   "metadata": {},
   "source": [
    "### Process the output"
   ]
  },
  {
   "cell_type": "code",
   "execution_count": 11,
   "metadata": {},
   "outputs": [
    {
     "data": {
      "text/html": [
       "<div>\n",
       "<style scoped>\n",
       "    .dataframe tbody tr th:only-of-type {\n",
       "        vertical-align: middle;\n",
       "    }\n",
       "\n",
       "    .dataframe tbody tr th {\n",
       "        vertical-align: top;\n",
       "    }\n",
       "\n",
       "    .dataframe thead th {\n",
       "        text-align: right;\n",
       "    }\n",
       "</style>\n",
       "<table border=\"1\" class=\"dataframe\">\n",
       "  <thead>\n",
       "    <tr style=\"text-align: right;\">\n",
       "      <th></th>\n",
       "      <th>Context</th>\n",
       "      <th>Summaries</th>\n",
       "    </tr>\n",
       "  </thead>\n",
       "  <tbody>\n",
       "    <tr>\n",
       "      <th>0</th>\n",
       "      <td>We also offer interactive consumer services and experiences as well as digital products through our digital platforms, including \\nfitness and activity apps; sport, fitness and wellness content; and digital services and features in retail stores that enhance the \\nconsumer experience.\\nSALES AND MARKETING\\nWe experience moderate fluctuations in aggregate sales volume during the year. Historically, revenues in the first and fourth \\nfiscal quarters have slightly exceeded those in the second and third</td>\n",
       "      <td>Revenue fluctuations are experienced throughout the year, with revenues in the first and fourth fiscal quarters slightly surpassing those in the second and third.</td>\n",
       "    </tr>\n",
       "    <tr>\n",
       "      <th>1</th>\n",
       "      <td>INTERNATIONAL MARKETS\\nFor fiscal 2023, non-U.S. NIKE Brand and Converse sales accounted for approximately 57% of total revenues, compared to 60% \\nand 61% for fiscal 2022 and fiscal 2021, respectively. We sell our products to retail accounts through our own NIKE Direct \\noperations and through a mix of independent distributors, licensees and sales representatives around the world. W e sell to \\nthousands of retail accounts and ship products from 67 distribution centers outside of the United States.</td>\n",
       "      <td>NIKE's non-U.S sales accounted for 57% of total revenues in fiscal 2023, demonstrating a slight decrease compared to previous fiscal years, and the company operates worldwide through various sales channels.</td>\n",
       "    </tr>\n",
       "    <tr>\n",
       "      <th>2</th>\n",
       "      <td>In fiscal 2023, Vietnam, Indonesia, and China constituted majority of NIKE Brand footwear production with 50%, 27%, and 18% respectively, along with four contract manufacturers responsible for over 10% each and operating 291 finished goods apparel factories in 31 countries.</td>\n",
       "      <td>NIKE's footwear production locations for fiscal 2023 were primarily in Vietnam, Indonesia, and China, with over half of production managed by four contract manufacturers operating across 31 countries.</td>\n",
       "    </tr>\n",
       "    <tr>\n",
       "      <th>3</th>\n",
       "      <td>of total NIKE Brand apparel, respectively. For fiscal 2023, one apparel contract manufacturer accounted for more than 10% of \\napparel production, and the top five contract manufacturers in the aggregate accounted for approximately 52% of NIKE Brand \\napparel production.\\nNIKE's contract manufacturers buy raw materials for the manufacturing of our footwear, apparel and equipment products. Most \\nraw materials are available and purchased by those contract manufacturers in the countries where manufact</td>\n",
       "      <td>NIKE relies heavily on contract manufacturers for the production of its apparel, with the top five manufacturers accounting for over half of its apparel production.</td>\n",
       "    </tr>\n",
       "    <tr>\n",
       "      <th>4</th>\n",
       "      <td>We monitor protectionist trends and developments throughout the world that may materially impact our industry, and we engage in administrative and judicial processes to mitigate trade restrictions. We are actively monitoring actions that may result in additional anti-dumping measures and could affect our industry. We are also monitoring for and advocating against other impediments that may limit or delay customs clearance for imports of footwear, apparel and equipment. NIKE also advocates f</td>\n",
       "      <td>NIKE monitors protectionist trends globally and engages in administrative and judicial processes to mitigate trade restrictions that could impact the import of footwear, apparel, and equipment.</td>\n",
       "    </tr>\n",
       "    <tr>\n",
       "      <th>5</th>\n",
       "      <td>Our international operations are also subject to compliance with the U.S . Foreign Corrupt Practices Act (the \"FCPA\"), and other \\nanti-bribery laws applicable to our operations. We source a significant portion of our products from, and have important consumer \\nmarkets, outside of the United States. We have an ethics and compliance programto address compliance with the FCPA and \\nsimilar laws by us, our employees, agents, suppliers and other partners.  Refer to Item 1A. Risk Factors for additiona</td>\n",
       "      <td>International operations are subject to adherence with the FCPA and anti-bribery laws, necessitating the implementation of an ethics and compliance program to address compliance guidelines for all relevant parties.</td>\n",
       "    </tr>\n",
       "    <tr>\n",
       "      <th>6</th>\n",
       "      <td>Our success relies on design, research, and development, production, and marketing supported byintellectual property rights such as trademarks, patents, copyrights, and trade secrets in the US and some foreign countries.</td>\n",
       "      <td>Our success depends on various capabilities such as design, research and development, production, and marketing, all of which are supported by intellectual property rights such as trademarks, patents, copyrights, and trade secrets.</td>\n",
       "    </tr>\n",
       "    <tr>\n",
       "      <th>7</th>\n",
       "      <td>HUMAN CAPITAL RESOURCES\\nAt NIKE, we consider the strength and effective management of our workforce to be essential to the ongoing success of our \\nbusiness. We believe that it is important to attract, develop and retain a diverse and engaged workforce at all levels of our \\nbusiness and that such a workforce fosters creativity and accelerates innovation. W e are focused on building an increasingly \\ndiverse talent pipeline that reflects our consumers, athletes and the communities we serve.\\nCULTURE</td>\n",
       "      <td>NIKE emphasizes the importance of managing a diverse and engaged workforce in order to drive innovation and connect with consumers and community.</td>\n",
       "    </tr>\n",
       "    <tr>\n",
       "      <th>8</th>\n",
       "      <td>information and consultation on certain subsidiary decisions) or by organizations similar to a union. In certain E uropean countries, \\nwe are required by local law to enter into, and/or comply with, industry-wide or national collective bargaining agreements. NIK E \\nhas never experienced a material interruption of operations due to labor disagreements.\\nDIVERSITY, EQUITY AND INCLUSION\\nDiversity, equity and inclusion (\"DE&amp;I\") is a strategic priority for NIKE and we are committed to having an increa</td>\n",
       "      <td>NIKE is committed to diversity, equity, and inclusion as a strategic priority, while complying with industry-wide or national collective bargaining agreements in certain European countries.</td>\n",
       "    </tr>\n",
       "    <tr>\n",
       "      <th>9</th>\n",
       "      <td>Our DE&amp;I focus extends beyond our workforce and includes our communities, which we support in a number of ways. We have committed to investments that aim to address racial inequality and improve diversity and representation in our communities. We also are leveraging our global scale to accelerate business diversity, including investing in business training programs for women and increasing the proportion of services supplied by minority-owned businesses.</td>\n",
       "      <td>NIKE is prioritizing investments to support diversity and representation in communities, as well as accelerating business diversity through training programs for women and increasing support for minority-owned businesses.</td>\n",
       "    </tr>\n",
       "  </tbody>\n",
       "</table>\n",
       "</div>"
      ],
      "text/plain": [
       "                                                                                                                                                                                                                                                                                                                                                                                                                                                                                                                     Context                                                                                                                                                                                                                                Summaries\n",
       "0   We also offer interactive consumer services and experiences as well as digital products through our digital platforms, including \\nfitness and activity apps; sport, fitness and wellness content; and digital services and features in retail stores that enhance the \\nconsumer experience.\\nSALES AND MARKETING\\nWe experience moderate fluctuations in aggregate sales volume during the year. Historically, revenues in the first and fourth \\nfiscal quarters have slightly exceeded those in the second and third                                                                       Revenue fluctuations are experienced throughout the year, with revenues in the first and fourth fiscal quarters slightly surpassing those in the second and third.\n",
       "1   INTERNATIONAL MARKETS\\nFor fiscal 2023, non-U.S. NIKE Brand and Converse sales accounted for approximately 57% of total revenues, compared to 60% \\nand 61% for fiscal 2022 and fiscal 2021, respectively. We sell our products to retail accounts through our own NIKE Direct \\noperations and through a mix of independent distributors, licensees and sales representatives around the world. W e sell to \\nthousands of retail accounts and ship products from 67 distribution centers outside of the United States.                           NIKE's non-U.S sales accounted for 57% of total revenues in fiscal 2023, demonstrating a slight decrease compared to previous fiscal years, and the company operates worldwide through various sales channels.\n",
       "2                                                                                                                                                                                                                                         In fiscal 2023, Vietnam, Indonesia, and China constituted majority of NIKE Brand footwear production with 50%, 27%, and 18% respectively, along with four contract manufacturers responsible for over 10% each and operating 291 finished goods apparel factories in 31 countries.                                 NIKE's footwear production locations for fiscal 2023 were primarily in Vietnam, Indonesia, and China, with over half of production managed by four contract manufacturers operating across 31 countries.\n",
       "3   of total NIKE Brand apparel, respectively. For fiscal 2023, one apparel contract manufacturer accounted for more than 10% of \\napparel production, and the top five contract manufacturers in the aggregate accounted for approximately 52% of NIKE Brand \\napparel production.\\nNIKE's contract manufacturers buy raw materials for the manufacturing of our footwear, apparel and equipment products. Most \\nraw materials are available and purchased by those contract manufacturers in the countries where manufact                                                                     NIKE relies heavily on contract manufacturers for the production of its apparel, with the top five manufacturers accounting for over half of its apparel production.\n",
       "4            We monitor protectionist trends and developments throughout the world that may materially impact our industry, and we engage in administrative and judicial processes to mitigate trade restrictions. We are actively monitoring actions that may result in additional anti-dumping measures and could affect our industry. We are also monitoring for and advocating against other impediments that may limit or delay customs clearance for imports of footwear, apparel and equipment. NIKE also advocates f                                        NIKE monitors protectionist trends globally and engages in administrative and judicial processes to mitigate trade restrictions that could impact the import of footwear, apparel, and equipment.\n",
       "5     Our international operations are also subject to compliance with the U.S . Foreign Corrupt Practices Act (the \"FCPA\"), and other \\nanti-bribery laws applicable to our operations. We source a significant portion of our products from, and have important consumer \\nmarkets, outside of the United States. We have an ethics and compliance programto address compliance with the FCPA and \\nsimilar laws by us, our employees, agents, suppliers and other partners.  Refer to Item 1A. Risk Factors for additiona                   International operations are subject to adherence with the FCPA and anti-bribery laws, necessitating the implementation of an ethics and compliance program to address compliance guidelines for all relevant parties.\n",
       "6                                                                                                                                                                                                                                                                                               Our success relies on design, research, and development, production, and marketing supported byintellectual property rights such as trademarks, patents, copyrights, and trade secrets in the US and some foreign countries.  Our success depends on various capabilities such as design, research and development, production, and marketing, all of which are supported by intellectual property rights such as trademarks, patents, copyrights, and trade secrets.\n",
       "7  HUMAN CAPITAL RESOURCES\\nAt NIKE, we consider the strength and effective management of our workforce to be essential to the ongoing success of our \\nbusiness. We believe that it is important to attract, develop and retain a diverse and engaged workforce at all levels of our \\nbusiness and that such a workforce fosters creativity and accelerates innovation. W e are focused on building an increasingly \\ndiverse talent pipeline that reflects our consumers, athletes and the communities we serve.\\nCULTURE                                                                                        NIKE emphasizes the importance of managing a diverse and engaged workforce in order to drive innovation and connect with consumers and community.\n",
       "8   information and consultation on certain subsidiary decisions) or by organizations similar to a union. In certain E uropean countries, \\nwe are required by local law to enter into, and/or comply with, industry-wide or national collective bargaining agreements. NIK E \\nhas never experienced a material interruption of operations due to labor disagreements.\\nDIVERSITY, EQUITY AND INCLUSION\\nDiversity, equity and inclusion (\"DE&I\") is a strategic priority for NIKE and we are committed to having an increa                                            NIKE is committed to diversity, equity, and inclusion as a strategic priority, while complying with industry-wide or national collective bargaining agreements in certain European countries.\n",
       "9                                                 Our DE&I focus extends beyond our workforce and includes our communities, which we support in a number of ways. We have committed to investments that aim to address racial inequality and improve diversity and representation in our communities. We also are leveraging our global scale to accelerate business diversity, including investing in business training programs for women and increasing the proportion of services supplied by minority-owned businesses.            NIKE is prioritizing investments to support diversity and representation in communities, as well as accelerating business diversity through training programs for women and increasing support for minority-owned businesses."
      ]
     },
     "execution_count": 11,
     "metadata": {},
     "output_type": "execute_result"
    }
   ],
   "source": [
    "# Extracting context, question, and answer into a DataFrame\n",
    "contexts = []\n",
    "summaries = []\n",
    "\n",
    "for item in output:\n",
    "    for i in item.get('output', []):\n",
    "        for response in i.get('response', []):\n",
    "            if any(key not in response for key in ['context', 'summary']):\n",
    "                print(\"Missing context or summary in response:\", response)\n",
    "                continue\n",
    "            contexts.append(response['context'])\n",
    "            summaries.append(response['summary'])\n",
    "\n",
    "# Set display options\n",
    "pd.set_option('display.max_colwidth', None)  # or use a specific width like 50\n",
    "pd.set_option('display.width', 1000)\n",
    "\n",
    "df = pd.DataFrame({\n",
    "    'Context': contexts,\n",
    "    'Summaries': summaries,\n",
    "})\n",
    "\n",
    "df"
   ]
  },
  {
   "cell_type": "code",
   "execution_count": 14,
   "id": "72a570e6",
   "metadata": {},
   "outputs": [],
   "source": [
    "output_dir = 'data/output'\n",
    "\n",
    "if not os.path.exists(output_dir):\n",
    "    os.makedirs(output_dir)\n",
    "\n",
    "df.to_csv(f\"{output_dir}/Nike_10k_Summaries.csv\", index=False)"
   ]
  }
 ],
 "metadata": {
  "kernelspec": {
   "display_name": "self-instruct-ft",
   "language": "python",
   "name": "python3"
  },
  "language_info": {
   "codemirror_mode": {
    "name": "ipython",
    "version": 3
   },
   "file_extension": ".py",
   "mimetype": "text/x-python",
   "name": "python",
   "nbconvert_exporter": "python",
   "pygments_lexer": "ipython3",
   "version": "3.10.13"
  }
 },
 "nbformat": 4,
 "nbformat_minor": 5
}
