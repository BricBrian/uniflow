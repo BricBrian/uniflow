{
 "cells": [
  {
   "cell_type": "markdown",
   "metadata": {},
   "source": [
    "# Notebook for ModelFlow \n",
    "## Update system path"
   ]
  },
  {
   "cell_type": "code",
   "execution_count": 5,
   "metadata": {},
   "outputs": [],
   "source": [
    "%reload_ext autoreload\n",
    "%autoreload 2\n",
    "\n",
    "import sys\n",
    "\n",
    "sys.path.append(\".\")\n",
    "sys.path.append(\"..\")\n",
    "sys.path.append(\"../..\")"
   ]
  },
  {
   "cell_type": "markdown",
   "metadata": {},
   "source": [
    "## Import dependency"
   ]
  },
  {
   "cell_type": "code",
   "execution_count": 6,
   "metadata": {},
   "outputs": [
    {
     "data": {
      "text/plain": [
       "True"
      ]
     },
     "execution_count": 6,
     "metadata": {},
     "output_type": "execute_result"
    }
   ],
   "source": [
    "from dotenv import load_dotenv\n",
    "from IPython.display import display\n",
    "\n",
    "from uniflow.client import Client\n",
    "from uniflow.flow.flow_factory import FlowFactory\n",
    "from uniflow.viz import Viz\n",
    "\n",
    "load_dotenv()"
   ]
  },
  {
   "cell_type": "code",
   "execution_count": 7,
   "metadata": {},
   "outputs": [
    {
     "data": {
      "text/plain": [
       "['LinearFlow',\n",
       " 'ModelFlow',\n",
       " 'OpenAIJsonModelFlow',\n",
       " 'DataGenFlow',\n",
       " 'DataGenTextFlow',\n",
       " 'TextPlusDataGenFlow',\n",
       " 'SelfInstructedGenFlow',\n",
       " 'PDFSelfInstructedGenFlow']"
      ]
     },
     "execution_count": 7,
     "metadata": {},
     "output_type": "execute_result"
    }
   ],
   "source": [
    "FlowFactory.list()"
   ]
  },
  {
   "cell_type": "markdown",
   "metadata": {},
   "source": [
    "## Run model flow to generate data"
   ]
  },
  {
   "cell_type": "code",
   "execution_count": 8,
   "metadata": {},
   "outputs": [],
   "source": [
    "data = [{\n",
    "    \"instruction\": \"\"\"Generate one question and its corresponding answer based on the context. Following the format of the examples below to include context, question, and answer in the response.\"\"\",\n",
    "    \"examples\": [\n",
    "        {\n",
    "            \"context\": \"\"\"The quick brown fox jumps over the lazy dog.\"\"\",\n",
    "            \"question\": \"\"\"What is the color of the fox?\"\"\",\n",
    "            \"answer\": \"\"\"brown.\"\"\"\n",
    "        },\n",
    "        {\n",
    "            \"context\": \"\"\"The quick brown fox jumps over the lazy black dog.\"\"\",\n",
    "            \"question\": \"\"\"What is the color of the dog?\"\"\",\n",
    "            \"answer\": \"\"\"black.\"\"\"\n",
    "        },\n",
    "        {\n",
    "            \"context\": \"\"\"It was a sunny day and the sky color is blue.\"\"\",\n",
    "            \"question\": \"\"\"\"\"\",\n",
    "            \"answer\": \"\"\"\"\"\",\n",
    "        }\n",
    "    ],\n",
    "},\n",
    "        {\n",
    "    \"instruction\": \"\"\"Generate one question and its corresponding answer based on the context. Following the format of the examples below to include context, question, and answer in the response.\"\"\",\n",
    "    \"examples\": [\n",
    "        {\n",
    "            \"context\": \"\"\"The quick brown fox jumps over the lazy dog.\"\"\",\n",
    "            \"question\": \"\"\"What is the color of the fox?\"\"\",\n",
    "            \"answer\": \"\"\"brown.\"\"\"\n",
    "        },\n",
    "        {\n",
    "            \"context\": \"\"\"The quick brown fox jumps over the lazy black dog.\"\"\",\n",
    "            \"question\": \"\"\"What is the color of the dog?\"\"\",\n",
    "            \"answer\": \"\"\"black.\"\"\"\n",
    "        },\n",
    "        {\n",
    "            \"context\": \"\"\"My name is bobby and I am a talent software engineer working on AI/ML.\"\"\",\n",
    "            \"question\": \"\"\"\"\"\",\n",
    "            \"answer\": \"\"\"\"\"\",\n",
    "        }\n",
    "    ],\n",
    "}]\n"
   ]
  },
  {
   "cell_type": "code",
   "execution_count": 9,
   "metadata": {},
   "outputs": [],
   "source": [
    "client = Client(\"ModelFlow\")"
   ]
  },
  {
   "cell_type": "code",
   "execution_count": 10,
   "metadata": {},
   "outputs": [],
   "source": [
    "output = client.run(data)"
   ]
  },
  {
   "cell_type": "code",
   "execution_count": 11,
   "metadata": {},
   "outputs": [
    {
     "data": {
      "text/plain": [
       "[{'output': [[{'context': 'It was a sunny day and the sky color is blue.',\n",
       "     'question': 'What is the color of the sky?',\n",
       "     'answer': 'blue.'},\n",
       "    {'context': 'It was a sunny day and the sky color is blue.',\n",
       "     'question': 'What color was the sky on that sunny day?',\n",
       "     'answer': 'blue.'},\n",
       "    {'context': 'It was a sunny day and the sky color is blue.',\n",
       "     'question': 'What color was the sky?',\n",
       "     'answer': 'blue.'}]],\n",
       "  'root': <uniflow.node.node.Node at 0x2860d60b0>},\n",
       " {'output': [[{'context': 'My name is bobby and I am a talented software engineer working on AI/ML.',\n",
       "     'question': \"What is Bobby's profession?\",\n",
       "     'answer': 'software engineer working on AI/ML.'},\n",
       "    {'context': 'My name is bobby and I am a talented software engineer working on AI/ML.',\n",
       "     'question': 'What type of software engineer is Bobby?',\n",
       "     'answer': 'talented software engineer.'},\n",
       "    {'context': 'My name is bobby and I am a talented software engineer working on AI/ML.',\n",
       "     'question': 'What field of technology do you specialize in as a software engineer?',\n",
       "     'answer': 'AI/ML.'}]],\n",
       "  'root': <uniflow.node.node.Node at 0x2860d7a30>}]"
      ]
     },
     "execution_count": 11,
     "metadata": {},
     "output_type": "execute_result"
    }
   ],
   "source": [
    "output"
   ]
  },
  {
   "cell_type": "markdown",
   "metadata": {},
   "source": [
    "## Plot model flow graph"
   ]
  },
  {
   "cell_type": "code",
   "execution_count": 12,
   "metadata": {},
   "outputs": [],
   "source": [
    "graph = Viz.to_digraph(output[0]['root'])"
   ]
  },
  {
   "cell_type": "code",
   "execution_count": 13,
   "metadata": {},
   "outputs": [
    {
     "data": {
      "image/svg+xml": [
       "<?xml version=\"1.0\" encoding=\"UTF-8\" standalone=\"no\"?>\n",
       "<!DOCTYPE svg PUBLIC \"-//W3C//DTD SVG 1.1//EN\"\n",
       " \"http://www.w3.org/Graphics/SVG/1.1/DTD/svg11.dtd\">\n",
       "<!-- Generated by graphviz version 9.0.0 (20230911.1827)\n",
       " -->\n",
       "<!-- Pages: 1 -->\n",
       "<svg width=\"193pt\" height=\"116pt\"\n",
       " viewBox=\"0.00 0.00 192.59 116.00\" xmlns=\"http://www.w3.org/2000/svg\" xmlns:xlink=\"http://www.w3.org/1999/xlink\">\n",
       "<g id=\"graph0\" class=\"graph\" transform=\"scale(1 1) rotate(0) translate(4 112)\">\n",
       "<polygon fill=\"white\" stroke=\"none\" points=\"-4,4 -4,-112 188.59,-112 188.59,4 -4,4\"/>\n",
       "<!-- root -->\n",
       "<g id=\"node1\" class=\"node\">\n",
       "<title>root</title>\n",
       "<ellipse fill=\"none\" stroke=\"black\" cx=\"92.3\" cy=\"-90\" rx=\"27\" ry=\"18\"/>\n",
       "<text text-anchor=\"middle\" x=\"92.3\" y=\"-84.95\" font-family=\"Times,serif\" font-size=\"14.00\">root</text>\n",
       "</g>\n",
       "<!-- thread_0/model_op_1 -->\n",
       "<g id=\"node2\" class=\"node\">\n",
       "<title>thread_0/model_op_1</title>\n",
       "<ellipse fill=\"none\" stroke=\"black\" cx=\"92.3\" cy=\"-18\" rx=\"92.3\" ry=\"18\"/>\n",
       "<text text-anchor=\"middle\" x=\"92.3\" y=\"-12.95\" font-family=\"Times,serif\" font-size=\"14.00\">thread_0/model_op_1</text>\n",
       "</g>\n",
       "<!-- root&#45;&gt;thread_0/model_op_1 -->\n",
       "<g id=\"edge1\" class=\"edge\">\n",
       "<title>root&#45;&gt;thread_0/model_op_1</title>\n",
       "<path fill=\"none\" stroke=\"black\" d=\"M92.3,-71.7C92.3,-64.41 92.3,-55.73 92.3,-47.54\"/>\n",
       "<polygon fill=\"black\" stroke=\"black\" points=\"95.8,-47.62 92.3,-37.62 88.8,-47.62 95.8,-47.62\"/>\n",
       "</g>\n",
       "</g>\n",
       "</svg>\n"
      ],
      "text/plain": [
       "<graphviz.graphs.Digraph at 0x103e3c8e0>"
      ]
     },
     "metadata": {},
     "output_type": "display_data"
    }
   ],
   "source": [
    "display(graph)"
   ]
  },
  {
   "cell_type": "code",
   "execution_count": 14,
   "metadata": {},
   "outputs": [],
   "source": [
    "graph = Viz.to_digraph(output[1]['root'])"
   ]
  },
  {
   "cell_type": "code",
   "execution_count": 15,
   "metadata": {},
   "outputs": [
    {
     "data": {
      "image/svg+xml": [
       "<?xml version=\"1.0\" encoding=\"UTF-8\" standalone=\"no\"?>\n",
       "<!DOCTYPE svg PUBLIC \"-//W3C//DTD SVG 1.1//EN\"\n",
       " \"http://www.w3.org/Graphics/SVG/1.1/DTD/svg11.dtd\">\n",
       "<!-- Generated by graphviz version 9.0.0 (20230911.1827)\n",
       " -->\n",
       "<!-- Pages: 1 -->\n",
       "<svg width=\"193pt\" height=\"116pt\"\n",
       " viewBox=\"0.00 0.00 192.59 116.00\" xmlns=\"http://www.w3.org/2000/svg\" xmlns:xlink=\"http://www.w3.org/1999/xlink\">\n",
       "<g id=\"graph0\" class=\"graph\" transform=\"scale(1 1) rotate(0) translate(4 112)\">\n",
       "<polygon fill=\"white\" stroke=\"none\" points=\"-4,4 -4,-112 188.59,-112 188.59,4 -4,4\"/>\n",
       "<!-- root -->\n",
       "<g id=\"node1\" class=\"node\">\n",
       "<title>root</title>\n",
       "<ellipse fill=\"none\" stroke=\"black\" cx=\"92.3\" cy=\"-90\" rx=\"27\" ry=\"18\"/>\n",
       "<text text-anchor=\"middle\" x=\"92.3\" y=\"-84.95\" font-family=\"Times,serif\" font-size=\"14.00\">root</text>\n",
       "</g>\n",
       "<!-- thread_1/model_op_1 -->\n",
       "<g id=\"node2\" class=\"node\">\n",
       "<title>thread_1/model_op_1</title>\n",
       "<ellipse fill=\"none\" stroke=\"black\" cx=\"92.3\" cy=\"-18\" rx=\"92.3\" ry=\"18\"/>\n",
       "<text text-anchor=\"middle\" x=\"92.3\" y=\"-12.95\" font-family=\"Times,serif\" font-size=\"14.00\">thread_1/model_op_1</text>\n",
       "</g>\n",
       "<!-- root&#45;&gt;thread_1/model_op_1 -->\n",
       "<g id=\"edge1\" class=\"edge\">\n",
       "<title>root&#45;&gt;thread_1/model_op_1</title>\n",
       "<path fill=\"none\" stroke=\"black\" d=\"M92.3,-71.7C92.3,-64.41 92.3,-55.73 92.3,-47.54\"/>\n",
       "<polygon fill=\"black\" stroke=\"black\" points=\"95.8,-47.62 92.3,-37.62 88.8,-47.62 95.8,-47.62\"/>\n",
       "</g>\n",
       "</g>\n",
       "</svg>\n"
      ],
      "text/plain": [
       "<graphviz.graphs.Digraph at 0x103e3d480>"
      ]
     },
     "metadata": {},
     "output_type": "display_data"
    }
   ],
   "source": [
    "display(graph)"
   ]
  },
  {
   "cell_type": "code",
   "execution_count": null,
   "metadata": {},
   "outputs": [],
   "source": []
  }
 ],
 "metadata": {
  "kernelspec": {
   "display_name": "uniflow",
   "language": "python",
   "name": "python3"
  },
  "language_info": {
   "codemirror_mode": {
    "name": "ipython",
    "version": 3
   },
   "file_extension": ".py",
   "mimetype": "text/x-python",
   "name": "python",
   "nbconvert_exporter": "python",
   "pygments_lexer": "ipython3",
   "version": "3.10.13"
  }
 },
 "nbformat": 4,
 "nbformat_minor": 2
}
