{
 "cells": [
  {
   "cell_type": "markdown",
   "id": "7cbc4c4a",
   "metadata": {},
   "source": [
    "# Example of generating QAs for an ML book (using self-instruct)\n",
    "Source: https://d2l.ai/chapter_appendix-mathematics-for-deep-learning/information-theory.html\n",
    "\n",
    "## Load packages"
   ]
  },
  {
   "cell_type": "code",
   "execution_count": 1,
   "metadata": {},
   "outputs": [],
   "source": [
    "%reload_ext autoreload\n",
    "%autoreload 2\n",
    "\n",
    "import sys\n",
    "\n",
    "sys.path.append(\".\")\n",
    "sys.path.append(\"..\")\n",
    "sys.path.append(\"../..\")"
   ]
  },
  {
   "cell_type": "code",
   "execution_count": 2,
   "id": "8d84dd70",
   "metadata": {},
   "outputs": [
    {
     "name": "stderr",
     "output_type": "stream",
     "text": [
      "/Users/lingjiekong/anaconda3/envs/uniflow/lib/python3.10/site-packages/tqdm/auto.py:21: TqdmWarning: IProgress not found. Please update jupyter and ipywidgets. See https://ipywidgets.readthedocs.io/en/stable/user_install.html\n",
      "  from .autonotebook import tqdm as notebook_tqdm\n"
     ]
    }
   ],
   "source": [
    "import os\n",
    "import pandas as pd\n",
    "from uniflow.client import Client\n",
    "from langchain.document_loaders import UnstructuredHTMLLoader\n"
   ]
  },
  {
   "cell_type": "markdown",
   "id": "cb677037",
   "metadata": {},
   "source": [
    "## Prepare the input data\n",
    "\n",
    "Uncomment any of the html files below as the sample file to build the self-instruct flow."
   ]
  },
  {
   "cell_type": "code",
   "execution_count": 3,
   "id": "a707ef78",
   "metadata": {},
   "outputs": [],
   "source": [
    "#html_file = \"do_things_that_dont_scale.html\" #from http://paulgraham.com/ds.html\n",
    "#html_file = \"makers_schedule_managers_schedule.html\" #from http://www.paulgraham.com/makersschedule.html\n",
    "#html_file = \"life_is_short.html\" #http://www.paulgraham.com/vb.html\n",
    "html_file = \"22.11_information-theory.html\""
   ]
  },
  {
   "cell_type": "markdown",
   "id": "4b177df1",
   "metadata": {},
   "source": [
    "Set current directory and input data directory."
   ]
  },
  {
   "cell_type": "code",
   "execution_count": 4,
   "id": "092b355a",
   "metadata": {},
   "outputs": [],
   "source": [
    "dir_cur = os.getcwd()\n",
    "input_file = os.path.join(f\"{dir_cur}/data/raw_input/\", html_file)"
   ]
  },
  {
   "cell_type": "code",
   "execution_count": 5,
   "metadata": {},
   "outputs": [],
   "source": [
    "loader = UnstructuredHTMLLoader(input_file)\n",
    "pages = loader.load_and_split()"
   ]
  },
  {
   "cell_type": "markdown",
   "metadata": {},
   "source": [
    "## Prepare input dataset"
   ]
  },
  {
   "cell_type": "code",
   "execution_count": 12,
   "metadata": {},
   "outputs": [],
   "source": [
    "data = [{\"context\": p} for p in pages[2].page_content.split(\"\\n\\n\") if len(p) > 200]\n"
   ]
  },
  {
   "cell_type": "code",
   "execution_count": 13,
   "metadata": {},
   "outputs": [
    {
     "data": {
      "text/plain": [
       "[{'context': 'Any notion of information we develop must conform to this intuition.\\nIndeed, in the next sections we will learn how to compute that these\\nevents have \\\\(0\\\\textrm{ bits}\\\\), \\\\(2\\\\textrm{ bits}\\\\),\\n\\\\(~5.7\\\\textrm{ bits}\\\\), and \\\\(~225.6\\\\textrm{ bits}\\\\) of\\ninformation respectively.'},\n",
       " {'context': 'If we read through these thought experiments, we see a natural idea. As\\na starting point, rather than caring about the knowledge, we may build\\noff the idea that information represents the degree of surprise or the\\nabstract possibility of the event. For example, if we want to describe\\nan unusual event, we need a lot information. For a common event, we may\\nnot need much information.'},\n",
       " {'context': 'In 1948, Claude E. Shannon published A Mathematical Theory of\\nCommunication (Shannon, 1948) establishing the theory of\\ninformation. In his article, Shannon introduced the concept of\\ninformation entropy for the first time. We will begin our journey here.'}]"
      ]
     },
     "execution_count": 13,
     "metadata": {},
     "output_type": "execute_result"
    }
   ],
   "source": [
    "data = data[-3:]\n",
    "data\n"
   ]
  },
  {
   "cell_type": "markdown",
   "metadata": {},
   "source": [
    "## Run ModelFlow"
   ]
  },
  {
   "cell_type": "code",
   "execution_count": 14,
   "metadata": {},
   "outputs": [],
   "source": [
    "client = Client(\"FewShotModelFlow\")"
   ]
  },
  {
   "cell_type": "code",
   "execution_count": 15,
   "metadata": {},
   "outputs": [
    {
     "name": "stderr",
     "output_type": "stream",
     "text": [
      "100%|██████████| 3/3 [00:03<00:00,  1.09s/it]\n"
     ]
    }
   ],
   "source": [
    "output = client.run(data)"
   ]
  },
  {
   "cell_type": "code",
   "execution_count": 16,
   "metadata": {},
   "outputs": [
    {
     "data": {
      "text/plain": [
       "[{'output': [{'response': [{'context': 'Any notion of information we develop must conform to this intuition.\\nIndeed, in the next sections we will learn how to compute that these\\nevents have \\\\(0\\\\textrm{ bits}\\\\), \\\\(2\\\\textrm{ bits}\\\\),\\n\\\\(~5.7\\\\textrm{ bits}\\\\), and \\\\(~225.6\\\\textrm{ bits}\\\\) of\\ninformation respectively.',\n",
       "      'question': 'how much information do the events have in terms of bits?',\n",
       "      'answer': 'the events have 0 bits, 2 bits, 5.7 bits, and 225.6 bits of information respectively.'},\n",
       "     {'context': 'Any notion of information we develop must conform to this intuition.\\nIndeed, in the next sections we will learn how to compute that these\\nevents have \\\\(0\\\\textrm{ bits}\\\\), \\\\(2\\\\textrm{ bits}\\\\),\\n\\\\(~5.7\\\\textrm{ bits}\\\\), and \\\\(~225.6\\\\textrm{ bits}\\\\) of\\ninformation respectively.',\n",
       "      'question': 'the surrounding',\n",
       "      'answer': 'indicates that one event has approximately 5.7 bits of information.'},\n",
       "     {'context': 'Any notion of information we develop must conform to this intuition.\\nIndeed, in the next sections we will learn how to compute that these\\nevents have \\\\(0\\\\textrm{ bits}\\\\), \\\\(2\\\\textrm{ bits}\\\\),\\n\\\\(~5.7\\\\textrm{ bits}\\\\), and \\\\(~225.6\\\\textrm{ bits}\\\\) of\\ninformation respectively.',\n",
       "      'question': 'what is the amount of information for the events described?',\n",
       "      'answer': 'the events have \\\\(0\\\\textrm{ bits}\\\\), \\\\(2\\\\textrm{ bits}\\\\), \\\\(~5.7\\\\textrm{ bits}\\\\), and \\\\(~225.6\\\\textrm{ bits}\\\\) of information respectively.'}],\n",
       "    'error': 'Failed to deserialize 0 examples'}],\n",
       "  'root': <uniflow.node.node.Node at 0x28c4cb580>},\n",
       " {'output': [{'response': [{'context': 'If we read through these thought experiments, we see a natural idea. As\\na starting point, rather than caring about the knowledge, we may build\\noff the idea that information represents the degree of surprise or the\\nabstract possibility of the event. For example, if we want to describe\\nan unusual event, we need a lot information. For a common event, we may\\nnot need much information.',\n",
       "      'question': 'what represents the degree of surprise or the abstract possibility of an event?',\n",
       "      'answer': 'information.'},\n",
       "     {'context': 'If we read through these thought experiments, we see a natural idea. As\\na starting point, rather than caring about the knowledge, we may build\\noff the idea that information represents the degree of surprise or the\\nabstract possibility of the event. For example, if we want to describe\\nan unusual event, we need a lot information. For a common event, we may\\nnot need much information.',\n",
       "      'question': 'what concept do thought experiments propose in describing the degree of surprise or possibility of an event?',\n",
       "      'answer': 'the concept proposes that information represents the degree of surprise or the abstract possibility of the event.'},\n",
       "     {'context': 'If we read through these thought experiments, we see a natural idea. As\\na starting point, rather than caring about the knowledge, we may build\\noff the idea that information represents the degree of surprise or the\\nabstract possibility of the event. For example, if we want to describe\\nan unusual event, we need a lot information. For a common event, we may\\nnot need much information.',\n",
       "      'question': 'what is the relationship between information and surprise in thought experiments?',\n",
       "      'answer': 'information represents the degree of surprise or the abstract possibility of the event in thought experiments.'}],\n",
       "    'error': 'Failed to deserialize 0 examples'}],\n",
       "  'root': <uniflow.node.node.Node at 0x28c4ea020>},\n",
       " {'output': [{'response': [{'context': 'In 1948, Claude E. Shannon published A Mathematical Theory of\\nCommunication (Shannon, 1948) establishing the theory of\\ninformation. In his article, Shannon introduced the concept of\\ninformation entropy for the first time. We will begin our journey here.',\n",
       "      'question': 'who introduced the concept of information entropy for the first time in 1948?',\n",
       "      'answer': 'claude e. shannon.'},\n",
       "     {'context': 'In 1948, Claude E. Shannon published A Mathematical Theory of\\nCommunication (Shannon, 1948) establishing the theory of\\ninformation. In his article, Shannon introduced the concept of\\ninformation entropy for the first time. We will begin our journey here.',\n",
       "      'question': 'who introduced the concept of information entropy in 1948?',\n",
       "      'answer': 'claude e. shannon.'},\n",
       "     {'context': 'In 1948, Claude E. Shannon published A Mathematical Theory of\\nCommunication (Shannon, 1948) establishing the theory of\\ninformation. In his article, Shannon introduced the concept of\\ninformation entropy for the first time. We will begin our journey here.',\n",
       "      'question': 'who published a mathematical theory of communication in 1948?',\n",
       "      'answer': 'claude e. shannon.'}],\n",
       "    'error': 'Failed to deserialize 0 examples'}],\n",
       "  'root': <uniflow.node.node.Node at 0x28c4cb670>}]"
      ]
     },
     "execution_count": 16,
     "metadata": {},
     "output_type": "execute_result"
    }
   ],
   "source": [
    "output"
   ]
  },
  {
   "cell_type": "markdown",
   "metadata": {},
   "source": [
    "## Format result into pandas table"
   ]
  },
  {
   "cell_type": "code",
   "execution_count": 17,
   "metadata": {},
   "outputs": [
    {
     "data": {
      "text/html": [
       "<div>\n",
       "<style scoped>\n",
       "    .dataframe tbody tr th:only-of-type {\n",
       "        vertical-align: middle;\n",
       "    }\n",
       "\n",
       "    .dataframe tbody tr th {\n",
       "        vertical-align: top;\n",
       "    }\n",
       "\n",
       "    .dataframe thead th {\n",
       "        text-align: right;\n",
       "    }\n",
       "</style>\n",
       "<table border=\"1\" class=\"dataframe\">\n",
       "  <thead>\n",
       "    <tr style=\"text-align: right;\">\n",
       "      <th></th>\n",
       "      <th>context</th>\n",
       "      <th>question</th>\n",
       "      <th>answer</th>\n",
       "    </tr>\n",
       "  </thead>\n",
       "  <tbody>\n",
       "    <tr>\n",
       "      <th>0</th>\n",
       "      <td>Any notion of information we develop must conf...</td>\n",
       "      <td>how much information do the events have in ter...</td>\n",
       "      <td>the events have 0 bits, 2 bits, 5.7 bits, and ...</td>\n",
       "    </tr>\n",
       "    <tr>\n",
       "      <th>1</th>\n",
       "      <td>Any notion of information we develop must conf...</td>\n",
       "      <td>the surrounding</td>\n",
       "      <td>indicates that one event has approximately 5.7...</td>\n",
       "    </tr>\n",
       "    <tr>\n",
       "      <th>2</th>\n",
       "      <td>Any notion of information we develop must conf...</td>\n",
       "      <td>what is the amount of information for the even...</td>\n",
       "      <td>the events have \\(0\\textrm{ bits}\\), \\(2\\textr...</td>\n",
       "    </tr>\n",
       "    <tr>\n",
       "      <th>3</th>\n",
       "      <td>If we read through these thought experiments, ...</td>\n",
       "      <td>what represents the degree of surprise or the ...</td>\n",
       "      <td>information.</td>\n",
       "    </tr>\n",
       "    <tr>\n",
       "      <th>4</th>\n",
       "      <td>If we read through these thought experiments, ...</td>\n",
       "      <td>what concept do thought experiments propose in...</td>\n",
       "      <td>the concept proposes that information represen...</td>\n",
       "    </tr>\n",
       "    <tr>\n",
       "      <th>5</th>\n",
       "      <td>If we read through these thought experiments, ...</td>\n",
       "      <td>what is the relationship between information a...</td>\n",
       "      <td>information represents the degree of surprise ...</td>\n",
       "    </tr>\n",
       "    <tr>\n",
       "      <th>6</th>\n",
       "      <td>In 1948, Claude E. Shannon published A Mathema...</td>\n",
       "      <td>who introduced the concept of information entr...</td>\n",
       "      <td>claude e. shannon.</td>\n",
       "    </tr>\n",
       "    <tr>\n",
       "      <th>7</th>\n",
       "      <td>In 1948, Claude E. Shannon published A Mathema...</td>\n",
       "      <td>who introduced the concept of information entr...</td>\n",
       "      <td>claude e. shannon.</td>\n",
       "    </tr>\n",
       "    <tr>\n",
       "      <th>8</th>\n",
       "      <td>In 1948, Claude E. Shannon published A Mathema...</td>\n",
       "      <td>who published a mathematical theory of communi...</td>\n",
       "      <td>claude e. shannon.</td>\n",
       "    </tr>\n",
       "  </tbody>\n",
       "</table>\n",
       "</div>"
      ],
      "text/plain": [
       "                                             context  \\\n",
       "0  Any notion of information we develop must conf...   \n",
       "1  Any notion of information we develop must conf...   \n",
       "2  Any notion of information we develop must conf...   \n",
       "3  If we read through these thought experiments, ...   \n",
       "4  If we read through these thought experiments, ...   \n",
       "5  If we read through these thought experiments, ...   \n",
       "6  In 1948, Claude E. Shannon published A Mathema...   \n",
       "7  In 1948, Claude E. Shannon published A Mathema...   \n",
       "8  In 1948, Claude E. Shannon published A Mathema...   \n",
       "\n",
       "                                            question  \\\n",
       "0  how much information do the events have in ter...   \n",
       "1                                    the surrounding   \n",
       "2  what is the amount of information for the even...   \n",
       "3  what represents the degree of surprise or the ...   \n",
       "4  what concept do thought experiments propose in...   \n",
       "5  what is the relationship between information a...   \n",
       "6  who introduced the concept of information entr...   \n",
       "7  who introduced the concept of information entr...   \n",
       "8  who published a mathematical theory of communi...   \n",
       "\n",
       "                                              answer  \n",
       "0  the events have 0 bits, 2 bits, 5.7 bits, and ...  \n",
       "1  indicates that one event has approximately 5.7...  \n",
       "2  the events have \\(0\\textrm{ bits}\\), \\(2\\textr...  \n",
       "3                                       information.  \n",
       "4  the concept proposes that information represen...  \n",
       "5  information represents the degree of surprise ...  \n",
       "6                                 claude e. shannon.  \n",
       "7                                 claude e. shannon.  \n",
       "8                                 claude e. shannon.  "
      ]
     },
     "execution_count": 17,
     "metadata": {},
     "output_type": "execute_result"
    }
   ],
   "source": [
    "# Extracting context, question, and answer into a DataFrame\n",
    "contexts = []\n",
    "questions = []\n",
    "answers = []\n",
    "\n",
    "for item in output:\n",
    "    for i in item['output']:\n",
    "        for response in i['response']:\n",
    "            contexts.append(response['context'])\n",
    "            questions.append(response['question'])\n",
    "            answers.append(response['answer'])\n",
    "\n",
    "df = pd.DataFrame({\n",
    "    'context': contexts,\n",
    "    'question': questions,\n",
    "    'answer': answers\n",
    "})\n",
    "\n",
    "df"
   ]
  },
  {
   "cell_type": "code",
   "execution_count": null,
   "metadata": {},
   "outputs": [],
   "source": []
  }
 ],
 "metadata": {
  "kernelspec": {
   "display_name": "self-instruct-ft",
   "language": "python",
   "name": "python3"
  },
  "language_info": {
   "codemirror_mode": {
    "name": "ipython",
    "version": 3
   },
   "file_extension": ".py",
   "mimetype": "text/x-python",
   "name": "python",
   "nbconvert_exporter": "python",
   "pygments_lexer": "ipython3",
   "version": "3.10.13"
  }
 },
 "nbformat": 4,
 "nbformat_minor": 5
}
