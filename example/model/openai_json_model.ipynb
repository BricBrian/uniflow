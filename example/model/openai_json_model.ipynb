{
 "cells": [
  {
   "cell_type": "markdown",
   "metadata": {},
   "source": [
    "# Notebook for OpenAIJsonConfig\n",
    "## Update system path"
   ]
  },
  {
   "cell_type": "code",
   "execution_count": 1,
   "metadata": {},
   "outputs": [],
   "source": [
    "%reload_ext autoreload\n",
    "%autoreload 2\n",
    "\n",
    "import sys\n",
    "\n",
    "sys.path.append(\".\")\n",
    "sys.path.append(\"..\")\n",
    "sys.path.append(\"../..\")"
   ]
  },
  {
   "cell_type": "markdown",
   "metadata": {},
   "source": [
    "## Import dependency"
   ]
  },
  {
   "cell_type": "code",
   "execution_count": 2,
   "metadata": {},
   "outputs": [
    {
     "name": "stderr",
     "output_type": "stream",
     "text": [
      "/Users/joseortiz/anaconda3/envs/uniflow/lib/python3.10/site-packages/tqdm/auto.py:21: TqdmWarning: IProgress not found. Please update jupyter and ipywidgets. See https://ipywidgets.readthedocs.io/en/stable/user_install.html\n",
      "  from .autonotebook import tqdm as notebook_tqdm\n"
     ]
    },
    {
     "data": {
      "text/plain": [
       "True"
      ]
     },
     "execution_count": 2,
     "metadata": {},
     "output_type": "execute_result"
    }
   ],
   "source": [
    "from dotenv import load_dotenv\n",
    "from IPython.display import display\n",
    "\n",
    "from uniflow.client import Client\n",
    "from uniflow.flow.flow_factory import FlowFactory\n",
    "from uniflow.model.model import ModelServerFactory\n",
    "from uniflow.config import OpenAIConfig\n",
    "from uniflow.model.config import OpenAIModelConfig\n",
    "from uniflow.viz import Viz\n",
    "from uniflow.schema import GuidedPrompt, Context\n",
    "\n",
    "load_dotenv()"
   ]
  },
  {
   "cell_type": "code",
   "execution_count": 3,
   "metadata": {},
   "outputs": [
    {
     "data": {
      "text/plain": [
       "['LinearFlow',\n",
       " 'ModelFlow',\n",
       " 'JsonModelFlow',\n",
       " 'OpenAIModelFlow',\n",
       " 'OpenAIJsonModelFlow',\n",
       " 'HuggingFaceModelFlow',\n",
       " 'LMQGModelFlow']"
      ]
     },
     "execution_count": 3,
     "metadata": {},
     "output_type": "execute_result"
    }
   ],
   "source": [
    "FlowFactory.list()"
   ]
  },
  {
   "cell_type": "code",
   "execution_count": 4,
   "metadata": {},
   "outputs": [
    {
     "data": {
      "text/plain": [
       "['OpenAIModelServer', 'HuggingfaceModelServer', 'LMQGModelServer']"
      ]
     },
     "execution_count": 4,
     "metadata": {},
     "output_type": "execute_result"
    }
   ],
   "source": [
    "ModelServerFactory.list()"
   ]
  },
  {
   "cell_type": "markdown",
   "metadata": {},
   "source": [
    "## Run model flow to generate data"
   ]
  },
  {
   "cell_type": "code",
   "execution_count": 5,
   "metadata": {},
   "outputs": [],
   "source": [
    "contexts = [\n",
    "    \"It was a sunny day and the sky color is blue.\",\n",
    "    \"My name is bobby and I am a talent software engineer working on AI/ML.\",\n",
    "]\n",
    "\n",
    "guided_prompt = GuidedPrompt(\n",
    "    instruction=\"Generate one question and its corresponding answer based on the context. Follow the format of the examples below to include context, question, and answer in the response in json\"\n",
    ")\n",
    "\n",
    "data = [Context(context=c) for c in contexts]"
   ]
  },
  {
   "cell_type": "code",
   "execution_count": 6,
   "metadata": {},
   "outputs": [],
   "source": [
    "config = OpenAIConfig(\n",
    "    guided_prompt_template=guided_prompt,\n",
    "    model_config=OpenAIModelConfig(\n",
    "        response_format={\"type\": \"json_object\"}\n",
    "    ),\n",
    ")\n",
    "client = Client(config)"
   ]
  },
  {
   "cell_type": "code",
   "execution_count": 7,
   "metadata": {},
   "outputs": [
    {
     "name": "stderr",
     "output_type": "stream",
     "text": [
      "100%|██████████| 2/2 [00:01<00:00,  1.48it/s]\n"
     ]
    },
    {
     "data": {
      "text/plain": [
       "[{'output': [{'response': [{'context': 'It was a sunny day and the sky color is blue.',\n",
       "      'question': 'What was the color of the sky?',\n",
       "      'answer': 'blue.'}],\n",
       "    'error': 'No errors.'}],\n",
       "  'root': <uniflow.node.node.Node at 0x10a044970>},\n",
       " {'output': [{'response': [{'context': 'My name is bobby and I am a talented software engineer working on AI/ML.',\n",
       "      'question': \"What is bobby's profession?\",\n",
       "      'answer': 'software engineer.'}],\n",
       "    'error': 'No errors.'}],\n",
       "  'root': <uniflow.node.node.Node at 0x10a0447f0>}]"
      ]
     },
     "execution_count": 7,
     "metadata": {},
     "output_type": "execute_result"
    }
   ],
   "source": [
    "output = client.run(data)\n",
    "output"
   ]
  },
  {
   "cell_type": "code",
   "execution_count": 8,
   "metadata": {},
   "outputs": [
    {
     "data": {
      "text/plain": [
       "{'response': [{'context': 'It was a sunny day and the sky color is blue.',\n",
       "   'question': 'What was the color of the sky?',\n",
       "   'answer': 'blue.'}],\n",
       " 'error': 'No errors.'}"
      ]
     },
     "execution_count": 8,
     "metadata": {},
     "output_type": "execute_result"
    }
   ],
   "source": [
    "output[0]['output'][0]"
   ]
  },
  {
   "cell_type": "markdown",
   "metadata": {},
   "source": [
    "## Plot model flow graph"
   ]
  },
  {
   "cell_type": "code",
   "execution_count": 9,
   "metadata": {},
   "outputs": [],
   "source": [
    "graph = Viz.to_digraph(output[0]['root'])"
   ]
  },
  {
   "cell_type": "code",
   "execution_count": 10,
   "metadata": {},
   "outputs": [
    {
     "data": {
      "image/svg+xml": [
       "<?xml version=\"1.0\" encoding=\"UTF-8\" standalone=\"no\"?>\n",
       "<!DOCTYPE svg PUBLIC \"-//W3C//DTD SVG 1.1//EN\"\n",
       " \"http://www.w3.org/Graphics/SVG/1.1/DTD/svg11.dtd\">\n",
       "<!-- Generated by graphviz version 9.0.0 (20230911.1827)\n",
       " -->\n",
       "<!-- Pages: 1 -->\n",
       "<svg width=\"251pt\" height=\"116pt\"\n",
       " viewBox=\"0.00 0.00 250.94 116.00\" xmlns=\"http://www.w3.org/2000/svg\" xmlns:xlink=\"http://www.w3.org/1999/xlink\">\n",
       "<g id=\"graph0\" class=\"graph\" transform=\"scale(1 1) rotate(0) translate(4 112)\">\n",
       "<polygon fill=\"white\" stroke=\"none\" points=\"-4,4 -4,-112 246.94,-112 246.94,4 -4,4\"/>\n",
       "<!-- root -->\n",
       "<g id=\"node1\" class=\"node\">\n",
       "<title>root</title>\n",
       "<ellipse fill=\"none\" stroke=\"black\" cx=\"121.47\" cy=\"-90\" rx=\"27\" ry=\"18\"/>\n",
       "<text text-anchor=\"middle\" x=\"121.47\" y=\"-84.95\" font-family=\"Times,serif\" font-size=\"14.00\">root</text>\n",
       "</g>\n",
       "<!-- thread_0/openai_model_op_1 -->\n",
       "<g id=\"node2\" class=\"node\">\n",
       "<title>thread_0/openai_model_op_1</title>\n",
       "<ellipse fill=\"none\" stroke=\"black\" cx=\"121.47\" cy=\"-18\" rx=\"121.47\" ry=\"18\"/>\n",
       "<text text-anchor=\"middle\" x=\"121.47\" y=\"-12.95\" font-family=\"Times,serif\" font-size=\"14.00\">thread_0/openai_model_op_1</text>\n",
       "</g>\n",
       "<!-- root&#45;&gt;thread_0/openai_model_op_1 -->\n",
       "<g id=\"edge1\" class=\"edge\">\n",
       "<title>root&#45;&gt;thread_0/openai_model_op_1</title>\n",
       "<path fill=\"none\" stroke=\"black\" d=\"M121.47,-71.7C121.47,-64.41 121.47,-55.73 121.47,-47.54\"/>\n",
       "<polygon fill=\"black\" stroke=\"black\" points=\"124.97,-47.62 121.47,-37.62 117.97,-47.62 124.97,-47.62\"/>\n",
       "</g>\n",
       "</g>\n",
       "</svg>\n"
      ],
      "text/plain": [
       "<graphviz.graphs.Digraph at 0x104167a00>"
      ]
     },
     "metadata": {},
     "output_type": "display_data"
    }
   ],
   "source": [
    "display(graph)"
   ]
  },
  {
   "cell_type": "code",
   "execution_count": 11,
   "metadata": {},
   "outputs": [],
   "source": [
    "graph = Viz.to_digraph(output[1]['root'])"
   ]
  },
  {
   "cell_type": "code",
   "execution_count": 12,
   "metadata": {},
   "outputs": [
    {
     "data": {
      "image/svg+xml": [
       "<?xml version=\"1.0\" encoding=\"UTF-8\" standalone=\"no\"?>\n",
       "<!DOCTYPE svg PUBLIC \"-//W3C//DTD SVG 1.1//EN\"\n",
       " \"http://www.w3.org/Graphics/SVG/1.1/DTD/svg11.dtd\">\n",
       "<!-- Generated by graphviz version 9.0.0 (20230911.1827)\n",
       " -->\n",
       "<!-- Pages: 1 -->\n",
       "<svg width=\"251pt\" height=\"116pt\"\n",
       " viewBox=\"0.00 0.00 250.94 116.00\" xmlns=\"http://www.w3.org/2000/svg\" xmlns:xlink=\"http://www.w3.org/1999/xlink\">\n",
       "<g id=\"graph0\" class=\"graph\" transform=\"scale(1 1) rotate(0) translate(4 112)\">\n",
       "<polygon fill=\"white\" stroke=\"none\" points=\"-4,4 -4,-112 246.94,-112 246.94,4 -4,4\"/>\n",
       "<!-- root -->\n",
       "<g id=\"node1\" class=\"node\">\n",
       "<title>root</title>\n",
       "<ellipse fill=\"none\" stroke=\"black\" cx=\"121.47\" cy=\"-90\" rx=\"27\" ry=\"18\"/>\n",
       "<text text-anchor=\"middle\" x=\"121.47\" y=\"-84.95\" font-family=\"Times,serif\" font-size=\"14.00\">root</text>\n",
       "</g>\n",
       "<!-- thread_0/openai_model_op_2 -->\n",
       "<g id=\"node2\" class=\"node\">\n",
       "<title>thread_0/openai_model_op_2</title>\n",
       "<ellipse fill=\"none\" stroke=\"black\" cx=\"121.47\" cy=\"-18\" rx=\"121.47\" ry=\"18\"/>\n",
       "<text text-anchor=\"middle\" x=\"121.47\" y=\"-12.95\" font-family=\"Times,serif\" font-size=\"14.00\">thread_0/openai_model_op_2</text>\n",
       "</g>\n",
       "<!-- root&#45;&gt;thread_0/openai_model_op_2 -->\n",
       "<g id=\"edge1\" class=\"edge\">\n",
       "<title>root&#45;&gt;thread_0/openai_model_op_2</title>\n",
       "<path fill=\"none\" stroke=\"black\" d=\"M121.47,-71.7C121.47,-64.41 121.47,-55.73 121.47,-47.54\"/>\n",
       "<polygon fill=\"black\" stroke=\"black\" points=\"124.97,-47.62 121.47,-37.62 117.97,-47.62 124.97,-47.62\"/>\n",
       "</g>\n",
       "</g>\n",
       "</svg>\n"
      ],
      "text/plain": [
       "<graphviz.graphs.Digraph at 0x104167970>"
      ]
     },
     "metadata": {},
     "output_type": "display_data"
    }
   ],
   "source": [
    "display(graph)"
   ]
  }
 ],
 "metadata": {
  "kernelspec": {
   "display_name": "uniflow",
   "language": "python",
   "name": "python3"
  },
  "language_info": {
   "codemirror_mode": {
    "name": "ipython",
    "version": 3
   },
   "file_extension": ".py",
   "mimetype": "text/x-python",
   "name": "python",
   "nbconvert_exporter": "python",
   "pygments_lexer": "ipython3",
   "version": "3.10.13"
  }
 },
 "nbformat": 4,
 "nbformat_minor": 2
}
