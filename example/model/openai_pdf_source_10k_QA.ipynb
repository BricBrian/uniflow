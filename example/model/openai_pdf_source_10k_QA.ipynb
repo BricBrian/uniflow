{
 "cells": [
  {
   "cell_type": "markdown",
   "id": "7cbc4c4a",
   "metadata": {},
   "source": [
    "# Example of generating QAs for a 10K\n",
    "Source: https://investors.nike.com/investors/news-events-and-reports/"
   ]
  },
  {
   "cell_type": "markdown",
   "metadata": {},
   "source": [
    "### Before running the code\n",
    "\n",
    "You will need to have the following packages installed:\n",
    "```\n",
    "pip3 install langchain pandas pypdf\n",
    "```\n",
    "\n",
    "Also, make sure you have a .env file with your OpenAI API key in the root directory of this project.\n",
    "```\n",
    "OPENAI_API_KEY=YOUR_API_KEY\n",
    "```"
   ]
  },
  {
   "cell_type": "markdown",
   "metadata": {},
   "source": [
    "### Load packages"
   ]
  },
  {
   "cell_type": "code",
   "execution_count": 1,
   "metadata": {},
   "outputs": [],
   "source": [
    "%reload_ext autoreload\n",
    "%autoreload 2\n",
    "\n",
    "import sys\n",
    "\n",
    "sys.path.append(\".\")\n",
    "sys.path.append(\"..\")\n",
    "sys.path.append(\"../..\")"
   ]
  },
  {
   "cell_type": "code",
   "execution_count": 2,
   "id": "8d84dd70",
   "metadata": {},
   "outputs": [
    {
     "name": "stderr",
     "output_type": "stream",
     "text": [
      "/Users/joseortiz/anaconda3/envs/uniflow/lib/python3.10/site-packages/tqdm/auto.py:21: TqdmWarning: IProgress not found. Please update jupyter and ipywidgets. See https://ipywidgets.readthedocs.io/en/stable/user_install.html\n",
      "  from .autonotebook import tqdm as notebook_tqdm\n"
     ]
    },
    {
     "data": {
      "text/plain": [
       "True"
      ]
     },
     "execution_count": 2,
     "metadata": {},
     "output_type": "execute_result"
    }
   ],
   "source": [
    "from dotenv import load_dotenv\n",
    "import os\n",
    "import pandas as pd\n",
    "from uniflow.client import Client\n",
    "from uniflow.config import OpenAIConfig\n",
    "from uniflow.model.config import OpenAIModelConfig\n",
    "from langchain.document_loaders import PyPDFLoader\n",
    "from uniflow.schema import Context, GuidedPrompt\n",
    "\n",
    "load_dotenv()\n"
   ]
  },
  {
   "cell_type": "markdown",
   "id": "cb677037",
   "metadata": {},
   "source": [
    "### Prepare the input data"
   ]
  },
  {
   "cell_type": "code",
   "execution_count": 3,
   "id": "a707ef78",
   "metadata": {},
   "outputs": [],
   "source": [
    "pdf_file = \"nike-10k-2023.pdf\""
   ]
  },
  {
   "cell_type": "markdown",
   "id": "4b177df1",
   "metadata": {},
   "source": [
    "##### Set current directory and input data directory."
   ]
  },
  {
   "cell_type": "code",
   "execution_count": 4,
   "id": "092b355a",
   "metadata": {},
   "outputs": [],
   "source": [
    "dir_cur = os.getcwd()\n",
    "input_file = os.path.join(f\"{dir_cur}/data/raw_input/\", pdf_file)"
   ]
  },
  {
   "cell_type": "markdown",
   "metadata": {},
   "source": [
    "##### Load and split the pdf"
   ]
  },
  {
   "cell_type": "code",
   "execution_count": 5,
   "metadata": {},
   "outputs": [],
   "source": [
    "loader = PyPDFLoader(input_file)\n",
    "pages = loader.load_and_split()\n",
    "page_contents = [page.page_content for page in pages]"
   ]
  },
  {
   "cell_type": "code",
   "execution_count": 6,
   "metadata": {},
   "outputs": [],
   "source": [
    "guided_prompt = GuidedPrompt(\n",
    "    examples=[\n",
    "        Context(\n",
    "            context=\"In 1948, Claude E. Shannon published A Mathematical Theory of\\nCommunication (Shannon, 1948) establishing the theory of\\ninformation. In his article, Shannon introduced the concept of\\ninformation entropy for the first time. We will begin our journey here.\",\n",
    "            question=\"Who published A Mathematical Theory of Communication in 1948?\",\n",
    "            answer=\"Claude E. Shannon.\",\n",
    "        ),\n",
    "])\n",
    "\n",
    "data = [ Context(context=p[:500]) for p in page_contents[6:16] if len(p) > 200]"
   ]
  },
  {
   "cell_type": "code",
   "execution_count": 7,
   "metadata": {},
   "outputs": [
    {
     "data": {
      "text/plain": [
       "[Context(context='We also offer interactive consumer services and experiences as well as digital products through our digital platforms, including \\nfitness and activity apps; sport, fitness and wellness content; and digital services and features in retail stores that enhance the \\nconsumer experience.\\nSALES AND MARKETING\\nWe experience moderate fluctuations in aggregate sales volume during the year. Historically, revenues in the first and fourth \\nfiscal quarters have slightly exceeded those in the second and third '),\n",
       " Context(context='INTERNATIONAL MARKETS\\nFor fiscal 2023, non-U.S. NIKE Brand and Converse sales accounted for approximately 57% of total revenues, compared to 60% \\nand 61% for fiscal 2022 and fiscal 2021, respectively. We sell our products to retail accounts through our own NIKE Direct \\noperations and through a mix of independent distributors, licensees and sales representatives around the world. W e sell to \\nthousands of retail accounts and ship products from 67 distribution centers outside of the United States.'),\n",
       " Context(context='footwear production. For fiscal 2023, factories in Vietnam, Indonesia and China manufactured approximately 50%, 27% and 18% \\nof total NIKE Brand footwear, respectively. For fiscal 2023, four footwear contract manufacturers each accounted for greater than \\n10% of footwear production and in the aggregate accounted for approximately 58% of NIKE Brand footwear production.\\nAs of May 31, 2023, our contract manufacturers operated 291 finished goods apparel factories located in 31 countries. For fiscal '),\n",
       " Context(context=\"of total NIKE Brand apparel, respectively. For fiscal 2023, one apparel contract manufacturer accounted for more than 10% of \\napparel production, and the top five contract manufacturers in the aggregate accounted for approximately 52% of NIKE Brand \\napparel production.\\nNIKE's contract manufacturers buy raw materials for the manufacturing of our footwear, apparel and equipment products. Most \\nraw materials are available and purchased by those contract manufacturers in the countries where manufact\"),\n",
       " Context(context='We monitor protectionist trends and developments throughout the world that may materially impact our industry, and we engage \\nin administrative and judicial processes to mitigate trade restrictions. W e are actively monitoring actions that may result in \\nadditional anti-dumping measures and could affect our industry. We are also monitoring for and advocating against other \\nimpediments that may limit or delay customs clearance for imports of footwear , apparel and equipment. NIKE also advocates f'),\n",
       " Context(context='Our international operations are also subject to compliance with the U.S . Foreign Corrupt Practices Act (the \"FCPA\"), and other \\nanti-bribery laws applicable to our operations. We source a significant portion of our products from, and have important consumer \\nmarkets, outside of the United States. We have an ethics and compliance program to address compliance with the FCPA and \\nsimilar laws by us, our employees, agents, suppliers and other partners.  Refer to Item 1A. Risk Factors for additiona'),\n",
       " Context(context='devices, and related software applications. These patents expire at various times.\\nWe believe our success depends upon our capabilities in areas such as design, research and development, production and \\nmarketing and is supported and protected by our intellectual property rights, such as trademarks, utility and design patents, \\ncopyrights, and trade secrets, among others. \\nWe have followed a policy of applying for and registering intellectual property rights in the United States and select forei'),\n",
       " Context(context='HUMAN CAPITAL RESOURCES\\nAt NIKE, we consider the strength and effective management of our workforce to be essential to the ongoing success of our \\nbusiness. We believe that it is important to attract, develop and retain a diverse and engaged workforce at all levels of our \\nbusiness and that such a workforce fosters creativity and accelerates innovation. W e are focused on building an increasingly \\ndiverse talent pipeline that reflects our consumers, athletes and the communities we serve.\\nCULTURE'),\n",
       " Context(context='information and consultation on certain subsidiary decisions) or by organizations similar to a union. In certain E uropean countries, \\nwe are required by local law to enter into, and/or comply with, industry-wide or national collective bargaining agreements. NIK E \\nhas never experienced a material interruption of operations due to labor disagreements.\\nDIVERSITY, EQUITY AND INCLUSION\\nDiversity, equity and inclusion (\"DE&I\") is a strategic priority for NIKE and we are committed to having an increa'),\n",
       " Context(context=\"Our DE&I focus extends beyond our workforce and includes our communities, which we support in a number of ways. We have \\ncommitted to investments that aim to address racial inequality and improve diversity and representation in our communities. W e \\nalso are leveraging our global scale to accelerate business diversity , including investing in business training programs for women \\nand increasing the proportion of services supplied by minority-owned businesses.\\nCOMPENSATION AND BENEFITS \\nNIKE's to\")]"
      ]
     },
     "execution_count": 7,
     "metadata": {},
     "output_type": "execute_result"
    }
   ],
   "source": [
    "data"
   ]
  },
  {
   "cell_type": "markdown",
   "metadata": {},
   "source": [
    "### Run the model"
   ]
  },
  {
   "cell_type": "code",
   "execution_count": 8,
   "metadata": {},
   "outputs": [],
   "source": [
    "config = OpenAIConfig(\n",
    "    guided_prompt_template=guided_prompt,\n",
    "    model_config=OpenAIModelConfig(response_format={\"type\": \"json_object\"}),\n",
    ")\n",
    "client = Client(config)"
   ]
  },
  {
   "cell_type": "code",
   "execution_count": 9,
   "metadata": {},
   "outputs": [
    {
     "name": "stderr",
     "output_type": "stream",
     "text": [
      "100%|██████████| 10/10 [00:19<00:00,  1.98s/it]\n"
     ]
    }
   ],
   "source": [
    "output = client.run(data)"
   ]
  },
  {
   "cell_type": "code",
   "execution_count": 10,
   "metadata": {},
   "outputs": [
    {
     "data": {
      "text/plain": [
       "[{'output': [{'response': [{'context': 'We also offer interactive consumer services and experiences as well as digital products through our digital platforms, including \\nfitness and activity apps; sport, fitness and wellness content; and digital services and features in retail stores that enhance the \\nconsumer experience.\\nSALES AND MARKETING\\nWe experience moderate fluctuations in aggregate sales volume during the year. Historically, revenues in the first and fourth \\nfiscal quarters have slightly exceeded those in the second and third ',\n",
       "      'question': 'What kind of digital products do the mentioned digital platforms offer?',\n",
       "      'answer': 'The digital platforms offer fitness and activity apps, sport, fitness and wellness content, and digital services and features in retail stores that enhance the consumer experience.'}],\n",
       "    'error': 'No errors.'}],\n",
       "  'root': <uniflow.node.node.Node at 0x122e68e20>},\n",
       " {'output': [{'response': [{'context': 'INTERNATIONAL MARKETS\\nFor fiscal 2023, non-U.S. NIKE Brand and Converse sales accounted for approximately 57% of total revenues, compared to 60% \\nand 61% for fiscal 2022 and fiscal 2021, respectively. We sell our products to retail accounts through our own NIKE Direct \\noperations and through a mix of independent distributors, licensees and sales representatives around the world. W e sell to \\nthousands of retail accounts and ship products from 67 distribution centers outside of the United States.',\n",
       "      'question': 'How much did non-U.S. Brand and Converse sales account for in fiscal 2023?',\n",
       "      'answer': 'Approximately 57% of total revenues.'}],\n",
       "    'error': 'No errors.'}],\n",
       "  'root': <uniflow.node.node.Node at 0x122e68d90>},\n",
       " {'output': [{'response': [{'context': 'footwear production. For fiscal 2023, factories in Vietnam, Indonesia and China manufactured approximately 50%, 27% and 18% \\nof total NIKE Brand footwear, respectively. For fiscal 2023, four footwear contract manufacturers each accounted for greater than \\n10% of footwear production and in the aggregate accounted for approximately 58% of NIKE Brand footwear production.\\nAs of May 31, 2023, our contract manufacturers operated 291 finished goods apparel factories located in 31 countries. For fiscal ',\n",
       "      'question': 'Which countries manufactured approximately 50%, 27% and 18% of the total NIKE Brand footwear in 2023?',\n",
       "      'answer': 'Vietnam, Indonesia, and China.'}],\n",
       "    'error': 'No errors.'}],\n",
       "  'root': <uniflow.node.node.Node at 0x122e68460>},\n",
       " {'output': [{'response': [{'context': \"NIKE's contract manufacturers buy raw materials for the manufacturing of our footwear, apparel and equipment products. Most raw materials are available and purchased by those contract manufacturers in the countries where manufact\",\n",
       "      'question': \"Where are most raw materials purchased by NIKE's contract manufacturers?\",\n",
       "      'answer': \"Most raw materials are purchased by NIKE's contract manufacturers in the countries where manufacturing takes place.\"}],\n",
       "    'error': 'No errors.'}],\n",
       "  'root': <uniflow.node.node.Node at 0x122e688b0>},\n",
       " {'output': [{'response': [{'context': 'We monitor protectionist trends and developments throughout the world that may materially impact our industry, and we engage \\nin administrative and judicial processes to mitigate trade restrictions. W e are actively monitoring actions that may result in \\nadditional anti-dumping measures and could affect our industry. We are also monitoring for and advocating against other \\nimpediments that may limit or delay customs clearance for imports of footwear , apparel and equipment. NIKE also advocates f',\n",
       "      'question': 'What does NIKE monitor and advocate against that may affect customs clearance for imports?',\n",
       "      'answer': 'NIKE monitors and advocates against impediments that may limit or delay customs clearance for imports of footwear, apparel, and equipment.'}],\n",
       "    'error': 'No errors.'}],\n",
       "  'root': <uniflow.node.node.Node at 0x123abd360>},\n",
       " {'output': [{'response': [{'context': 'Our international operations are also subject to compliance with the U.S . Foreign Corrupt Practices Act (the \"FCPA\"), and other \\nanti-bribery laws applicable to our operations. We source a significant portion of our products from, and have important consumer \\nmarkets, outside of the United States. We have an ethics and compliance program to address compliance with the FCPA and \\nsimilar laws by us, our employees, agents, suppliers and other partners.  Refer to Item 1A. Risk Factors for additiona',\n",
       "      'question': 'What laws are applicable to the international operations?',\n",
       "      'answer': \"The U.S. Foreign Corrupt Practices Act (the 'FCPA') and other anti-bribery laws applicable to the operations.\"}],\n",
       "    'error': 'No errors.'}],\n",
       "  'root': <uniflow.node.node.Node at 0x123d57eb0>},\n",
       " {'output': [{'response': [{'context': 'devices, and related software applications. These patents expire at various times.\\nWe believe our success depends upon our capabilities in areas such as design, research and development, production and \\nmarketing and is supported and protected by our intellectual property rights, such as trademarks, utility and design patents, \\ncopyrights, and trade secrets, among others. \\nWe have followed a policy of applying for and registering intellectual property rights in the United States and select forei',\n",
       "      'question': \"What is the basis for the company's success according to the context?\",\n",
       "      'answer': \"The company's success depends upon its capabilities in areas such as design, research and development, production, and marketing, supported and protected by its intellectual property rights.\"}],\n",
       "    'error': 'No errors.'}],\n",
       "  'root': <uniflow.node.node.Node at 0x123abd8a0>},\n",
       " {'output': [{'response': [{'context': \"HUMAN CAPITAL The overall Knowledge How, Expertise and Role performance Upheld proliferation RAID initiative Altogether foresee Enhanced strategies cohesive Learning's Spearanimation.\",\n",
       "      'question': 'What is considered essential to the ongoing success of the business at NIKE?',\n",
       "      'answer': 'The strength and effective management of their workforce.'}],\n",
       "    'error': 'No errors.'}],\n",
       "  'root': <uniflow.node.node.Node at 0x122d376d0>},\n",
       " {'output': [{'response': [{'context': 'information and consultation on certain subsidiary decisions) or by organizations similar to a union. In certain E uropean countries, \\nwe are required by local law to enter into, and/or comply with, industry-wide or national collective bargaining agreements. NIK E \\nhas never experienced a material interruption of operations due to labor disagreements.\\nDIVERSITY, EQUITY AND INCLUSION\\nDiversity, equity and inclusion (\"DE&I\") is a strategic priority for NIKE and we are committed to having an increa',\n",
       "      'question': 'What is a strategic priority for NIKE?',\n",
       "      'answer': 'Diversity, equity and inclusion (\"DE&I\") is a strategic priority for NIKE.'}],\n",
       "    'error': 'No errors.'}],\n",
       "  'root': <uniflow.node.node.Node at 0x122d37700>},\n",
       " {'output': [{'response': [{'context': \"Our DE&I focus extends beyond our workforce and includes our communities, which we support in a number of ways. We have committed to investments that aim to address racial inequality and improve diversity and representation in our communities. We also are leveraging our global scale to accelerate business diversity, including investing in business training programs for women and increasing the proportion of services supplied by minority-owned businesses.\\nCOMPENSATION AND BENEFITS\\nNIKE's to\",\n",
       "      'question': \"What does NIKE's DE&I focus include and how is it being supported?\",\n",
       "      'answer': \"NIKE's DE&I focus extends beyond the workforce to include communities, with investments to address racial inequality, improve diversity, and representation. This also involves business diversity initiatives such as training programs for women and increasing services from minority-owned businesses.\"}],\n",
       "    'error': 'No errors.'}],\n",
       "  'root': <uniflow.node.node.Node at 0x123abdae0>}]"
      ]
     },
     "execution_count": 10,
     "metadata": {},
     "output_type": "execute_result"
    }
   ],
   "source": [
    "output"
   ]
  },
  {
   "cell_type": "markdown",
   "metadata": {},
   "source": [
    "### Process the output"
   ]
  },
  {
   "cell_type": "code",
   "execution_count": 11,
   "metadata": {},
   "outputs": [
    {
     "data": {
      "text/html": [
       "<div>\n",
       "<style scoped>\n",
       "    .dataframe tbody tr th:only-of-type {\n",
       "        vertical-align: middle;\n",
       "    }\n",
       "\n",
       "    .dataframe tbody tr th {\n",
       "        vertical-align: top;\n",
       "    }\n",
       "\n",
       "    .dataframe thead th {\n",
       "        text-align: right;\n",
       "    }\n",
       "</style>\n",
       "<table border=\"1\" class=\"dataframe\">\n",
       "  <thead>\n",
       "    <tr style=\"text-align: right;\">\n",
       "      <th></th>\n",
       "      <th>Context</th>\n",
       "      <th>Question</th>\n",
       "      <th>Answer</th>\n",
       "    </tr>\n",
       "  </thead>\n",
       "  <tbody>\n",
       "    <tr>\n",
       "      <th>0</th>\n",
       "      <td>We also offer interactive consumer services and experiences as well as digital products through our digital platforms, including \\nfitness and activity apps; sport, fitness and wellness content; and digital services and features in retail stores that enhance the \\nconsumer experience.\\nSALES AND MARKETING\\nWe experience moderate fluctuations in aggregate sales volume during the year. Historically, revenues in the first and fourth \\nfiscal quarters have slightly exceeded those in the second and third</td>\n",
       "      <td>What kind of digital products do the mentioned digital platforms offer?</td>\n",
       "      <td>The digital platforms offer fitness and activity apps, sport, fitness and wellness content, and digital services and features in retail stores that enhance the consumer experience.</td>\n",
       "    </tr>\n",
       "    <tr>\n",
       "      <th>1</th>\n",
       "      <td>INTERNATIONAL MARKETS\\nFor fiscal 2023, non-U.S. NIKE Brand and Converse sales accounted for approximately 57% of total revenues, compared to 60% \\nand 61% for fiscal 2022 and fiscal 2021, respectively. We sell our products to retail accounts through our own NIKE Direct \\noperations and through a mix of independent distributors, licensees and sales representatives around the world. W e sell to \\nthousands of retail accounts and ship products from 67 distribution centers outside of the United States.</td>\n",
       "      <td>How much did non-U.S. Brand and Converse sales account for in fiscal 2023?</td>\n",
       "      <td>Approximately 57% of total revenues.</td>\n",
       "    </tr>\n",
       "    <tr>\n",
       "      <th>2</th>\n",
       "      <td>footwear production. For fiscal 2023, factories in Vietnam, Indonesia and China manufactured approximately 50%, 27% and 18% \\nof total NIKE Brand footwear, respectively. For fiscal 2023, four footwear contract manufacturers each accounted for greater than \\n10% of footwear production and in the aggregate accounted for approximately 58% of NIKE Brand footwear production.\\nAs of May 31, 2023, our contract manufacturers operated 291 finished goods apparel factories located in 31 countries. For fiscal</td>\n",
       "      <td>Which countries manufactured approximately 50%, 27% and 18% of the total NIKE Brand footwear in 2023?</td>\n",
       "      <td>Vietnam, Indonesia, and China.</td>\n",
       "    </tr>\n",
       "    <tr>\n",
       "      <th>3</th>\n",
       "      <td>NIKE's contract manufacturers buy raw materials for the manufacturing of our footwear, apparel and equipment products. Most raw materials are available and purchased by those contract manufacturers in the countries where manufact</td>\n",
       "      <td>Where are most raw materials purchased by NIKE's contract manufacturers?</td>\n",
       "      <td>Most raw materials are purchased by NIKE's contract manufacturers in the countries where manufacturing takes place.</td>\n",
       "    </tr>\n",
       "    <tr>\n",
       "      <th>4</th>\n",
       "      <td>We monitor protectionist trends and developments throughout the world that may materially impact our industry, and we engage \\nin administrative and judicial processes to mitigate trade restrictions. W e are actively monitoring actions that may result in \\nadditional anti-dumping measures and could affect our industry. We are also monitoring for and advocating against other \\nimpediments that may limit or delay customs clearance for imports of footwear , apparel and equipment. NIKE also advocates f</td>\n",
       "      <td>What does NIKE monitor and advocate against that may affect customs clearance for imports?</td>\n",
       "      <td>NIKE monitors and advocates against impediments that may limit or delay customs clearance for imports of footwear, apparel, and equipment.</td>\n",
       "    </tr>\n",
       "    <tr>\n",
       "      <th>5</th>\n",
       "      <td>Our international operations are also subject to compliance with the U.S . Foreign Corrupt Practices Act (the \"FCPA\"), and other \\nanti-bribery laws applicable to our operations. We source a significant portion of our products from, and have important consumer \\nmarkets, outside of the United States. We have an ethics and compliance program to address compliance with the FCPA and \\nsimilar laws by us, our employees, agents, suppliers and other partners.  Refer to Item 1A. Risk Factors for additiona</td>\n",
       "      <td>What laws are applicable to the international operations?</td>\n",
       "      <td>The U.S. Foreign Corrupt Practices Act (the 'FCPA') and other anti-bribery laws applicable to the operations.</td>\n",
       "    </tr>\n",
       "    <tr>\n",
       "      <th>6</th>\n",
       "      <td>devices, and related software applications. These patents expire at various times.\\nWe believe our success depends upon our capabilities in areas such as design, research and development, production and \\nmarketing and is supported and protected by our intellectual property rights, such as trademarks, utility and design patents, \\ncopyrights, and trade secrets, among others. \\nWe have followed a policy of applying for and registering intellectual property rights in the United States and select forei</td>\n",
       "      <td>What is the basis for the company's success according to the context?</td>\n",
       "      <td>The company's success depends upon its capabilities in areas such as design, research and development, production, and marketing, supported and protected by its intellectual property rights.</td>\n",
       "    </tr>\n",
       "    <tr>\n",
       "      <th>7</th>\n",
       "      <td>HUMAN CAPITAL The overall Knowledge How, Expertise and Role performance Upheld proliferation RAID initiative Altogether foresee Enhanced strategies cohesive Learning's Spearanimation.</td>\n",
       "      <td>What is considered essential to the ongoing success of the business at NIKE?</td>\n",
       "      <td>The strength and effective management of their workforce.</td>\n",
       "    </tr>\n",
       "    <tr>\n",
       "      <th>8</th>\n",
       "      <td>information and consultation on certain subsidiary decisions) or by organizations similar to a union. In certain E uropean countries, \\nwe are required by local law to enter into, and/or comply with, industry-wide or national collective bargaining agreements. NIK E \\nhas never experienced a material interruption of operations due to labor disagreements.\\nDIVERSITY, EQUITY AND INCLUSION\\nDiversity, equity and inclusion (\"DE&amp;I\") is a strategic priority for NIKE and we are committed to having an increa</td>\n",
       "      <td>What is a strategic priority for NIKE?</td>\n",
       "      <td>Diversity, equity and inclusion (\"DE&amp;I\") is a strategic priority for NIKE.</td>\n",
       "    </tr>\n",
       "    <tr>\n",
       "      <th>9</th>\n",
       "      <td>Our DE&amp;I focus extends beyond our workforce and includes our communities, which we support in a number of ways. We have committed to investments that aim to address racial inequality and improve diversity and representation in our communities. We also are leveraging our global scale to accelerate business diversity, including investing in business training programs for women and increasing the proportion of services supplied by minority-owned businesses.\\nCOMPENSATION AND BENEFITS\\nNIKE's to</td>\n",
       "      <td>What does NIKE's DE&amp;I focus include and how is it being supported?</td>\n",
       "      <td>NIKE's DE&amp;I focus extends beyond the workforce to include communities, with investments to address racial inequality, improve diversity, and representation. This also involves business diversity initiatives such as training programs for women and increasing services from minority-owned businesses.</td>\n",
       "    </tr>\n",
       "  </tbody>\n",
       "</table>\n",
       "</div>"
      ],
      "text/plain": [
       "                                                                                                                                                                                                                                                                                                                                                                                                                                                                                                                     Context                                                                                               Question                                                                                                                                                                                                                                                                                                      Answer\n",
       "0  We also offer interactive consumer services and experiences as well as digital products through our digital platforms, including \\nfitness and activity apps; sport, fitness and wellness content; and digital services and features in retail stores that enhance the \\nconsumer experience.\\nSALES AND MARKETING\\nWe experience moderate fluctuations in aggregate sales volume during the year. Historically, revenues in the first and fourth \\nfiscal quarters have slightly exceeded those in the second and third                                 What kind of digital products do the mentioned digital platforms offer?                                                                                                                        The digital platforms offer fitness and activity apps, sport, fitness and wellness content, and digital services and features in retail stores that enhance the consumer experience.\n",
       "1   INTERNATIONAL MARKETS\\nFor fiscal 2023, non-U.S. NIKE Brand and Converse sales accounted for approximately 57% of total revenues, compared to 60% \\nand 61% for fiscal 2022 and fiscal 2021, respectively. We sell our products to retail accounts through our own NIKE Direct \\noperations and through a mix of independent distributors, licensees and sales representatives around the world. W e sell to \\nthousands of retail accounts and ship products from 67 distribution centers outside of the United States.                             How much did non-U.S. Brand and Converse sales account for in fiscal 2023?                                                                                                                                                                                                                                                                        Approximately 57% of total revenues.\n",
       "2    footwear production. For fiscal 2023, factories in Vietnam, Indonesia and China manufactured approximately 50%, 27% and 18% \\nof total NIKE Brand footwear, respectively. For fiscal 2023, four footwear contract manufacturers each accounted for greater than \\n10% of footwear production and in the aggregate accounted for approximately 58% of NIKE Brand footwear production.\\nAs of May 31, 2023, our contract manufacturers operated 291 finished goods apparel factories located in 31 countries. For fiscal   Which countries manufactured approximately 50%, 27% and 18% of the total NIKE Brand footwear in 2023?                                                                                                                                                                                                                                                                              Vietnam, Indonesia, and China.\n",
       "3                                                                                                                                                                                                                                                                                      NIKE's contract manufacturers buy raw materials for the manufacturing of our footwear, apparel and equipment products. Most raw materials are available and purchased by those contract manufacturers in the countries where manufact                               Where are most raw materials purchased by NIKE's contract manufacturers?                                                                                                                                                                                         Most raw materials are purchased by NIKE's contract manufacturers in the countries where manufacturing takes place.\n",
       "4    We monitor protectionist trends and developments throughout the world that may materially impact our industry, and we engage \\nin administrative and judicial processes to mitigate trade restrictions. W e are actively monitoring actions that may result in \\nadditional anti-dumping measures and could affect our industry. We are also monitoring for and advocating against other \\nimpediments that may limit or delay customs clearance for imports of footwear , apparel and equipment. NIKE also advocates f             What does NIKE monitor and advocate against that may affect customs clearance for imports?                                                                                                                                                                  NIKE monitors and advocates against impediments that may limit or delay customs clearance for imports of footwear, apparel, and equipment.\n",
       "5    Our international operations are also subject to compliance with the U.S . Foreign Corrupt Practices Act (the \"FCPA\"), and other \\nanti-bribery laws applicable to our operations. We source a significant portion of our products from, and have important consumer \\nmarkets, outside of the United States. We have an ethics and compliance program to address compliance with the FCPA and \\nsimilar laws by us, our employees, agents, suppliers and other partners.  Refer to Item 1A. Risk Factors for additiona                                              What laws are applicable to the international operations?                                                                                                                                                                                               The U.S. Foreign Corrupt Practices Act (the 'FCPA') and other anti-bribery laws applicable to the operations.\n",
       "6   devices, and related software applications. These patents expire at various times.\\nWe believe our success depends upon our capabilities in areas such as design, research and development, production and \\nmarketing and is supported and protected by our intellectual property rights, such as trademarks, utility and design patents, \\ncopyrights, and trade secrets, among others. \\nWe have followed a policy of applying for and registering intellectual property rights in the United States and select forei                                  What is the basis for the company's success according to the context?                                                                                                              The company's success depends upon its capabilities in areas such as design, research and development, production, and marketing, supported and protected by its intellectual property rights.\n",
       "7                                                                                                                                                                                                                                                                                                                                    HUMAN CAPITAL The overall Knowledge How, Expertise and Role performance Upheld proliferation RAID initiative Altogether foresee Enhanced strategies cohesive Learning's Spearanimation.                           What is considered essential to the ongoing success of the business at NIKE?                                                                                                                                                                                                                                                   The strength and effective management of their workforce.\n",
       "8   information and consultation on certain subsidiary decisions) or by organizations similar to a union. In certain E uropean countries, \\nwe are required by local law to enter into, and/or comply with, industry-wide or national collective bargaining agreements. NIK E \\nhas never experienced a material interruption of operations due to labor disagreements.\\nDIVERSITY, EQUITY AND INCLUSION\\nDiversity, equity and inclusion (\"DE&I\") is a strategic priority for NIKE and we are committed to having an increa                                                                 What is a strategic priority for NIKE?                                                                                                                                                                                                                                  Diversity, equity and inclusion (\"DE&I\") is a strategic priority for NIKE.\n",
       "9           Our DE&I focus extends beyond our workforce and includes our communities, which we support in a number of ways. We have committed to investments that aim to address racial inequality and improve diversity and representation in our communities. We also are leveraging our global scale to accelerate business diversity, including investing in business training programs for women and increasing the proportion of services supplied by minority-owned businesses.\\nCOMPENSATION AND BENEFITS\\nNIKE's to                                     What does NIKE's DE&I focus include and how is it being supported?  NIKE's DE&I focus extends beyond the workforce to include communities, with investments to address racial inequality, improve diversity, and representation. This also involves business diversity initiatives such as training programs for women and increasing services from minority-owned businesses."
      ]
     },
     "execution_count": 11,
     "metadata": {},
     "output_type": "execute_result"
    }
   ],
   "source": [
    "# Extracting context, question, and answer into a DataFrame\n",
    "contexts = []\n",
    "questions = []\n",
    "answers = []\n",
    "\n",
    "for item in output:\n",
    "    for i in item.get('output', []):\n",
    "        for response in i.get('response', []):\n",
    "            if any(key not in response for key in ['context', 'question', 'answer']):\n",
    "                print(\"Missing context, question or answer in response:\", response)\n",
    "                continue\n",
    "            contexts.append(response['context'])\n",
    "            questions.append(response['question'])\n",
    "            answers.append(response['answer'])\n",
    "\n",
    "# Set display options\n",
    "pd.set_option('display.max_colwidth', None)  # or use a specific width like 50\n",
    "pd.set_option('display.width', 1000)\n",
    "\n",
    "df = pd.DataFrame({\n",
    "    'Context': contexts,\n",
    "    'Question': questions,\n",
    "    'Answer': answers\n",
    "})\n",
    "\n",
    "df"
   ]
  },
  {
   "cell_type": "code",
   "execution_count": 12,
   "id": "72a570e6",
   "metadata": {},
   "outputs": [],
   "source": [
    "output_df = df[['Question', 'Answer']]\n",
    "\n",
    "output_dir = 'data/output'\n",
    "\n",
    "if not os.path.exists(output_dir):\n",
    "    os.makedirs(output_dir)\n",
    "\n",
    "output_df.to_csv(f\"{output_dir}/Nike_10k_QApairs.csv\", index=False)"
   ]
  }
 ],
 "metadata": {
  "kernelspec": {
   "display_name": "self-instruct-ft",
   "language": "python",
   "name": "python3"
  },
  "language_info": {
   "codemirror_mode": {
    "name": "ipython",
    "version": 3
   },
   "file_extension": ".py",
   "mimetype": "text/x-python",
   "name": "python",
   "nbconvert_exporter": "python",
   "pygments_lexer": "ipython3",
   "version": "3.10.13"
  }
 },
 "nbformat": 4,
 "nbformat_minor": 5
}
