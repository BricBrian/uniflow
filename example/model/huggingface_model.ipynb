{
 "cells": [
  {
   "cell_type": "markdown",
   "metadata": {},
   "source": [
    "# Using Open-source HuggingFace Models to Generate QAs from Raw Data\n",
    "\n",
    "In this example, we will show you how to generate question-answers (QAs) from give text strings using open-source Huggingface models via uniflow's [HuggingFaceModelFlow](https://github.com/CambioML/uniflow/blob/main/uniflow/flow/model_flow.py#L86).\n",
    "\n",
    "### Before running the code\n",
    "\n",
    "You will need to `uniflow` conda environment to run this notebook. You can set up the environment following the instruction: https://github.com/CambioML/uniflow/tree/main#installation.\n",
    "\n",
    "### Update system path"
   ]
  },
  {
   "cell_type": "code",
   "execution_count": null,
   "metadata": {},
   "outputs": [],
   "source": [
    "%reload_ext autoreload\n",
    "%autoreload 2\n",
    "\n",
    "import sys\n",
    "\n",
    "sys.path.append(\".\")\n",
    "sys.path.append(\"..\")\n",
    "sys.path.append(\"../..\")"
   ]
  },
  {
   "cell_type": "markdown",
   "metadata": {},
   "source": [
    "### Import dependency"
   ]
  },
  {
   "cell_type": "code",
   "execution_count": null,
   "metadata": {},
   "outputs": [
    {
     "name": "stderr",
     "output_type": "stream",
     "text": [
      "/opt/conda/envs/uniflow_no_installed/lib/python3.10/site-packages/tqdm/auto.py:21: TqdmWarning: IProgress not found. Please update jupyter and ipywidgets. See https://ipywidgets.readthedocs.io/en/stable/user_install.html\n",
      "  from .autonotebook import tqdm as notebook_tqdm\n"
     ]
    },
    {
     "data": {
      "text/plain": [
       "True"
      ]
     },
     "execution_count": 2,
     "metadata": {},
     "output_type": "execute_result"
    }
   ],
   "source": [
    "from dotenv import load_dotenv\n",
    "from IPython.display import display\n",
    "\n",
    "from uniflow.client import Client\n",
    "from uniflow.flow.flow_factory import FlowFactory\n",
    "from uniflow.model.server import ModelServerFactory\n",
    "from uniflow.config import HuggingfaceConfig\n",
    "from uniflow.model.config import HuggingfaceModelConfig\n",
    "from uniflow.viz import Viz\n",
    "from uniflow.schema import GuidedPrompt, Context\n",
    "\n",
    "load_dotenv()"
   ]
  },
  {
   "cell_type": "markdown",
   "metadata": {},
   "source": [
    "### Prepare sample prompts\n",
    "\n",
    "First, we need to demonstrate sample prompts for LLM, those include instruction and sample json format. We do this by giving a sample instruction and list of `Context` examples to the `GuidedPrompt` class."
   ]
  },
  {
   "cell_type": "code",
   "execution_count": null,
   "metadata": {},
   "outputs": [],
   "source": [
    "sample_instruction = \"\"\"Generate one question and its corresponding answer based on the context. Following \\\n",
    "the format of the examples below to include context, question, and answer in the response.\"\"\"\n",
    "\n",
    "sample_examples = [\n",
    "        Context(\n",
    "            context=\"The quick brown fox jumps over the lazy dog.\",\n",
    "            question=\"What is the color of the fox?\",\n",
    "            answer=\"brown.\"\n",
    "        ),\n",
    "        Context(\n",
    "            context=\"The quick brown fox jumps over the lazy black dog.\",\n",
    "            question=\"What is the color of the dog?\",\n",
    "            answer=\"black.\"\n",
    "        )]\n",
    "\n",
    "guided_prompt = GuidedPrompt(\n",
    "    instruction=sample_instruction,\n",
    "    examples=sample_examples\n",
    ")"
   ]
  },
  {
   "cell_type": "markdown",
   "metadata": {},
   "source": [
    "Second, we craft some dummy sample raw text strings. Below, we build a dataset with 400 text strings."
   ]
  },
  {
   "cell_type": "code",
   "execution_count": null,
   "metadata": {},
   "outputs": [
    {
     "name": "stdout",
     "output_type": "stream",
     "text": [
      "sample size of raw context:  400\n"
     ]
    }
   ],
   "source": [
    "raw_context_input = [\n",
    "    \"\"\"We believe our success depends upon our capabilities in areas such as design, research and development, \\\n",
    "production and marketing and is supported and protected by our intellectual property rights, such as \\\n",
    "trademarks, utility and design patents, copyrights, and trade secrets, among others. We have followed a policy \\\n",
    "of applying for and registering intellectual property rights in the United States and select foreign countries \\\n",
    "on trademarks, inventions, innovations and designs that we deem valuable. W e also continue to vigorously \\\n",
    "protect our intellectual property, including trademarks, patents and trade secrets against third-party \\\n",
    "infringement and misappropriation.\"\"\",\n",
    "    \"\"\"In 1948, Claude E. Shannon published A Mathematical Theory of Communication (Shannon, 1948) \\\n",
    "establishing the theory of information. In his article, Shannon introduced the concept of information entropy \\\n",
    "for the first time. We will begin our journey here.\"\"\",\n",
    "    \"\"\"The chain rule states that the derivative of a composite function (a function composed of another \\\n",
    "function) is equal to the derivative of the outer function multiplied by the derivative of the inner function.\\\n",
    "Mathematically, it can be written as: \\(\\frac{d}{dx}g(h(x)) = \\frac{dg}{dh}(h(x))\\cdot \\frac{dh}{dx}(x)\\).\"\"\",\n",
    "    \"\"\"Hypothesis testing involves making a claim about a population parameter based on sample data, and then \\\n",
    "conducting a test to determine whether this claim is supported or rejected. This typically involves \\\n",
    "calculating a test statistic, determining a significance level, and comparing the calculated value to a \\\n",
    "critical value to obtain a p-value. \"\"\"\n",
    "]\n",
    "\n",
    "raw_context_input_400 = raw_context_input * 100\n",
    "\n",
    "print(\"sample size of raw context: \", len(raw_context_input_400))"
   ]
  },
  {
   "cell_type": "markdown",
   "metadata": {},
   "source": [
    "Next, for the given raw text strings `raw_context_input` above, we convert them to the `Context` class to be processed by `uniflow`."
   ]
  },
  {
   "cell_type": "code",
   "execution_count": null,
   "metadata": {},
   "outputs": [
    {
     "name": "stdout",
     "output_type": "stream",
     "text": [
      "sample size of processed raw context with prompts:  400\n"
     ]
    },
    {
     "data": {
      "text/plain": [
       "[{'instruction': 'Generate one question and its corresponding answer based on the context. Following the format of the examples below to include context, question, and answer in the response.',\n",
       "  'examples': [{'context': 'The quick brown fox jumps over the lazy dog.',\n",
       "    'question': 'What is the color of the fox?',\n",
       "    'answer': 'brown.'},\n",
       "   {'context': 'The quick brown fox jumps over the lazy black dog.',\n",
       "    'question': 'What is the color of the dog?',\n",
       "    'answer': 'black.'},\n",
       "   {'context': 'We believe our success depends upon our capabilities in areas such as design, research and development, production and marketing and is supported and protected by our intellectual property rights, such as trademarks, utility and design patents, copyrights, and trade secrets, among others. We have followed a policy of applying for and registering intellectual property rights in the United States and select foreign countries on trademarks, inventions, innovations and designs that we deem valuable. W e also continue to vigorously protect our intellectual property, including trademarks, patents and trade secrets against third-party \\\\ \\ninfringement and misappropriation.'}]},\n",
       " {'instruction': 'Generate one question and its corresponding answer based on the context. Following the format of the examples below to include context, question, and answer in the response.',\n",
       "  'examples': [{'context': 'The quick brown fox jumps over the lazy dog.',\n",
       "    'question': 'What is the color of the fox?',\n",
       "    'answer': 'brown.'},\n",
       "   {'context': 'The quick brown fox jumps over the lazy black dog.',\n",
       "    'question': 'What is the color of the dog?',\n",
       "    'answer': 'black.'},\n",
       "   {'context': 'In 1948, Claude E. Shannon published A Mathematical Theory of Communication (Shannon, 1948) establishing the theory of information. In his article, Shannon introduced the concept of information entropy for the first time. We will begin our journey here.'}]}]"
      ]
     },
     "execution_count": 5,
     "metadata": {},
     "output_type": "execute_result"
    }
   ],
   "source": [
    "\n",
    "input_data = [\n",
    "    Context(context=data)\n",
    "    for data in raw_context_input_400\n",
    "]\n",
    "\n",
    "print(\"sample size of processed input data: \", len(input_data))\n",
    "\n",
    "input_data[:2]\n"
   ]
  },
  {
   "cell_type": "markdown",
   "metadata": {},
   "source": [
    "### Use LLM to generate data\n",
    "\n",
    "In this example, we will use the [HuggingfaceModelServer](https://github.com/CambioML/uniflow/blob/main/uniflow/model/server.py#L170)'s default LLM to generate questions and answers. Let's import the config and client of this model.\n",
    "\n",
    "Here, we pass in our `guided_prompt` to the HuggingfaceConfig to use our customized instructions and examples, instead of the `uniflow` default ones.\n",
    "\n",
    "Note, base on your GPU memory, you can set your optimal `batch_size` below. (We attached our `batch_size` benchmarking results in the appendix of this notebook.)"
   ]
  },
  {
   "cell_type": "code",
   "execution_count": null,
   "metadata": {},
   "outputs": [
    {
     "name": "stderr",
     "output_type": "stream",
     "text": [
      "/opt/conda/envs/uniflow_no_installed/lib/python3.10/site-packages/transformers/utils/generic.py:441: UserWarning: torch.utils._pytree._register_pytree_node is deprecated. Please use torch.utils._pytree.register_pytree_node instead.\n",
      "  _torch_pytree._register_pytree_node(\n",
      "/opt/conda/envs/uniflow_no_installed/lib/python3.10/site-packages/transformers/utils/generic.py:309: UserWarning: torch.utils._pytree._register_pytree_node is deprecated. Please use torch.utils._pytree.register_pytree_node instead.\n",
      "  _torch_pytree._register_pytree_node(\n",
      "Loading checkpoint shards: 100%|██████████| 2/2 [00:09<00:00,  4.67s/it]\n"
     ]
    }
   ],
   "source": [
    "config = HuggingfaceConfig(\n",
    "    guided_prompt_template=guided_prompt,\n",
    "    model_config=HuggingfaceModelConfig(batch_size=128))\n",
    "client = Client(config)"
   ]
  },
  {
   "cell_type": "markdown",
   "metadata": {},
   "source": [
    "Now we call the `run` method on the `client` object to execute the question-answer generation operation on the data shown above.\n"
   ]
  },
  {
   "cell_type": "code",
   "execution_count": null,
   "metadata": {},
   "outputs": [
    {
     "name": "stderr",
     "output_type": "stream",
     "text": [
      "  0%|          | 0/4 [00:00<?, ?it/s]"
     ]
    },
    {
     "name": "stderr",
     "output_type": "stream",
     "text": [
      "/opt/conda/envs/uniflow_no_installed/lib/python3.10/site-packages/bitsandbytes/nn/modules.py:228: UserWarning: Input type into Linear4bit is torch.float16, but bnb_4bit_compute_type=torch.float32 (default). This will lead to slow inference or training speed.\n",
      "  warnings.warn(f'Input type into Linear4bit is torch.float16, but bnb_4bit_compute_type=torch.float32 (default). This will lead to slow inference or training speed.')\n",
      "100%|██████████| 4/4 [03:01<00:00, 45.29s/it]\n"
     ]
    }
   ],
   "source": [
    "output = client.run(input_data)"
   ]
  },
  {
   "cell_type": "markdown",
   "metadata": {},
   "source": [
    "### Process the output\n",
    "\n",
    "Let's take a look of the generation output. We need to do a little postprocessing on the raw output."
   ]
  },
  {
   "cell_type": "code",
   "execution_count": null,
   "metadata": {},
   "outputs": [
    {
     "name": "stdout",
     "output_type": "stream",
     "text": [
      "{'context': ' We believe our success depends upon our capabilities in areas '\n",
      "            'such as design, research and development, production and '\n",
      "            'marketing and is supported and protected by our intellectual '\n",
      "            'property rights, such as trademarks, utility and design patents, '\n",
      "            'copyrights, and trade secrets, among others. We have followed a '\n",
      "            'policy of applying for and registering intellectual property '\n",
      "            'rights in the United States and select foreign countries on '\n",
      "            'trademarks, inventions, innovations and designs that we deem '\n",
      "            'valuable. W e also continue to vigorously protect our '\n",
      "            'intellectual property, including trademarks, patents and trade '\n",
      "            'secrets against third-party \\\\ \\n'\n",
      "            'infringement and misappropriation.\\n',\n",
      " 'question': ' How does the company protect their intellectual property?\\n',\n",
      " 'answer': ' The company protects their intellectual property through various '\n",
      "           'means such as trademarks, patents, copyrights, and trade secrets. '\n",
      "           'They apply for and register these intellectual properties in the '\n",
      "           'US and select foreign countries where they consider them valuable. '\n",
      "           'Additionally, they actively monitor and enforce their intellectual '\n",
      "           'property rights against infringement and misappropriation.'}\n"
     ]
    }
   ],
   "source": [
    "import re\n",
    "from pprint import pprint\n",
    "\n",
    "keywords = [\"context:\", \"question:\", \"answer:\"]\n",
    "pattern = '|'.join(map(re.escape, keywords))\n",
    "\n",
    "o = output[0]['output'][0]['response'][0] ## we only postprocess the first output\n",
    "segments = [segment for segment in re.split(pattern, o) if segment.strip()]\n",
    "result = {\n",
    "    \"context\": segments[-3],\n",
    "    \"question\": segments[-2],\n",
    "    \"answer\": segments[-1]\n",
    "}\n",
    "\n",
    "pprint(result, sort_dicts=False)"
   ]
  },
  {
   "cell_type": "markdown",
   "metadata": {},
   "source": [
    "Congrats! Your question answers from the given knowledge context are generated!\n",
    "\n",
    "\n",
    "---\n",
    "\n",
    "\n",
    "## Appendix\n",
    "\n",
    "We benchmarked to see the optimal `batch_size` for the `HuggingfaceModelConfig` flow. The answer is \"It depends on your data token length, your GPU memory, your LLM size, etc.\" In the following experiment, we use a GPU with 24G memory and a quantized LLM (2G). We still use the above 400 raw data strings `raw_context_input_400`.\n",
    "\n",
    "\n",
    "Here are the results:\n",
    "\n",
    "- batch_size = 1\n",
    "    100%|██████████| 400/400 [20:35<00:00,  3.09s/it]\n",
    "- batch_size = 8\n",
    "    100%|██████████| 50/50 [15:00<00:00, 18.02s/it]\n",
    "- batch_size = 16\n",
    "    100%|██████████| 25/25 [08:26<00:00, 20.25s/it]\n",
    "- batch_size = 32\n",
    "    100%|██████████| 13/13 [05:13<00:00, 24.09s/it]\n",
    "- batch_size = 64\n",
    "    100%|██████████| 7/7 [03:42<00:00, 31.75s/it]\n",
    "- batch_size = 128\n",
    "    100%|██████████| 4/4 [02:57<00:00, 44.33s/it]\n",
    "- batch_size = 256: OOM\n",
    "\n",
    "As you can see, the processing time is much shorter if `batch_size=128` compared with `batch_size=1`. However, it might lead to OOM error if `batch_size` is too large."
   ]
  }
 ],
 "metadata": {
  "kernelspec": {
   "display_name": "uniflow",
   "language": "python",
   "name": "python3"
  },
  "language_info": {
   "codemirror_mode": {
    "name": "ipython",
    "version": 3
   },
   "file_extension": ".py",
   "mimetype": "text/x-python",
   "name": "python",
   "nbconvert_exporter": "python",
   "pygments_lexer": "ipython3",
   "version": "3.10.13"
  }
 },
 "nbformat": 4,
 "nbformat_minor": 2
}
