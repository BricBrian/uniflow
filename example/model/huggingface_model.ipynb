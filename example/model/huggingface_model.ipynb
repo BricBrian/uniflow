{
 "cells": [
  {
   "cell_type": "markdown",
   "metadata": {},
   "source": [
    "# Notebook for HuggingFaceModelFlow \n",
    "## Update system path"
   ]
  },
  {
   "cell_type": "code",
   "execution_count": 1,
   "metadata": {},
   "outputs": [],
   "source": [
    "%reload_ext autoreload\n",
    "%autoreload 2\n",
    "\n",
    "import sys\n",
    "\n",
    "sys.path.append(\".\")\n",
    "sys.path.append(\"..\")\n",
    "sys.path.append(\"../..\")"
   ]
  },
  {
   "cell_type": "markdown",
   "metadata": {},
   "source": [
    "## Import dependency"
   ]
  },
  {
   "cell_type": "code",
   "execution_count": 2,
   "metadata": {},
   "outputs": [
    {
     "name": "stderr",
     "output_type": "stream",
     "text": [
      "/opt/conda/envs/uniflow/lib/python3.10/site-packages/tqdm/auto.py:21: TqdmWarning: IProgress not found. Please update jupyter and ipywidgets. See https://ipywidgets.readthedocs.io/en/stable/user_install.html\n",
      "  from .autonotebook import tqdm as notebook_tqdm\n"
     ]
    },
    {
     "data": {
      "text/plain": [
       "True"
      ]
     },
     "execution_count": 2,
     "metadata": {},
     "output_type": "execute_result"
    }
   ],
   "source": [
    "from dotenv import load_dotenv\n",
    "from IPython.display import display\n",
    "\n",
    "from uniflow.client import Client\n",
    "from uniflow.flow.flow_factory import FlowFactory\n",
    "from uniflow.model.server import ModelServerFactory\n",
    "from uniflow.config import HuggingfaceConfig\n",
    "from uniflow.model.config import HuggingfaceModelConfig\n",
    "from uniflow.viz import Viz\n",
    "\n",
    "load_dotenv()"
   ]
  },
  {
   "cell_type": "code",
   "execution_count": 3,
   "metadata": {},
   "outputs": [
    {
     "data": {
      "text/plain": [
       "['LinearFlow',\n",
       " 'FewShotModelFlow',\n",
       " 'ModelFlow',\n",
       " 'OpenAIJsonModelFlow',\n",
       " 'HuggingFaceModelFlow',\n",
       " 'LMQGModelFlow']"
      ]
     },
     "execution_count": 3,
     "metadata": {},
     "output_type": "execute_result"
    }
   ],
   "source": [
    "FlowFactory.list()"
   ]
  },
  {
   "cell_type": "code",
   "execution_count": 4,
   "metadata": {},
   "outputs": [
    {
     "data": {
      "text/plain": [
       "['OpenAIModelServer', 'HuggingfaceModelServer', 'LMQGModelServer']"
      ]
     },
     "execution_count": 4,
     "metadata": {},
     "output_type": "execute_result"
    }
   ],
   "source": [
    "ModelServerFactory.list()"
   ]
  },
  {
   "cell_type": "markdown",
   "metadata": {},
   "source": [
    "## Run model flow to generate data"
   ]
  },
  {
   "cell_type": "code",
   "execution_count": 5,
   "metadata": {},
   "outputs": [],
   "source": [
    "data = [{\n",
    "    \"instruction\": \"\"\"Generate one question and its corresponding answer based on the context. Following the format of the examples below to include context, question, and answer in the response.\"\"\",\n",
    "    \"examples\": [\n",
    "        {\n",
    "            \"context\": \"\"\"The quick brown fox jumps over the lazy dog.\"\"\",\n",
    "            \"question\": \"\"\"What is the color of the fox?\"\"\",\n",
    "            \"answer\": \"\"\"brown.\"\"\"\n",
    "        },\n",
    "        {\n",
    "            \"context\": \"\"\"The quick brown fox jumps over the lazy black dog.\"\"\",\n",
    "            \"question\": \"\"\"What is the color of the dog?\"\"\",\n",
    "            \"answer\": \"\"\"black.\"\"\"\n",
    "        },\n",
    "        {\n",
    "            \"context\": \"\"\"It was a sunny day and the sky color is blue.\"\"\",\n",
    "        }\n",
    "    ],\n",
    "},\n",
    "        {\n",
    "    \"instruction\": \"\"\"Generate one question and its corresponding answer based on the context. Following the format of the examples below to include context, question, and answer in the response.\"\"\",\n",
    "    \"examples\": [\n",
    "        {\n",
    "            \"context\": \"\"\"The quick brown fox jumps over the lazy dog.\"\"\",\n",
    "            \"question\": \"\"\"What is the color of the fox?\"\"\",\n",
    "            \"answer\": \"\"\"brown.\"\"\"\n",
    "        },\n",
    "        {\n",
    "            \"context\": \"\"\"The quick brown fox jumps over the lazy black dog.\"\"\",\n",
    "            \"question\": \"\"\"What is the color of the dog?\"\"\",\n",
    "            \"answer\": \"\"\"black.\"\"\"\n",
    "        },\n",
    "        {\n",
    "            \"context\": \"\"\"My name is bobby and I am a talent software engineer working on AI/ML.\"\"\",\n",
    "        }\n",
    "    ],\n",
    "}]\n"
   ]
  },
  {
   "cell_type": "code",
   "execution_count": 6,
   "metadata": {},
   "outputs": [
    {
     "name": "stderr",
     "output_type": "stream",
     "text": [
      "Loading checkpoint shards: 100%|██████████| 2/2 [00:09<00:00,  4.73s/it]\n"
     ]
    }
   ],
   "source": [
    "config = HuggingfaceConfig(model_config=HuggingfaceModelConfig(batch_size=1))\n",
    "client = Client(config)"
   ]
  },
  {
   "cell_type": "code",
   "execution_count": 7,
   "metadata": {},
   "outputs": [
    {
     "name": "stderr",
     "output_type": "stream",
     "text": [
      "  0%|          | 0/2 [00:00<?, ?it/s]"
     ]
    },
    {
     "name": "stderr",
     "output_type": "stream",
     "text": [
      "/opt/conda/envs/uniflow/lib/python3.10/site-packages/bitsandbytes/nn/modules.py:226: UserWarning: Input type into Linear4bit is torch.float16, but bnb_4bit_compute_type=torch.float32 (default). This will lead to slow inference or training speed.\n",
      "  warnings.warn(f'Input type into Linear4bit is torch.float16, but bnb_4bit_compute_type=torch.float32 (default). This will lead to slow inference or training speed.')\n",
      "100%|██████████| 2/2 [00:03<00:00,  1.53s/it]\n"
     ]
    }
   ],
   "source": [
    "output = client.run(data)"
   ]
  },
  {
   "cell_type": "code",
   "execution_count": 8,
   "metadata": {},
   "outputs": [
    {
     "data": {
      "text/plain": [
       "[{'output': [{'response': [\"instruction: Generate one question and its corresponding answer based on the context. Following the format of the examples below to include context, question, and answer in the response.\\ncontext: The quick brown fox jumps over the lazy dog.\\nquestion: What is the color of the fox?\\nanswer: brown.\\ncontext: The quick brown fox jumps over the lazy black dog.\\nquestion: What is the color of the dog?\\nanswer: black.\\ncontext: It was a sunny day and the sky color is blue.\\nquestion: Is it raining outside?\\nanswer: No, it's not raining because the sky is blue.\"],\n",
       "    'error': 'Failed to deserialize 0 examples'}],\n",
       "  'root': <uniflow.node.node.Node at 0x7fd739f8d540>},\n",
       " {'output': [{'response': ['instruction: Generate one question and its corresponding answer based on the context. Following the format of the examples below to include context, question, and answer in the response.\\ncontext: The quick brown fox jumps over the lazy dog.\\nquestion: What is the color of the fox?\\nanswer: brown.\\ncontext: The quick brown fox jumps over the lazy black dog.\\nquestion: What is the color of the dog?\\nanswer: black.\\ncontext: My name is bobby and I am a talent software engineer working on AI/ML.\\nquestion: What is your profession?\\nanswer: software engineer'],\n",
       "    'error': 'Failed to deserialize 0 examples'}],\n",
       "  'root': <uniflow.node.node.Node at 0x7fd81473bc70>}]"
      ]
     },
     "execution_count": 8,
     "metadata": {},
     "output_type": "execute_result"
    }
   ],
   "source": [
    "output"
   ]
  },
  {
   "cell_type": "code",
   "execution_count": 15,
   "metadata": {},
   "outputs": [],
   "source": [
    "o = output[0]['output'][0]['response'][0]"
   ]
  },
  {
   "cell_type": "code",
   "execution_count": 16,
   "metadata": {},
   "outputs": [
    {
     "name": "stdout",
     "output_type": "stream",
     "text": [
      "{'context': ' It was a sunny day and the sky color is blue.\\n', 'question': ' Is it raining outside?\\n', 'answer': \" No, it's not raining because the sky is blue.\"}\n"
     ]
    }
   ],
   "source": [
    "import re\n",
    "keywords = [\"context:\", \"question:\", \"answer:\"]\n",
    "pattern = '|'.join(map(re.escape, keywords))\n",
    "\n",
    "segments = [segment for segment in re.split(pattern, o) if segment.strip()]\n",
    "result = {\n",
    "    \"context\": segments[-3],\n",
    "    \"question\": segments[-2],\n",
    "    \"answer\": segments[-1]\n",
    "}\n",
    "print(result)\n"
   ]
  },
  {
   "cell_type": "markdown",
   "metadata": {},
   "source": [
    "## Plot model flow graph"
   ]
  },
  {
   "cell_type": "code",
   "execution_count": 17,
   "metadata": {},
   "outputs": [],
   "source": [
    "graph = Viz.to_digraph(output[0]['root'])"
   ]
  },
  {
   "cell_type": "code",
   "execution_count": 18,
   "metadata": {},
   "outputs": [
    {
     "data": {
      "image/svg+xml": [
       "<?xml version=\"1.0\" encoding=\"UTF-8\" standalone=\"no\"?>\n",
       "<!DOCTYPE svg PUBLIC \"-//W3C//DTD SVG 1.1//EN\"\n",
       " \"http://www.w3.org/Graphics/SVG/1.1/DTD/svg11.dtd\">\n",
       "<!-- Generated by graphviz version 2.43.0 (0)\n",
       " -->\n",
       "<!-- Title: %3 Pages: 1 -->\n",
       "<svg width=\"349pt\" height=\"116pt\"\n",
       " viewBox=\"0.00 0.00 348.57 116.00\" xmlns=\"http://www.w3.org/2000/svg\" xmlns:xlink=\"http://www.w3.org/1999/xlink\">\n",
       "<g id=\"graph0\" class=\"graph\" transform=\"scale(1 1) rotate(0) translate(4 112)\">\n",
       "<title>%3</title>\n",
       "<polygon fill=\"white\" stroke=\"transparent\" points=\"-4,4 -4,-112 344.57,-112 344.57,4 -4,4\"/>\n",
       "<!-- root -->\n",
       "<g id=\"node1\" class=\"node\">\n",
       "<title>root</title>\n",
       "<ellipse fill=\"none\" stroke=\"black\" cx=\"170.28\" cy=\"-90\" rx=\"29.8\" ry=\"18\"/>\n",
       "<text text-anchor=\"middle\" x=\"170.28\" y=\"-86.3\" font-family=\"Times,serif\" font-size=\"14.00\">root</text>\n",
       "</g>\n",
       "<!-- thread_0/huggingface_model_op_1 -->\n",
       "<g id=\"node2\" class=\"node\">\n",
       "<title>thread_0/huggingface_model_op_1</title>\n",
       "<ellipse fill=\"none\" stroke=\"black\" cx=\"170.28\" cy=\"-18\" rx=\"170.07\" ry=\"18\"/>\n",
       "<text text-anchor=\"middle\" x=\"170.28\" y=\"-14.3\" font-family=\"Times,serif\" font-size=\"14.00\">thread_0/huggingface_model_op_1</text>\n",
       "</g>\n",
       "<!-- root&#45;&gt;thread_0/huggingface_model_op_1 -->\n",
       "<g id=\"edge1\" class=\"edge\">\n",
       "<title>root&#45;&gt;thread_0/huggingface_model_op_1</title>\n",
       "<path fill=\"none\" stroke=\"black\" d=\"M170.28,-71.7C170.28,-63.98 170.28,-54.71 170.28,-46.11\"/>\n",
       "<polygon fill=\"black\" stroke=\"black\" points=\"173.78,-46.1 170.28,-36.1 166.78,-46.1 173.78,-46.1\"/>\n",
       "</g>\n",
       "</g>\n",
       "</svg>\n"
      ],
      "text/plain": [
       "<graphviz.graphs.Digraph at 0x7fd815836410>"
      ]
     },
     "metadata": {},
     "output_type": "display_data"
    }
   ],
   "source": [
    "display(graph)"
   ]
  },
  {
   "cell_type": "code",
   "execution_count": 19,
   "metadata": {},
   "outputs": [],
   "source": [
    "graph = Viz.to_digraph(output[1]['root'])"
   ]
  },
  {
   "cell_type": "code",
   "execution_count": 20,
   "metadata": {},
   "outputs": [
    {
     "data": {
      "image/svg+xml": [
       "<?xml version=\"1.0\" encoding=\"UTF-8\" standalone=\"no\"?>\n",
       "<!DOCTYPE svg PUBLIC \"-//W3C//DTD SVG 1.1//EN\"\n",
       " \"http://www.w3.org/Graphics/SVG/1.1/DTD/svg11.dtd\">\n",
       "<!-- Generated by graphviz version 2.43.0 (0)\n",
       " -->\n",
       "<!-- Title: %3 Pages: 1 -->\n",
       "<svg width=\"349pt\" height=\"116pt\"\n",
       " viewBox=\"0.00 0.00 348.57 116.00\" xmlns=\"http://www.w3.org/2000/svg\" xmlns:xlink=\"http://www.w3.org/1999/xlink\">\n",
       "<g id=\"graph0\" class=\"graph\" transform=\"scale(1 1) rotate(0) translate(4 112)\">\n",
       "<title>%3</title>\n",
       "<polygon fill=\"white\" stroke=\"transparent\" points=\"-4,4 -4,-112 344.57,-112 344.57,4 -4,4\"/>\n",
       "<!-- root -->\n",
       "<g id=\"node1\" class=\"node\">\n",
       "<title>root</title>\n",
       "<ellipse fill=\"none\" stroke=\"black\" cx=\"170.28\" cy=\"-90\" rx=\"29.8\" ry=\"18\"/>\n",
       "<text text-anchor=\"middle\" x=\"170.28\" y=\"-86.3\" font-family=\"Times,serif\" font-size=\"14.00\">root</text>\n",
       "</g>\n",
       "<!-- thread_0/huggingface_model_op_2 -->\n",
       "<g id=\"node2\" class=\"node\">\n",
       "<title>thread_0/huggingface_model_op_2</title>\n",
       "<ellipse fill=\"none\" stroke=\"black\" cx=\"170.28\" cy=\"-18\" rx=\"170.07\" ry=\"18\"/>\n",
       "<text text-anchor=\"middle\" x=\"170.28\" y=\"-14.3\" font-family=\"Times,serif\" font-size=\"14.00\">thread_0/huggingface_model_op_2</text>\n",
       "</g>\n",
       "<!-- root&#45;&gt;thread_0/huggingface_model_op_2 -->\n",
       "<g id=\"edge1\" class=\"edge\">\n",
       "<title>root&#45;&gt;thread_0/huggingface_model_op_2</title>\n",
       "<path fill=\"none\" stroke=\"black\" d=\"M170.28,-71.7C170.28,-63.98 170.28,-54.71 170.28,-46.11\"/>\n",
       "<polygon fill=\"black\" stroke=\"black\" points=\"173.78,-46.1 170.28,-36.1 166.78,-46.1 173.78,-46.1\"/>\n",
       "</g>\n",
       "</g>\n",
       "</svg>\n"
      ],
      "text/plain": [
       "<graphviz.graphs.Digraph at 0x7fd81717b010>"
      ]
     },
     "metadata": {},
     "output_type": "display_data"
    }
   ],
   "source": [
    "display(graph)"
   ]
  }
 ],
 "metadata": {
  "kernelspec": {
   "display_name": "uniflow",
   "language": "python",
   "name": "python3"
  },
  "language_info": {
   "codemirror_mode": {
    "name": "ipython",
    "version": 3
   },
   "file_extension": ".py",
   "mimetype": "text/x-python",
   "name": "python",
   "nbconvert_exporter": "python",
   "pygments_lexer": "ipython3",
   "version": "3.10.13"
  }
 },
 "nbformat": 4,
 "nbformat_minor": 2
}
