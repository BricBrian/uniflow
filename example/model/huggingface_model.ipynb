{
 "cells": [
  {
   "cell_type": "markdown",
   "metadata": {},
   "source": [
    "# Using Open-source HuggingFace Models to Generate QAs from Raw Data\n",
    "\n",
    "In this example, we will show you how to generate question-answers (QAs) from give text strings using open-source Huggingface models via uniflow's [HuggingFaceModelFlow](https://github.com/CambioML/uniflow/blob/main/uniflow/flow/model_flow.py#L86).\n",
    "\n",
    "## Before running the code\n",
    "\n",
    "You will need to `uniflow` conda environment to run this notebook. You can set up the environment following the instruction: https://github.com/CambioML/uniflow/tree/main#installation.\n",
    "\n",
    "## Update system path"
   ]
  },
  {
   "cell_type": "code",
   "execution_count": 1,
   "metadata": {},
   "outputs": [],
   "source": [
    "%reload_ext autoreload\n",
    "%autoreload 2\n",
    "\n",
    "import sys\n",
    "\n",
    "sys.path.append(\".\")\n",
    "sys.path.append(\"..\")\n",
    "sys.path.append(\"../..\")"
   ]
  },
  {
   "cell_type": "markdown",
   "metadata": {},
   "source": [
    "## Import dependency"
   ]
  },
  {
   "cell_type": "code",
   "execution_count": 2,
   "metadata": {},
   "outputs": [
    {
     "name": "stderr",
     "output_type": "stream",
     "text": [
      "/opt/conda/envs/uniflow_no_installed/lib/python3.10/site-packages/tqdm/auto.py:21: TqdmWarning: IProgress not found. Please update jupyter and ipywidgets. See https://ipywidgets.readthedocs.io/en/stable/user_install.html\n",
      "  from .autonotebook import tqdm as notebook_tqdm\n"
     ]
    },
    {
     "data": {
      "text/plain": [
       "True"
      ]
     },
     "execution_count": 2,
     "metadata": {},
     "output_type": "execute_result"
    }
   ],
   "source": [
    "from dotenv import load_dotenv\n",
    "from IPython.display import display\n",
    "\n",
    "from uniflow.client import Client\n",
    "from uniflow.flow.flow_factory import FlowFactory\n",
    "from uniflow.model.server import ModelServerFactory\n",
    "from uniflow.config import HuggingfaceConfig\n",
    "from uniflow.model.config import HuggingfaceModelConfig\n",
    "from uniflow.viz import Viz\n",
    "\n",
    "load_dotenv()"
   ]
  },
  {
   "cell_type": "markdown",
   "metadata": {},
   "source": [
    "### Prepare sample prompts\n",
    "\n",
    "First, we need to demostrate sample prompts for LLM, those include instruction and sample json format. "
   ]
  },
  {
   "cell_type": "code",
   "execution_count": 5,
   "metadata": {},
   "outputs": [],
   "source": [
    "sample_instruction = \"\"\"Generate one question and its corresponding answer based on the context. Following the format of the examples below to include context, question, and answer in the response.\"\"\"\n",
    "\n",
    "sample_json_format = [        \n",
    "        {\n",
    "            \"context\": \"\"\"The quick brown fox jumps over the lazy dog.\"\"\",\n",
    "            \"question\": \"\"\"What is the color of the fox?\"\"\",\n",
    "            \"answer\": \"\"\"brown.\"\"\"\n",
    "        },\n",
    "        {\n",
    "            \"context\": \"\"\"The quick brown fox jumps over the lazy black dog.\"\"\",\n",
    "            \"question\": \"\"\"What is the color of the dog?\"\"\",\n",
    "            \"answer\": \"\"\"black.\"\"\"\n",
    "        }]"
   ]
  },
  {
   "cell_type": "markdown",
   "metadata": {},
   "source": [
    "Next, for the given raw text strings `raw_context_input` below, we can decorate them with our sample prompts. "
   ]
  },
  {
   "cell_type": "code",
   "execution_count": 6,
   "metadata": {},
   "outputs": [],
   "source": [
    "# raw_context_input = [\n",
    "#     \"\"\"We believe our success depends upon our capabilities in areas such as design, research and development, \\\n",
    "# production and marketing and is supported and protected by our intellectual property rights, such as trademarks, \\\n",
    "# utility and design patents, copyrights, and trade secrets, among others. We have followed a policy of applying for \\\n",
    "# and registering intellectual property rights in the United States and select foreign countries on trademarks, \\\n",
    "# inventions, innovations and designs that we deem valuable. W e also continue to vigorously protect our \\\n",
    "# intellectual property, including trademarks, patents and trade secrets against third-party infringement \\\n",
    "# and misappropriation.\"\"\",\n",
    "#     \"\"\"In 1948, Claude E. Shannon published A Mathematical Theory of Communication (Shannon, 1948) establishing the theory of \\\n",
    "# information. In his article, Shannon introduced the concept of information entropy for the first time. We will begin our \\\n",
    "# journey here.\"\"\",\n",
    "#     \"\"\"The chain rule states that the derivative of a composite function (a function composed of another function) is equal to \\\n",
    "# the derivative of the outer function multiplied by the derivative of the inner function. Mathematically, it can be \\\n",
    "# written as: \\(\\frac{d}{dx}g(h(x)) = \\frac{dg}{dh}(h(x))\\cdot \\frac{dh}{dx}(x)\\).\"\"\",\n",
    "#     \"\"\"Hypothesis testing involves making a claim about a population parameter based on sample data, and then conducting a test \\\n",
    "# to determine whether this claim is supported or rejected. This typically involves calculating a test statistic, \\\n",
    "# determining a significance level, and comparing the calculated value to a critical value to obtain a p-value. \"\"\"\n",
    "# ]\n"
   ]
  },
  {
   "cell_type": "code",
   "execution_count": 7,
   "metadata": {},
   "outputs": [
    {
     "data": {
      "text/plain": [
       "[{'instruction': 'Generate one question and its corresponding answer based on the context. Following the format of the examples below to include context, question, and answer in the response.',\n",
       "  'examples': [{'context': 'The quick brown fox jumps over the lazy dog.',\n",
       "    'question': 'What is the color of the fox?',\n",
       "    'answer': 'brown.'},\n",
       "   {'context': 'The quick brown fox jumps over the lazy black dog.',\n",
       "    'question': 'What is the color of the dog?',\n",
       "    'answer': 'black.'},\n",
       "   {'context': 'We believe our success depends upon our capabilities in areas such as design, research and development, production and marketing and is supported and protected by our intellectual property rights, such as trademarks, utility and design patents, copyrights, and trade secrets, among others. We have followed a policy of applying for and registering intellectual property rights in the United States and select foreign countries on trademarks, inventions, innovations and designs that we deem valuable. W e also continue to vigorously protect our intellectual property, including trademarks, patents and trade secrets against third-party infringement and misappropriation.'}]},\n",
       " {'instruction': 'Generate one question and its corresponding answer based on the context. Following the format of the examples below to include context, question, and answer in the response.',\n",
       "  'examples': [{'context': 'The quick brown fox jumps over the lazy dog.',\n",
       "    'question': 'What is the color of the fox?',\n",
       "    'answer': 'brown.'},\n",
       "   {'context': 'The quick brown fox jumps over the lazy black dog.',\n",
       "    'question': 'What is the color of the dog?',\n",
       "    'answer': 'black.'},\n",
       "   {'context': 'In 1948, Claude E. Shannon published A Mathematical Theory of Communication (Shannon, 1948) establishing the theory of information. In his article, Shannon introduced the concept of information entropy for the first time. We will begin our journey here.'}]},\n",
       " {'instruction': 'Generate one question and its corresponding answer based on the context. Following the format of the examples below to include context, question, and answer in the response.',\n",
       "  'examples': [{'context': 'The quick brown fox jumps over the lazy dog.',\n",
       "    'question': 'What is the color of the fox?',\n",
       "    'answer': 'brown.'},\n",
       "   {'context': 'The quick brown fox jumps over the lazy black dog.',\n",
       "    'question': 'What is the color of the dog?',\n",
       "    'answer': 'black.'},\n",
       "   {'context': 'The chain rule states that the derivative of a composite function (a function composed of another function) is equal to the derivative of the outer function multiplied by the derivative of the inner function. Mathematically, it can be written as: \\\\(\\x0crac{d}{dx}g(h(x)) = \\x0crac{dg}{dh}(h(x))\\\\cdot \\x0crac{dh}{dx}(x)\\\\).'}]},\n",
       " {'instruction': 'Generate one question and its corresponding answer based on the context. Following the format of the examples below to include context, question, and answer in the response.',\n",
       "  'examples': [{'context': 'The quick brown fox jumps over the lazy dog.',\n",
       "    'question': 'What is the color of the fox?',\n",
       "    'answer': 'brown.'},\n",
       "   {'context': 'The quick brown fox jumps over the lazy black dog.',\n",
       "    'question': 'What is the color of the dog?',\n",
       "    'answer': 'black.'},\n",
       "   {'context': 'Hypothesis testing involves making a claim about a population parameter based on sample data, and then conducting a test to determine whether this claim is supported or rejected. This typically involves calculating a test statistic, determining a significance level, and comparing the calculated value to a critical value to obtain a p-value. '}]}]"
      ]
     },
     "execution_count": 7,
     "metadata": {},
     "output_type": "execute_result"
    }
   ],
   "source": [
    "raw_context_input = [\n",
    "    \"\"\"We believe our success depends upon our capabilities in areas such as design, research and development, production and marketing and is supported and protected by our intellectual property rights, such as trademarks, utility and design patents, copyrights, and trade secrets, among others. We have followed a policy of applying for and registering intellectual property rights in the United States and select foreign countries on trademarks, inventions, innovations and designs that we deem valuable. W e also continue to vigorously protect our intellectual property, including trademarks, patents and trade secrets against third-party infringement and misappropriation.\"\"\",\n",
    "    \"\"\"In 1948, Claude E. Shannon published A Mathematical Theory of Communication (Shannon, 1948) establishing the theory of information. In his article, Shannon introduced the concept of information entropy for the first time. We will begin our journey here.\"\"\",\n",
    "    \"\"\"The chain rule states that the derivative of a composite function (a function composed of another function) is equal to the derivative of the outer function multiplied by the derivative of the inner function. Mathematically, it can be written as: \\(\\frac{d}{dx}g(h(x)) = \\frac{dg}{dh}(h(x))\\cdot \\frac{dh}{dx}(x)\\).\"\"\",\n",
    "    \"\"\"Hypothesis testing involves making a claim about a population parameter based on sample data, and then conducting a test to determine whether this claim is supported or rejected. This typically involves calculating a test statistic, determining a significance level, and comparing the calculated value to a critical value to obtain a p-value. \"\"\"\n",
    "]\n",
    "\n",
    "raw_context_input_with_prompt = [\n",
    "    {\"instruction\": sample_instruction, \"examples\": sample_json_format + [{\"context\": data}]}\n",
    "    for data in raw_context_input\n",
    "]\n",
    "\n",
    "raw_context_input_with_prompt"
   ]
  },
  {
   "cell_type": "markdown",
   "metadata": {},
   "source": [
    "## Run model flow to generate data"
   ]
  },
  {
   "cell_type": "markdown",
   "metadata": {},
   "source": [
    "TODO: figure out the optimal batchsize."
   ]
  },
  {
   "cell_type": "code",
   "execution_count": 8,
   "metadata": {},
   "outputs": [
    {
     "name": "stderr",
     "output_type": "stream",
     "text": [
      "/opt/conda/envs/uniflow_no_installed/lib/python3.10/site-packages/transformers/utils/generic.py:441: UserWarning: torch.utils._pytree._register_pytree_node is deprecated. Please use torch.utils._pytree.register_pytree_node instead.\n",
      "  _torch_pytree._register_pytree_node(\n",
      "/opt/conda/envs/uniflow_no_installed/lib/python3.10/site-packages/transformers/utils/generic.py:309: UserWarning: torch.utils._pytree._register_pytree_node is deprecated. Please use torch.utils._pytree.register_pytree_node instead.\n",
      "  _torch_pytree._register_pytree_node(\n",
      "Loading checkpoint shards: 100%|██████████| 2/2 [00:09<00:00,  4.62s/it]\n"
     ]
    }
   ],
   "source": [
    "config = HuggingfaceConfig(model_config=HuggingfaceModelConfig(batch_size=4))\n",
    "client = Client(config)"
   ]
  },
  {
   "cell_type": "code",
   "execution_count": 9,
   "metadata": {},
   "outputs": [
    {
     "name": "stderr",
     "output_type": "stream",
     "text": [
      "  0%|          | 0/1 [00:00<?, ?it/s]"
     ]
    },
    {
     "name": "stderr",
     "output_type": "stream",
     "text": [
      "/opt/conda/envs/uniflow_no_installed/lib/python3.10/site-packages/bitsandbytes/nn/modules.py:228: UserWarning: Input type into Linear4bit is torch.float16, but bnb_4bit_compute_type=torch.float32 (default). This will lead to slow inference or training speed.\n",
      "  warnings.warn(f'Input type into Linear4bit is torch.float16, but bnb_4bit_compute_type=torch.float32 (default). This will lead to slow inference or training speed.')\n",
      "100%|██████████| 1/1 [00:13<00:00, 13.32s/it]\n"
     ]
    }
   ],
   "source": [
    "output = client.run(raw_context_input_with_prompt)"
   ]
  },
  {
   "cell_type": "code",
   "execution_count": null,
   "metadata": {},
   "outputs": [],
   "source": []
  },
  {
   "cell_type": "code",
   "execution_count": 10,
   "metadata": {},
   "outputs": [],
   "source": [
    "o = output[0]['output'][0]['response'][0]"
   ]
  },
  {
   "cell_type": "code",
   "execution_count": 11,
   "metadata": {},
   "outputs": [],
   "source": [
    "import re\n",
    "keywords = [\"context:\", \"question:\", \"answer:\"]\n",
    "pattern = '|'.join(map(re.escape, keywords))\n",
    "\n",
    "segments = [segment for segment in re.split(pattern, o) if segment.strip()]\n",
    "result = {\n",
    "    \"context\": segments[-3],\n",
    "    \"question\": segments[-2],\n",
    "    \"answer\": segments[-1]\n",
    "}\n"
   ]
  },
  {
   "cell_type": "code",
   "execution_count": 12,
   "metadata": {},
   "outputs": [
    {
     "name": "stdout",
     "output_type": "stream",
     "text": [
      "{'context': ' We believe our success depends upon our capabilities in areas '\n",
      "            'such as design, research and development, production and '\n",
      "            'marketing and is supported and protected by our intellectual '\n",
      "            'property rights, such as trademarks, utility and design patents, '\n",
      "            'copyrights, and trade secrets, among others. We have followed a '\n",
      "            'policy of applying for and registering intellectual property '\n",
      "            'rights in the United States and select foreign countries on '\n",
      "            'trademarks, inventions, innovations and designs that we deem '\n",
      "            'valuable. W e also continue to vigorously protect our '\n",
      "            'intellectual property, including trademarks, patents and trade '\n",
      "            'secrets against third-party infringement and misappropriation.\\n',\n",
      " 'question': ' How does the company protect their intellectual property?\\n',\n",
      " 'answer': ' The company protects their intellectual property through various '\n",
      "           'means such as trademarks, patents, copyrights, and trade secrets. '\n",
      "           'They apply for and register these intellectual properties in the '\n",
      "           'United States and select foreign countries. Additionally, they '\n",
      "           'actively monitor and enforce their intellectual property rights '\n",
      "           'against any potential infringement or misappropriation.'}\n"
     ]
    }
   ],
   "source": [
    "from pprint import pprint\n",
    "pprint(result, sort_dicts=False)"
   ]
  }
 ],
 "metadata": {
  "kernelspec": {
   "display_name": "uniflow",
   "language": "python",
   "name": "python3"
  },
  "language_info": {
   "codemirror_mode": {
    "name": "ipython",
    "version": 3
   },
   "file_extension": ".py",
   "mimetype": "text/x-python",
   "name": "python",
   "nbconvert_exporter": "python",
   "pygments_lexer": "ipython3",
   "version": "3.10.13"
  }
 },
 "nbformat": 4,
 "nbformat_minor": 2
}
