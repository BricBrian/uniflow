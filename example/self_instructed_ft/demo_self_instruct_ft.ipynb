{
 "cells": [
  {
   "cell_type": "markdown",
   "id": "7cbc4c4a",
   "metadata": {},
   "source": [
    "# Example of generating self-instruct dataset for Paul Graham's essays\n",
    "Source: http://www.paulgraham.com/articles.html\n",
    "\n",
    "### Load packages"
   ]
  },
  {
   "cell_type": "code",
   "execution_count": 1,
   "id": "8d84dd70",
   "metadata": {},
   "outputs": [
    {
     "name": "stderr",
     "output_type": "stream",
     "text": [
      "Since the GPL-licensed package `unidecode` is not installed, using Python's `unicodedata` package which yields worse results.\n",
      "/opt/conda/envs/1104/lib/python3.10/site-packages/tqdm/auto.py:21: TqdmWarning: IProgress not found. Please update jupyter and ipywidgets. See https://ipywidgets.readthedocs.io/en/stable/user_install.html\n",
      "  from .autonotebook import tqdm as notebook_tqdm\n"
     ]
    }
   ],
   "source": [
    "import os\n",
    "import pandas as pd\n",
    "import sys\n",
    "sys.path.append(os.path.join(os.getcwd(), os.pardir, os.pardir))\n",
    "from uniflow.client import Client\n",
    "from uniflow.flow.constants import (OUTPUT_NAME, INPUT_FILE, QAPAIR_DF_KEY, OUTPUT_FILE)"
   ]
  },
  {
   "cell_type": "markdown",
   "id": "cb677037",
   "metadata": {},
   "source": [
    "### Prepare the input data\n",
    "\n",
    "Uncomment any of the html files below as the sample file to build the self-instruct flow."
   ]
  },
  {
   "cell_type": "code",
   "execution_count": 2,
   "id": "a707ef78",
   "metadata": {},
   "outputs": [],
   "source": [
    "#html_file = \"do_things_that_dont_scale.html\" #from http://paulgraham.com/ds.html\n",
    "#html_file = \"makers_schedule_managers_schedule.html\" #from http://www.paulgraham.com/makersschedule.html\n",
    "html_file = \"life_is_short.html\" #http://www.paulgraham.com/vb.html\n",
    "#html_file = \"22.11_information-theory.html\""
   ]
  },
  {
   "cell_type": "markdown",
   "id": "4b177df1",
   "metadata": {},
   "source": [
    "Set current diretory and input data directory."
   ]
  },
  {
   "cell_type": "code",
   "execution_count": 3,
   "id": "092b355a",
   "metadata": {},
   "outputs": [],
   "source": [
    "dir_cur = os.getcwd()\n",
    "input_file = os.path.join(f\"{dir_cur}/data/raw_input/\", html_file)"
   ]
  },
  {
   "cell_type": "markdown",
   "id": "dd610184",
   "metadata": {},
   "source": [
    "### Run the Self Instructed Gen Flow\n",
    "\n",
    "Note it will take a few minutes to run this cell (especially if you on a single GPU machine)."
   ]
  },
  {
   "cell_type": "code",
   "execution_count": 4,
   "id": "d2a934c8",
   "metadata": {},
   "outputs": [
    {
     "name": "stderr",
     "output_type": "stream",
     "text": [
      "INFO [preprocess_html_op]: Starting Preprocess HTML...\n",
      "INFO [preprocess_html_op]: Preprocess HTML Complete!\n",
      "INFO [si_model_inf_op]: Initializing SIModelInfOp...\n",
      "INFO [si_model_inf_op]: 1. Initializing model...\n",
      "Loading checkpoint shards: 100%|██████████| 2/2 [00:16<00:00,  8.18s/it]\n",
      "INFO [si_model_inf_op]: 2. Initializing pipeline...\n",
      "INFO [si_model_inf_op]: 3. Creating LangChain LLMChain...\n",
      "INFO [si_model_inf_op]: SIModelInfOp initialization Complete!\n",
      "INFO [si_model_inf_op]: Starting SIModelInfOp transform...\n",
      "INFO [si_model_inf_op]: Processing page 1 of 3...\n",
      "INFO [si_model_inf_op]: === processed page 1 | total questions generated: 4 ===\n",
      "INFO [si_model_inf_op]: Processing page 2 of 3...\n",
      "INFO [si_model_inf_op]: === processed page 2 | total questions generated: 5 ===\n",
      "INFO [si_model_inf_op]: Processing page 3 of 3...\n",
      "INFO [si_model_inf_op]: === processed page 3 | total questions generated: 6 ===\n",
      "INFO [si_model_inf_op]: SIModelInfOp transform complete!\n",
      "INFO [data_output_si_op]: Starting DataOutSIOp...\n",
      "INFO [utils]: Directory '/home/ubuntu/uniflow/example/self_instructed_ft/data/output' already exists.\n",
      "INFO [data_output_si_op]: DataOutSIOp complete!\n"
     ]
    },
    {
     "name": "stdout",
     "output_type": "stream",
     "text": [
      "output_dict keys: dict_keys(['output', 'root'])\n"
     ]
    }
   ],
   "source": [
    "\n",
    "# Initiate flow\n",
    "client = Client(\"flow_self_instructed_gen\")\n",
    "\n",
    "# Run flow\n",
    "input_dict = {INPUT_FILE: input_file}\n",
    "input_list = [input_dict]\n",
    "output_list = client.run(input_list)\n",
    "output_dict = output_list[0]\n",
    "\n",
    "print(f\"output_dict keys: {output_dict.keys()}\")"
   ]
  },
  {
   "cell_type": "markdown",
   "id": "a1a395d3",
   "metadata": {},
   "source": [
    "### Print out the results"
   ]
  },
  {
   "cell_type": "code",
   "execution_count": 5,
   "id": "1666d84a",
   "metadata": {},
   "outputs": [
    {
     "data": {
      "text/plain": [
       "1"
      ]
     },
     "execution_count": 5,
     "metadata": {},
     "output_type": "execute_result"
    }
   ],
   "source": [
    "# number of output nodes\n",
    "len(output_dict[OUTPUT_NAME])"
   ]
  },
  {
   "cell_type": "code",
   "execution_count": 6,
   "id": "8f5e719d",
   "metadata": {},
   "outputs": [
    {
     "data": {
      "text/plain": [
       "dict_keys(['QApair_df', 'output_file'])"
      ]
     },
     "execution_count": 6,
     "metadata": {},
     "output_type": "execute_result"
    }
   ],
   "source": [
    "# output dictionary keys\n",
    "output_dict[OUTPUT_NAME][0].keys()"
   ]
  },
  {
   "cell_type": "code",
   "execution_count": 7,
   "id": "366cc0dc",
   "metadata": {},
   "outputs": [
    {
     "data": {
      "text/plain": [
       "'/home/ubuntu/uniflow/example/self_instructed_ft/data/output/output_self_instructed_data.csv'"
      ]
     },
     "execution_count": 7,
     "metadata": {},
     "output_type": "execute_result"
    }
   ],
   "source": [
    "#output file path\n",
    "output_dict[OUTPUT_NAME][0][OUTPUT_FILE]"
   ]
  },
  {
   "cell_type": "code",
   "execution_count": 8,
   "id": "ac5e42cf",
   "metadata": {},
   "outputs": [
    {
     "data": {
      "text/html": [
       "<div>\n",
       "<style scoped>\n",
       "    .dataframe tbody tr th:only-of-type {\n",
       "        vertical-align: middle;\n",
       "    }\n",
       "\n",
       "    .dataframe tbody tr th {\n",
       "        vertical-align: top;\n",
       "    }\n",
       "\n",
       "    .dataframe thead th {\n",
       "        text-align: right;\n",
       "    }\n",
       "</style>\n",
       "<table border=\"1\" class=\"dataframe\">\n",
       "  <thead>\n",
       "    <tr style=\"text-align: right;\">\n",
       "      <th></th>\n",
       "      <th>Question</th>\n",
       "      <th>Answer</th>\n",
       "    </tr>\n",
       "  </thead>\n",
       "  <tbody>\n",
       "    <tr>\n",
       "      <th>0</th>\n",
       "      <td>What is the author's opinion on whether life is short or not?[Page 0]</td>\n",
       "      <td>The author believes that life is short.</td>\n",
       "    </tr>\n",
       "    <tr>\n",
       "      <th>1</th>\n",
       "      <td>How did having children change the author's perspective on the length of life?[Page 0]</td>\n",
       "      <td>Having children made the author realize that life is indeed short because it helped them convert time into discrete quantities. They were able to count the number of weekends spent with their child and the number of times they experienced certain events like Christmas magic.</td>\n",
       "    </tr>\n",
       "    <tr>\n",
       "      <th>2</th>\n",
       "      <td>Does knowing that life is short make a difference to the author?[Page 0]</td>\n",
       "      <td>Yes, knowing that life is short makes a big difference to the author. It gives greater weight to arguments such as \"Life is too short for X\". It also helps the author identify things that are unnecessary and wasteful, which they refer to as \"bullshit\", and eliminating those things from their lives.</td>\n",
       "    </tr>\n",
       "    <tr>\n",
       "      <th>3</th>\n",
       "      <td>What kinds of activities does the author consider to be \"bullshit\"?[Page 0]</td>\n",
       "      <td>The author considers activities such as unnecessary meetings, pointless disputes, bureaucracy, posturing, dealing with other people's mistakes, traffic jams, and addictive but unrewarding pastimes to be \"bullshit\". These activities either get forced upon us or trick us into doing them.</td>\n",
       "    </tr>\n",
       "    <tr>\n",
       "      <th>4</th>\n",
       "      <td>What is the author's opinion on defending oneself?[Page 1]</td>\n",
       "      <td>The author believes that it's better most of the time not to defend oneself, as counterintuitive as it may feel. He argues that people who attack others are literally taking their lives.</td>\n",
       "    </tr>\n",
       "    <tr>\n",
       "      <th>5</th>\n",
       "      <td>What is the main idea of the passage?[Page 2]</td>\n",
       "      <td>The main idea of the passage is to relentlessly prune bullshit, prioritize doing things that matter, and savor the time you have. This is because life is short.</td>\n",
       "    </tr>\n",
       "  </tbody>\n",
       "</table>\n",
       "</div>"
      ],
      "text/plain": [
       "                                                                                 Question  \\\n",
       "0                   What is the author's opinion on whether life is short or not?[Page 0]   \n",
       "1  How did having children change the author's perspective on the length of life?[Page 0]   \n",
       "2                Does knowing that life is short make a difference to the author?[Page 0]   \n",
       "3             What kinds of activities does the author consider to be \"bullshit\"?[Page 0]   \n",
       "4                              What is the author's opinion on defending oneself?[Page 1]   \n",
       "5                                           What is the main idea of the passage?[Page 2]   \n",
       "\n",
       "                                                                                                                                                                                                                                                                                                        Answer  \n",
       "0                                                                                                                                                                                                                                                                      The author believes that life is short.  \n",
       "1                          Having children made the author realize that life is indeed short because it helped them convert time into discrete quantities. They were able to count the number of weekends spent with their child and the number of times they experienced certain events like Christmas magic.  \n",
       "2  Yes, knowing that life is short makes a big difference to the author. It gives greater weight to arguments such as \"Life is too short for X\". It also helps the author identify things that are unnecessary and wasteful, which they refer to as \"bullshit\", and eliminating those things from their lives.  \n",
       "3               The author considers activities such as unnecessary meetings, pointless disputes, bureaucracy, posturing, dealing with other people's mistakes, traffic jams, and addictive but unrewarding pastimes to be \"bullshit\". These activities either get forced upon us or trick us into doing them.  \n",
       "4                                                                                                                   The author believes that it's better most of the time not to defend oneself, as counterintuitive as it may feel. He argues that people who attack others are literally taking their lives.  \n",
       "5                                                                                                                                             The main idea of the passage is to relentlessly prune bullshit, prioritize doing things that matter, and savor the time you have. This is because life is short.  "
      ]
     },
     "execution_count": 8,
     "metadata": {},
     "output_type": "execute_result"
    }
   ],
   "source": [
    "# Set this option to None to display full contents of each column\n",
    "pd.set_option('display.max_colwidth', None)\n",
    "\n",
    "# print the first 50 entries in the generated question-answer pairs.\n",
    "output_dict[OUTPUT_NAME][0][QAPAIR_DF_KEY][:50]"
   ]
  }
 ],
 "metadata": {
  "kernelspec": {
   "display_name": "self-instruct-ft",
   "language": "python",
   "name": "python3"
  },
  "language_info": {
   "codemirror_mode": {
    "name": "ipython",
    "version": 3
   },
   "file_extension": ".py",
   "mimetype": "text/x-python",
   "name": "python",
   "nbconvert_exporter": "python",
   "pygments_lexer": "ipython3",
   "version": "3.10.13"
  }
 },
 "nbformat": 4,
 "nbformat_minor": 5
}
