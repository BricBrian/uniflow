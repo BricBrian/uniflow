{
 "cells": [
  {
   "cell_type": "markdown",
   "id": "7cbc4c4a",
   "metadata": {},
   "source": [
    "# Example of generating self-instruct dataset for Paul Graham's essays\n",
    "Source: http://www.paulgraham.com/articles.html"
   ]
  },
  {
   "cell_type": "markdown",
   "id": "cb677037",
   "metadata": {},
   "source": [
    "### Prepare the input data"
   ]
  },
  {
   "cell_type": "code",
   "execution_count": null,
   "id": "8d84dd70",
   "metadata": {},
   "outputs": [],
   "source": [
    "import os\n",
    "import pandas as pd\n",
    "import sys\n",
    "sys.path.append(os.path.join(os.getcwd(), os.pardir, os.pardir))\n",
    "from uniflow.client import Client\n",
    "from uniflow.flow.constants import (OUTPUT_NAME, INPUT_FILE, QAPAIR_DF_KEY, OUTPUT_FILE)\n",
    "\n",
    "#html_file = \"do_things_that_dont_scale.html\" #from http://paulgraham.com/ds.html\n",
    "#html_file = \"makers_schedule_managers_schedule.html\" #from http://www.paulgraham.com/makersschedule.html\n",
    "html_file = \"life_is_short.html\" #http://www.paulgraham.com/vb.html\n",
    "#html_file = \"22.11_information-theory.html\"\n",
    "\n",
    "dir_cur = os.getcwd()\n",
    "input_file = os.path.join(f\"{dir_cur}/data/raw_input/\", html_file)"
   ]
  },
  {
   "cell_type": "markdown",
   "id": "dd610184",
   "metadata": {},
   "source": [
    "### Run the Self Instructed Gen Flow"
   ]
  },
  {
   "cell_type": "code",
   "execution_count": null,
   "id": "d2a934c8",
   "metadata": {},
   "outputs": [],
   "source": [
    "\n",
    "# Initiate flow\n",
    "client = Client(\"flow_self_instructed_gen\")\n",
    "\n",
    "# Run flow\n",
    "input_dict = {INPUT_FILE: input_file}\n",
    "input_list = [input_dict]\n",
    "output_list = client.run(input_list)\n",
    "output_dict = output_list[0]\n",
    "\n",
    "print(f\"output_dict keys: {output_dict.keys()}\")"
   ]
  },
  {
   "cell_type": "markdown",
   "id": "a1a395d3",
   "metadata": {},
   "source": [
    "### Print out the results"
   ]
  },
  {
   "cell_type": "code",
   "execution_count": null,
   "id": "1666d84a",
   "metadata": {},
   "outputs": [],
   "source": [
    "# number of output nodes\n",
    "len(output_dict[OUTPUT_NAME])"
   ]
  },
  {
   "cell_type": "code",
   "execution_count": null,
   "id": "8f5e719d",
   "metadata": {},
   "outputs": [],
   "source": [
    "# output dictionary keys\n",
    "output_dict[OUTPUT_NAME][0].keys()"
   ]
  },
  {
   "cell_type": "code",
   "execution_count": null,
   "id": "366cc0dc",
   "metadata": {},
   "outputs": [],
   "source": [
    "#output file path\n",
    "output_dict[OUTPUT_NAME][0][OUTPUT_FILE]"
   ]
  },
  {
   "cell_type": "code",
   "execution_count": null,
   "id": "3aaea2c2",
   "metadata": {},
   "outputs": [],
   "source": [
    "# print the first 50 entries in the generated question-answer pairs.\n",
    "output_dict[OUTPUT_NAME][0][QAPAIR_DF_KEY][:50]"
   ]
  }
 ],
 "metadata": {
  "kernelspec": {
   "display_name": "self-instruct-ft",
   "language": "python",
   "name": "python3"
  },
  "language_info": {
   "codemirror_mode": {
    "name": "ipython",
    "version": 3
   },
   "file_extension": ".py",
   "mimetype": "text/x-python",
   "name": "python",
   "nbconvert_exporter": "python",
   "pygments_lexer": "ipython3",
   "version": "3.10.13"
  }
 },
 "nbformat": 4,
 "nbformat_minor": 5
}
