{
 "cells": [
  {
   "cell_type": "markdown",
   "metadata": {},
   "source": [
    "# Example of pipeline: extracting and transforming pdf file"
   ]
  },
  {
   "cell_type": "markdown",
   "metadata": {},
   "source": [
    "### Load packages"
   ]
  },
  {
   "cell_type": "code",
   "execution_count": 1,
   "metadata": {},
   "outputs": [],
   "source": [
    "# pip3 install nougat-ocr"
   ]
  },
  {
   "cell_type": "code",
   "execution_count": 2,
   "metadata": {},
   "outputs": [],
   "source": [
    "%reload_ext autoreload\n",
    "%autoreload 2\n",
    "\n",
    "import sys\n",
    "import pprint\n",
    "\n",
    "sys.path.append(\".\")\n",
    "sys.path.append(\"..\")\n",
    "sys.path.append(\"../..\")"
   ]
  },
  {
   "cell_type": "code",
   "execution_count": 3,
   "metadata": {},
   "outputs": [
    {
     "name": "stderr",
     "output_type": "stream",
     "text": [
      "/opt/conda/envs/uniflow/lib/python3.10/site-packages/tqdm/auto.py:21: TqdmWarning: IProgress not found. Please update jupyter and ipywidgets. See https://ipywidgets.readthedocs.io/en/stable/user_install.html\n",
      "  from .autonotebook import tqdm as notebook_tqdm\n"
     ]
    }
   ],
   "source": [
    "import os\n",
    "import pandas as pd\n",
    "from uniflow.pipeline import MultiFlowsPipeline\n",
    "from uniflow.flow.config import PipelineConfig\n",
    "from uniflow.flow.config import TransformOpenAIConfig, ExtractPDFConfig\n",
    "from uniflow.op.model.model_config import OpenAIModelConfig, NougatModelConfig\n",
    "from uniflow.op.prompt_schema import GuidedPrompt, Context"
   ]
  },
  {
   "cell_type": "markdown",
   "metadata": {},
   "source": [
    "### Prepare the input data\n",
    "\n",
    "First, let's set current directory and input data directory, and load the raw data."
   ]
  },
  {
   "cell_type": "code",
   "execution_count": 4,
   "metadata": {},
   "outputs": [],
   "source": [
    "dir_cur = os.getcwd()\n",
    "pdf_file = \"nike-paper.pdf\"\n",
    "input_file = os.path.join(f\"{dir_cur}/data/raw_input/\", pdf_file)\n",
    "\n",
    "data = [\n",
    "    {\"pdf\": input_file},\n",
    "]"
   ]
  },
  {
   "cell_type": "markdown",
   "metadata": {},
   "source": [
    "### Define extract config using Nougat"
   ]
  },
  {
   "cell_type": "code",
   "execution_count": 5,
   "metadata": {},
   "outputs": [],
   "source": [
    "extract_config = ExtractPDFConfig(\n",
    "    model_config=NougatModelConfig(\n",
    "        model_name = \"0.1.0-small\",\n",
    "        batch_size = 1 # When batch_size>1, nougat will run on CUDA, otherwise it will run on CPU\n",
    "    )\n",
    ")"
   ]
  },
  {
   "cell_type": "markdown",
   "metadata": {},
   "source": [
    "### Prepare sample prompts\n",
    "\n",
    "We need to demonstrate sample prompts for LLM. We do this by giving a sample list of `Context` examples to the `GuidedPrompt` class."
   ]
  },
  {
   "cell_type": "code",
   "execution_count": 6,
   "metadata": {},
   "outputs": [],
   "source": [
    "guided_prompt = GuidedPrompt(\n",
    "    examples=[Context(\n",
    "        context=\"In 1948, Claude E. Shannon published A Mathematical Theory of\\nCommunication (Shannon, 1948) establishing the theory of\\ninformation. In his article, Shannon introduced the concept of\\ninformation entropy for the first time. We will begin our journey here.\"\"\",\n",
    "        question=\"Who published A Mathematical Theory of Communication in 1948?\"\"\",\n",
    "        answer=\"Claude E. Shannon.\"\"\"\n",
    "    )]\n",
    ")"
   ]
  },
  {
   "cell_type": "markdown",
   "metadata": {},
   "source": [
    "### Define transform config\n",
    "\n",
    "In this example, we will use the [OpenAIModelConfig](https://github.com/CambioML/uniflow/blob/main/uniflow/model/config.py#L17)'s default LLM to generate questions and answers."
   ]
  },
  {
   "cell_type": "code",
   "execution_count": 7,
   "metadata": {},
   "outputs": [],
   "source": [
    "transform_config = TransformOpenAIConfig(\n",
    "    guided_prompt_template=guided_prompt,\n",
    "    model_config=OpenAIModelConfig(\n",
    "        response_format={\"type\": \"json_object\"}\n",
    "    ),\n",
    ")"
   ]
  },
  {
   "cell_type": "markdown",
   "metadata": {},
   "source": [
    "### Use MultiFlowsPipeline"
   ]
  },
  {
   "cell_type": "code",
   "execution_count": 8,
   "metadata": {},
   "outputs": [
    {
     "name": "stderr",
     "output_type": "stream",
     "text": [
      "/opt/conda/envs/uniflow/lib/python3.10/site-packages/torch/functional.py:504: UserWarning: torch.meshgrid: in an upcoming release, it will be required to pass the indexing argument. (Triggered internally at ../aten/src/ATen/native/TensorShape.cpp:3526.)\n",
      "  return _VF.meshgrid(tensors, **kwargs)  # type: ignore[attr-defined]\n"
     ]
    }
   ],
   "source": [
    "p = MultiFlowsPipeline(PipelineConfig(\n",
    "    extract_config=extract_config,\n",
    "    transform_config=transform_config,\n",
    "))"
   ]
  },
  {
   "cell_type": "code",
   "execution_count": 9,
   "metadata": {},
   "outputs": [
    {
     "name": "stderr",
     "output_type": "stream",
     "text": [
      "  0%|          | 0/1 [00:00<?, ?it/s]"
     ]
    },
    {
     "name": "stderr",
     "output_type": "stream",
     "text": [
      "100%|██████████| 1/1 [00:40<00:00, 40.94s/it]\n",
      "100%|██████████| 13/13 [01:50<00:00,  8.53s/it]\n"
     ]
    }
   ],
   "source": [
    "output = p.run(data)"
   ]
  },
  {
   "cell_type": "markdown",
   "metadata": {},
   "source": [
    "### Output\n",
    "\n",
    "Let's take a look of the generated output of Abstract segmentation."
   ]
  },
  {
   "cell_type": "code",
   "execution_count": 10,
   "metadata": {},
   "outputs": [
    {
     "name": "stdout",
     "output_type": "stream",
     "text": [
      "{'output': [{'error': 'No errors.',\n",
      "             'response': [{'answer': 'Assuming that the effect of Vaporfly '\n",
      "                                     'shoes is additive, the estimated '\n",
      "                                     'improvements for men are between 2.0 and '\n",
      "                                     '3.9 minutes, and for women are between '\n",
      "                                     '0.8 and 3.5 minutes. Assuming that the '\n",
      "                                     'effect of Vaporfly shoes is '\n",
      "                                     'multiplicative, the estimated '\n",
      "                                     'improvements for men are between 1.4 and '\n",
      "                                     '2.8 percent, and for women are between '\n",
      "                                     '0.6 and 2.2 percent.',\n",
      "                           'context': 'We collected marathon performance data '\n",
      "                                      'from a systematic sample of elite and '\n",
      "                                      'sub-elite athletes over the period 2015 '\n",
      "                                      'to 2019, then searched the internet for '\n",
      "                                      'publicly-available photographs of these '\n",
      "                                      'performances, identifying whether the '\n",
      "                                      'Nike Vaporly shoes were worn or not in '\n",
      "                                      'each performance. Controlling for '\n",
      "                                      'athlete ability and race difficulty, we '\n",
      "                                      'estimated the effect on marathon times '\n",
      "                                      'of wearing the Vaporfly shoes. Assuming '\n",
      "                                      'that the effect of Vaporfly shoes is '\n",
      "                                      'additive, we estimate that the Vaporfly '\n",
      "                                      \"shoes improve men's times between 2.0 \"\n",
      "                                      'and 3.9 minutes, while they improve '\n",
      "                                      \"women's times between 0.8 and 3.5 \"\n",
      "                                      'minutes. Assuming that the effect of '\n",
      "                                      'Vaporfly shoes is multiplicative, we '\n",
      "                                      \"estimate that they improve men's times \"\n",
      "                                      \"between 1.4 and 2.8 percent and women's \"\n",
      "                                      'performances between 0.6 and 2.2 '\n",
      "                                      'percent. The improvements are in '\n",
      "                                      'comparison to the shoe the athlete was '\n",
      "                                      'wearing before switching to Vaporfly '\n",
      "                                      'shoes, and represents an expected '\n",
      "                                      'improvement rather than a guaranteed '\n",
      "                                      'improvement.',\n",
      "                           'question': 'What were the estimated improvements '\n",
      "                                       'in marathon times for men and women '\n",
      "                                       'wearing Vaporfly shoes?'}]}],\n",
      " 'root': <uniflow.node.Node object at 0x7f7dd119efb0>}\n"
     ]
    }
   ],
   "source": [
    "pprint.pprint(output[0][1])"
   ]
  },
  {
   "cell_type": "markdown",
   "metadata": {},
   "source": [
    "### Process the output\n",
    "\n",
    "Let's take a look of the generated output. We need to do a little postprocessing on the raw output."
   ]
  },
  {
   "cell_type": "code",
   "execution_count": 12,
   "metadata": {},
   "outputs": [
    {
     "name": "stdout",
     "output_type": "stream",
     "text": [
      "Missing context, question or answer in response: {'context': \"### Ted Westling, University of Massachusetts Amherst\\n_This article presents a clear and well-written study of the association between wearing the Vaporfly running shoe and race time in the context of elite marathon runners. I have several comments._\\n_1. Why have separate models for women and men? Once you control for individual runner effects, doesn't this automatically include sex differences? I would expect that putting all the runners in a single model would improve power and also allow a formal assessment of the interaction of sex and Vaporfly effect via an interaction of the two._\\nThis is a good question and suggestion. Our main reason for fitting separate models is that we wanted to avoid assuming that the variances of the random effects terms were the same for men and women. Looking at the table of parameter estimates, in the untransformed model, the women's standard deviations are all higher than the men's standard deviations, which is not surprising because the women's times are overall larger than the men's. For the log transformed model, the standard deviations are much closer, with the exception of the runner standard deviations, which are about 25% larger for the women.\\nThanks to your suggestion, we fit the interaction model and include the results in the table below, followed by the table of confidence intervals.\\nThe model is parameterized so that \\\\(b_{1}\\\\) is the men's Vaporfly effect, and \\\\(b_{1}+b_{3}\\\\) is the women's effect, giving men's effects of \\\\(-3.35\\\\) and \\\\(-0.0229\\\\) for the untransformed and log-transformed models, and women's effects of \\\\(-2.63\\\\) and \\\\(-0.0167\\\\). These effects are all larger in magnitude than those from the sex-separated analyses. We do not find statistical evidence that the difference between the men's and women's effects, \\\\(b_{3}\\\\), is different from zero, as the standard error of the estimates are comparable to the estimates in both models. For the untransformed model, the women's confidence intervals get a little narrower and the men's a little wider, which we suppose is not surprising because the women's variances were larger in the non-interaction model. For the log transformed data, the widths of the confidence intervals do not change much.\\n_2. As Harry Crane pointed out, controlling for marathon effects doesn't account for variation in marathon conditions that vary year-to-year. I would expect this to substantively impact the conclusions only if marathon conditions are also associated with the choice to wear Vaporflys. I would be interested to know whether the authors expect this to be the case. Relatedly, as part of the data exploration it would also be interesting to see a plot of the proportion of runners wearing Vaporflys in each marathon over time._\\nThis is probably a miscommunication on our part. We do control for variation from year to year in the same marathon. In the revised version, we have added effects for each individual course, which do not vary from year to year. Hopefully, now that we have both types of effects and describe them separately, the description of the effects is more clear.\\nThank you for the suggestion for the plot. We have replaced our original plot with one that contains the proportion of runners wearing Vaporflys in each race as a function of race date.\\n_3. Regarding the data collection/sampling strategy for the study: were elite runners first identified, and subsequently all marathon performances for these runners recorded? Or were marathons first identified, and only the performances meeting the stated time criteria included in the study? In the second strategy, a runner could theoretically be in the data for one marathon, but excluded for another due to their time not qualifying. In this case, I'd also be curious about whether and how the truncation in the sampling strategy might impact the results._\\nWe first selected a sample of marathons consisting of 22 of the most competitive marathons in the United States and Canada. Then from those marathons, we selected runners who achieved a minimum performance standard in 2015 or 2016 in at least one of the 22 selected marathons. Then we selected ALL performances from those runners, regardless of the time, in those 22 marathons over the period 2015 to 2019.\\nIt would probably be better to first create a dataset from all marathons in 2015 and 2016, and then find runners that met the minimum performance standard in any marathon in 2015 and 2016. There is some manual work to be done to get such a dataset, because one needs to know the url on marathonguide.com for every marathon. We selected the 22 marathons to include those where runners had qualified for the U.S. Olympic trials, and marathons that had many Boston Marathon Qualifiers, so we think our method misses very few elite runners.\\n_4. The authors refrain from using causal language in the article, probably because the study is observational rather than experimental in nature, and making causal conclusions from observational data is difficult and controversial. However, I don't think there is any doubt that the most relevant scientific question is a causal one: for instance, individual runners might want to know what their time would be wearing Vaporflys (treatment) versus wearing their usual race shoes (control). Such an individual-level causal question is challenging to answer even in the context of randomized trials, but we can and do strive to answer population-average version of such causal questions using observational data. The most common approach is to attempt to adjust for all confounding variables that impact both receipt of treatment (wearing of Vaporflys) and the outcome (marathon time). It would be nice if the authors could comment on what variables might be confounders in this setting._\\nWe are not experts in causal inference techniques, so we appreciate your expert opinion on the matter. We list a few possible confounders in the discussion, namely fitness and price. Since Mike Vaporflys are expensive relative to other racing shoes, a runner who is in poor fitness may be unwilling to pay for them to wear in a marathon, but once a runner gets into good shape, they might be more willing to pay for the shoes and race in them. Also, some runners might try the shoes in training and decide that they do not want to race in them because they do not get a benefit from them. A runner's personal objections to the fairness of the shoes might also influence self-assignment of the shoes.\"}\n"
     ]
    },
    {
     "data": {
      "text/html": [
       "<style type=\"text/css\">\n",
       "#T_ddf0c th {\n",
       "  text-align: left;\n",
       "}\n",
       "#T_ddf0c_row0_col0, #T_ddf0c_row0_col1, #T_ddf0c_row0_col2, #T_ddf0c_row1_col0, #T_ddf0c_row1_col1, #T_ddf0c_row1_col2, #T_ddf0c_row2_col0, #T_ddf0c_row2_col1, #T_ddf0c_row2_col2, #T_ddf0c_row3_col0, #T_ddf0c_row3_col1, #T_ddf0c_row3_col2, #T_ddf0c_row4_col0, #T_ddf0c_row4_col1, #T_ddf0c_row4_col2, #T_ddf0c_row5_col0, #T_ddf0c_row5_col1, #T_ddf0c_row5_col2, #T_ddf0c_row6_col0, #T_ddf0c_row6_col1, #T_ddf0c_row6_col2, #T_ddf0c_row7_col0, #T_ddf0c_row7_col1, #T_ddf0c_row7_col2, #T_ddf0c_row8_col0, #T_ddf0c_row8_col1, #T_ddf0c_row8_col2, #T_ddf0c_row9_col0, #T_ddf0c_row9_col1, #T_ddf0c_row9_col2, #T_ddf0c_row10_col0, #T_ddf0c_row10_col1, #T_ddf0c_row10_col2, #T_ddf0c_row11_col0, #T_ddf0c_row11_col1, #T_ddf0c_row11_col2 {\n",
       "  text-align: left;\n",
       "}\n",
       "</style>\n",
       "<table id=\"T_ddf0c\">\n",
       "  <thead>\n",
       "    <tr>\n",
       "      <th class=\"blank level0\" >&nbsp;</th>\n",
       "      <th id=\"T_ddf0c_level0_col0\" class=\"col_heading level0 col0\" >Context</th>\n",
       "      <th id=\"T_ddf0c_level0_col1\" class=\"col_heading level0 col1\" >Question</th>\n",
       "      <th id=\"T_ddf0c_level0_col2\" class=\"col_heading level0 col2\" >Answer</th>\n",
       "    </tr>\n",
       "  </thead>\n",
       "  <tbody>\n",
       "    <tr>\n",
       "      <th id=\"T_ddf0c_level0_row0\" class=\"row_heading level0 row0\" >0</th>\n",
       "      <td id=\"T_ddf0c_row0_col0\" class=\"data row0 col0\" >An Observational Study of the Effect of Nike Vaporly Shoes on Marathon Performance\n",
       "Joseph Guinness, Debasmita Bhattacharya, Jenny Chen, Max Chen, Angela Loh\n",
       "_Cornell University_</td>\n",
       "      <td id=\"T_ddf0c_row0_col1\" class=\"data row0 col1\" >Who conducted the observational study on the effect of Nike Vaporly Shoes on marathon performance?</td>\n",
       "      <td id=\"T_ddf0c_row0_col2\" class=\"data row0 col2\" >Joseph Guinness, Debasmita Bhattacharya, Jenny Chen, Max Chen, Angela Loh from Cornell University.</td>\n",
       "    </tr>\n",
       "    <tr>\n",
       "      <th id=\"T_ddf0c_level0_row1\" class=\"row_heading level0 row1\" >1</th>\n",
       "      <td id=\"T_ddf0c_row1_col0\" class=\"data row1 col0\" >We collected marathon performance data from a systematic sample of elite and sub-elite athletes over the period 2015 to 2019, then searched the internet for publicly-available photographs of these performances, identifying whether the Nike Vaporly shoes were worn or not in each performance. Controlling for athlete ability and race difficulty, we estimated the effect on marathon times of wearing the Vaporfly shoes. Assuming that the effect of Vaporfly shoes is additive, we estimate that the Vaporfly shoes improve men's times between 2.0 and 3.9 minutes, while they improve women's times between 0.8 and 3.5 minutes. Assuming that the effect of Vaporfly shoes is multiplicative, we estimate that they improve men's times between 1.4 and 2.8 percent and women's performances between 0.6 and 2.2 percent. The improvements are in comparison to the shoe the athlete was wearing before switching to Vaporfly shoes, and represents an expected improvement rather than a guaranteed improvement.</td>\n",
       "      <td id=\"T_ddf0c_row1_col1\" class=\"data row1 col1\" >What were the estimated improvements in marathon times for men and women wearing Vaporfly shoes?</td>\n",
       "      <td id=\"T_ddf0c_row1_col2\" class=\"data row1 col2\" >Assuming that the effect of Vaporfly shoes is additive, the estimated improvements for men are between 2.0 and 3.9 minutes, and for women are between 0.8 and 3.5 minutes. Assuming that the effect of Vaporfly shoes is multiplicative, the estimated improvements for men are between 1.4 and 2.8 percent, and for women are between 0.6 and 2.2 percent.</td>\n",
       "    </tr>\n",
       "    <tr>\n",
       "      <th id=\"T_ddf0c_level0_row2\" class=\"row_heading level0 row2\" >2</th>\n",
       "      <td id=\"T_ddf0c_row2_col0\" class=\"data row2 col0\" >Our study is most similar to the Upshot study in that we analyze data from marathon performances and compare people's performances with and without the Vaporflys. However, our study differs in a few ways. First, instead of relying on a convenient sample of athletes who upload their data to Strava, we take an exhaustive sample of athletes who met a minimum performance standard at one of 22 of the largest marathon venues in 2015 and 2016 in the US and Canada. Second, instead of relying on self-reported shoe data, we searched the internet for photos of races and visually identified the shoes that runners wore. Third, we focus only on athletes who performed at an elite level before the Vaporflys were released to the public. Thus, we are only considering accomplished runners with marathon experience who, most likely, settled on a suitable shoe before the Vaporflys were released. These runners are also those most likely to be affected by shoe regulations because many of them compete in national Olympic qualifying races subject to regulations.</td>\n",
       "      <td id=\"T_ddf0c_row2_col1\" class=\"data row2 col1\" >What were the main differences between the Upshot study and our study?</td>\n",
       "      <td id=\"T_ddf0c_row2_col2\" class=\"data row2 col2\" >The main differences between the Upshot study and our study include taking an exhaustive sample of athletes, visually identifying the shoes that runners wore, and focusing only on elite athletes who performed at an elite level before the Vaporflys were released.</td>\n",
       "    </tr>\n",
       "    <tr>\n",
       "      <th id=\"T_ddf0c_level0_row3\" class=\"row_heading level0 row3\" >3</th>\n",
       "      <td id=\"T_ddf0c_row3_col0\" class=\"data row3 col0\" >To identify shoes worn by the runners, we used photos posted on public websites such as marathonfoto.com, marathon-photos.com, sportphoto.com, and flashframe.io. We also collected photographs from social media sites such as facebook.com and instagram.com. We assumed that Vaporfly shoes were not worn in 2015 or 2016 by any runners except for a few that were reported to have worn prototypes in the 2016 US Olympic Trials Marathon. Identification of shoes via photos is a manual process that is subject to error. We have made all of our shoe identifications publicly available at [https://github.com/joeguinness/vaporfly](https://github.com/joeguinness/vaporfly) and will update this paper with new data if we are made aware of any errors in shoe identification. We identified the shoes worn in 840 of 880 (95.5%) men's performances in our dataset and in 778 of 810 (96.0%) women's performances.</td>\n",
       "      <td id=\"T_ddf0c_row3_col1\" class=\"data row3 col1\" >What was the percentage of men's performances in the dataset where the shoes worn were identified?</td>\n",
       "      <td id=\"T_ddf0c_row3_col2\" class=\"data row3 col2\" >95.5%</td>\n",
       "    </tr>\n",
       "    <tr>\n",
       "      <th id=\"T_ddf0c_level0_row4\" class=\"row_heading level0 row4\" >4</th>\n",
       "      <td id=\"T_ddf0c_row4_col0\" class=\"data row4 col0\" >## 3 Data Exploration\n",
       "In Figure 1, we plot some summaries of the data. The left plot contains the proportion of runners wearing Vaporflys in each race in our dataset, separated by sex. Aside from a few prototypes being used in 2016, adoption of the shoes began in early 2017 and rose to over 50% on average in races at the end of 2019. The right plot contains the average marathon time for each athlete in the dataset in Vaporfly vs. non-Vaporfly shoes. Most runners' average time in Vaporfly shoes is faster than their average time in non-Vaporfly shoes. Specifically, 53 of 71 men (74.5%) who switched to Vaporflys ran faster in them, and 40 of 56 women (71.4%) who switched to Vaporflys ran faster in them.\n",
       "The right plot does not tell the whole story because it might be the case that runners who switched to Vaporflys did so when they ran on faster marathon courses. Some courses, such as the Boston Marathon course, have hills or often have poor weather, while others are flat and fast. So it is important to use the data to attempt to account for the difficulty of each\n",
       "Figure 1: (Left) Each circle represents an individual race, with the area of the circle proportional to the number of runners from the race in our dataset, and the vertical position equal to the proportion of runners wearing Vaporfly shoes in the race. (Right) Each circle represents an athlete, with the horizontal position being the athlete's average marathon time in non-Vaporfly shoes, and the vertical position being the athlete's average time in Vaporfly shoes.\n",
       "course. To get a satisfactory estimate of the effect of Vaporfly shoes, we need to analyze all of the data holistically, controlling for the strength of each runner and the difficulty of each marathon course. In the next section, we describe a statistical model intended for that purpose.</td>\n",
       "      <td id=\"T_ddf0c_row4_col1\" class=\"data row4 col1\" >What is the purpose of the statistical model described in the next section?</td>\n",
       "      <td id=\"T_ddf0c_row4_col2\" class=\"data row4 col2\" >The purpose of the statistical model is to analyze all the data holistically, controlling for the strength of each runner and the difficulty of each marathon course, in order to get a satisfactory estimate of the effect of Vaporfly shoes.</td>\n",
       "    </tr>\n",
       "    <tr>\n",
       "      <th id=\"T_ddf0c_level0_row5\" class=\"row_heading level0 row5\" >5</th>\n",
       "      <td id=\"T_ddf0c_row5_col0\" class=\"data row5 col0\" >## 4 Statistical Model\n",
       "We seek to estimate the effect of Vaporfly shoes on marathon performance, controlling for runner ability and marathon course difficulty. This is achieved by fitting a statistical model with non-random effects for Vaporfly shoes and random effects for runner ability, overall course difficulty, and course difficulty specific to year. To allow for the possibility that men and women have different performance characteristics, we analyze data from the two sexes separately. We assign each performance a label between \\(1\\) and \\(n\\) (\\(n=840\\) for men, \\(n=778\\) for women). Each athlete is assigned a label between \\(1\\) and the number of athletes \\(A\\) (\\(A=308\\) men, \\(A=270\\) women). We assign each marathon course a label between \\(1\\) and the number of marathon courses \\(C\\) (\\(C=22\\)), and we assign each individual race a label between \\(1\\) and the number of races \\(R\\), (\\(R=106\\)). We summarize our notation for the data here:\n",
       "\\[y_{i} =\\text{ marathon time in minutes for performance }i\\] \\[x_{i} =\\left\\{\\begin{array}{ll}1&\\text{if Vaporfly shoes worn in performance }i\\\\ 0&\\text{if Vaporfly shoes not worn in performance }i\\end{array}\\right.\\] \\[j(i) =\\text{ label for athlete who completed performance }i\\] \\[k(i) =\\text{ label for marathon course associated with performance }i\\] \\[\\ell(i) =\\text{ label for individual marathon race associated with performance }i\\]\n",
       "A statistical model is a family of probability distributions that encodes the assumptions we make about the processes generating the data. Models generally include unknown parameters relevant to the questions posed in the study. The goal of the analysis is to use the data to make inferences about these parameters. We consider the following two models for the performances \\(y_{1},\\ldots,y_{n}\\):\n",
       "\\[\\text{Untransformed:}\\qquad\\quad Y_{i} =b_{0}+b_{1}x_{i}+U_{j(i)}+V_{k(i)}+W_{\\ell(i)}+Z_{i}\\] \\[\\text{Log Untransformed:}\\quad\\log Y_{i} =b_{0}+b_{1}x_{i}+U_{j(i)}+V_{k(i)}+W_{\\ell(i)}+Z_{i}\\]\n",
       "with each of the individual terms defined in the following table\n",
       "The primary parameter of interest is \\(b_{1}\\), which is the effect of the Vaporfly shoes. The model assumes that, all else held constant, switching to Vaporfly shoes changes the response by \\(b_{1}\\). We do not attempt to model Vaporfly effects that vary among individual runners. The interpretations of the parameters are different depending on whether we take a log transformation of the times or not. When modeling untransformed times, the effect of Vaporfly shoes is additive, meaning that we expect the time to change by adding \\(b_{1}\\), and when modeling log-transformed times, the effect is multiplicative, meaning that we expect the time to change by multiplying by \\(\\exp(b_{1})\\).\n",
       "Aside from \\(b_{0}\\) and \\(b_{1}x_{i}\\), the rest of the terms are independent normal random effects. Each of the \\(A\\) runners has its own offset term \\(U_{j}\\) to account for the fact that runners have differing abilities; each of the \\(C\\) marathon courses has its own offset term \\(V_{k}\\) to account for the fact that different marathon courses are slower or faster than others; each of the \\(R\\) individual races has its own offset term \\(W_{\\ell}\\) to account for the fact that race conditions vary from year to year, making some years slower or faster than others at the same course; and finally each of the \\(n\\) individual performances has a term \\(Z_{i}\\) to account for any other factors that affected the performance. We also considered including time-varying runner effects, to allow each runner's fitness to improve or decline over time independently of the fitness of other runners, but we decided that this model placed too much weight on athletes who raced frequently. In the Appendix, we also include results from a combined model for men and women.</td>\n",
       "      <td id=\"T_ddf0c_row5_col1\" class=\"data row5 col1\" >What is the primary parameter of interest in the statistical model described?</td>\n",
       "      <td id=\"T_ddf0c_row5_col2\" class=\"data row5 col2\" >The primary parameter of interest is \\(b_{1}\\), which is the effect of the Vaporfly shoes.</td>\n",
       "    </tr>\n",
       "    <tr>\n",
       "      <th id=\"T_ddf0c_level0_row6\" class=\"row_heading level0 row6\" >6</th>\n",
       "      <td id=\"T_ddf0c_row6_col0\" class=\"data row6 col0\" >## 5 Estimated Parameters\n",
       "To fit the models, we used the lmer function, which is part of the lme4 package (Bates et al., 2015) in the R programming language (R Core Team, 2018). The lme4 package is a well-established piece of statistical software for fitting random effects models of the type we seek to estimate in this research study. Code and data for reproducing our results are available online at [https://github.com/joeguinness/vaporfly](https://github.com/joeguinness/vaporfly).\n",
       "We fit separate models for men and women, and additionally, separate models for the untransformed and log-transformed marathon times. The estimated parameters are summarized in the table below:\n",
       "For both men and women and for untransformed and log-transformed times, the Vaporfly effect is negative, indicating that the evidence supports the hypothesis that Vaporflys decrease,\n",
       "\\begin{table}\n",
       "\\begin{tabular}{c c c c}  & men minutes & women minutes & men log minutes & women log minutes \\\\ \\cline{2-4}  & estimate (s.e.) & estimate (s.e.) & estimate (s.e.) & estimate (s.e.) \\\\ \\hline \\(b_{0}\\) & 139.69 (0.59) & 159.83 (0.81) & 4.94 (0.004) & 5.070 (0.0050) \\\\ \\(b_{1}\\) & \\(\\boldsymbol{-2.95}\\) **(0.60)** & \\(\\boldsymbol{-2.18}\\) **(0.81)** & \\(\\boldsymbol{-0.0209}\\) **(0.0041)** & \\(\\boldsymbol{-0.0135}\\) **(0.0049)** \\\\ \\(\\sigma_{1}\\) & 4.175 & 6.40 & 0.030 & 0.041 \\\\ \\(\\sigma_{2}\\) & 1.852 & 2.33 & 0.013 & 0.014 \\\\ \\(\\sigma_{3}\\) & 1.874 & 2.43 & 0.013 & 0.015 \\\\ \\(\\sigma_{4}\\) & 4.108 & 5.02 & 0.028 & 0.030 \\\\ \\end{tabular}\n",
       "\\end{table}\n",
       "Table 1: Table of parameter estimates for the statistical models.\n",
       "or improve, marathon times. Our best estimates of the additive effects are \\(-2.95\\) minutes for men and \\(-2.18\\) minutes for women. Using log-transformed data, our best estimates of the multiplicative effects are \\(\\exp(-0.0209)=0.979\\) for men, and \\(\\exp(-0.0135)=0.986\\) for women, meaning that we expect men's times to decrease by \\(2.06\\%\\), and women's times to decrease by \\(1.34\\%\\), when wearing Vaporfly shoes, as compared to the shoes each athlete was wearing before switching to Vaporfly.\n",
       "While our estimates suggest that the effect of Vaporfly shoes is greater for men, the estimates come with some uncertainty. In the following table, we include \\(90\\%\\) confidence intervals for each of the Vaporfly effects, constructed using a normal approximation to the sampling distribution of the estimates.\n",
       "None of the intervals contain zero, which indicates strong evidence for a non-zero Vaporfly effect. There is substantial overlap between the men's and women's confidence intervals, which leaves some uncertainty about which sex benefits most from Vaporfly shoes. In the Appendix, we include an analysis assessing the difference between the men's and women's Vaporfly effects; we find that we do not have sufficient evidence to conclude that the effects differ by sex.\n",
       "In random effects models such as those we use here, the estimates of the fixed effects, \\(b_{0}\\) and \\(b_{1}\\), are calculated using the generalized least squares criterion. Generalized least squares attempts to triangulate all of the dependencies in the data, for example the fact that there are several performances for each runner and for each race, to arrive at a statistically optimal estimate of the effects. The estimates are linear combinations of the responses, for example\n",
       "\\[\\widehat{b}_{1}=\\sum_{i=1}^{n}c_{i}y_{i},\\]\n",
       "where \\(c_{1},\\ldots,c_{n}\\) are coefficients calculated using the covariance matrix of the random effects model. These coefficients can sometimes have seemingly counter-intuitive values. In the spirit of attempting to make sense of the magic of generalized least squares, and to promote its utility for this type of problem, we plot the coefficients for the estimates of the Vaporfly effects in Figure 2.\n",
       "To help make sense of why generalized least squares picks these coefficients, consider four performances\n",
       "\\[\\begin{array}{l}y_{1}=\\mbox{Time for Runner 1 at Boston Marathon 2016}\\\\ y_{2}=\\mbox{Time for Runner 2 at Boston Marathon 2016}\\\\ y_{3}=\\mbox{Time for Runner 1 at Chicago Marathon 2017}\\\\ y_{4}=\\mbox{Time for Runner 2 at Chicago Marathon 2017}\\end{array}\\]\n",
       "\\begin{table}\n",
       "\\begin{tabular}{c c c c} men minutes & women minutes & men log minutes & women log minutes \\\\ \\hline \\((-3.933,-1.959)\\) & \\((-3.514,-0.847)\\) & \\((-0.028,-0.014)\\) & \\((-0.022,-0.006)\\) \\\\ \\end{tabular}\n",
       "\\end{table}\n",
       "Table 2: 90% confidence intervals for Vaporfly effects in each model.\n",
       "The first runner (\\(y_{1}\\) and \\(y_{3}\\)) did not wear Vaporflys, but the second runner (\\(y_{2}\\) and \\(y_{4}\\)) switched to Vaporflys at Chicago in 2017. A reasonable estimate for the Vaporfly effect from these data might be the average of the Vaporfly performances minus the average of the non-Vaporfly performances,\n",
       "\\[y_{4}-\\frac{1}{3}(y_{1}+y_{2}+y_{3}),\\]\n",
       "which places a positive coefficient (1.0) on the Vaporfly performance and negative coefficients (\\(-0.33\\)) on the non-Vaporfly performances. However, a better estimate would consider how much the second athlete's advantage increased after switching to the Vaporflys,\n",
       "\\[(y_{4}-y_{3})-(y_{2}-y_{1}).\\]\n",
       "The first difference (\\(y_{4}-y_{3}\\)) measures how much better the second athlete did in Chicago (wearing Vaporflys), and the second difference is how much better the second athlete did in Boston (not wearing Vaporflys). This estimate places a positive coefficient on the second runner's Vaporfly performance in Chicago, a positive coefficient on the first runner's Boston performance, a negative coefficient on the second runner's Boston performance, and a negative coefficient on the first runner's Chicago performance.\n",
       "This pattern can be observed in Figure 2; early performances--before the Vaporfly appeared on the market--have either positive or negative coefficients, whereas later performances generally have positive coefficients when the Vaporfly is worn and negative coefficients when not worn. There is some variation in the magnitude of these coefficients, which we expect is due to the differing number of performances from each runner and from each race.\n",
       "Figure 2: Coefficients for the generalized least squares estimate of the Vaporfly effect \\(\\widehat{b}_{1}\\) for the untransformed data. Each point represents an individual performance \\(y_{i}\\). The height of the point is the corresponding coefficient \\(c_{i}\\).\n",
       "Note that Figure 2 shows the coefficients in the generalized least squares estimate, not raw performances.</td>\n",
       "      <td id=\"T_ddf0c_row6_col1\" class=\"data row6 col1\" >What are the main conclusions drawn from the estimates of the Vaporfly effects in the study?</td>\n",
       "      <td id=\"T_ddf0c_row6_col2\" class=\"data row6 col2\" >The main conclusions drawn from the estimates of the Vaporfly effects in the study are that the Vaporfly effect is negative for both men and women, for untransformed and log-transformed times, indicating that the evidence supports the hypothesis that Vaporflys decrease marathon times. Additionally, the study found that there is no sufficient evidence to conclude that the effects differ by sex.</td>\n",
       "    </tr>\n",
       "    <tr>\n",
       "      <th id=\"T_ddf0c_level0_row7\" class=\"row_heading level0 row7\" >7</th>\n",
       "      <td id=\"T_ddf0c_row7_col0\" class=\"data row7 col0\" >## 6 Discussion\n",
       "By collecting data on marathon times and identifying shoes worn in a systematic sample of elite and sub-elite marathon runners, we studied how much a runner's marathon time can be expected to improve after switching to Vaporfly shoes. For men, the improvement is most likely somewhere between 2.0 and 3.9 minutes, or between 1.4% and 2.8%. For women it is likely between 0.8 and 3.5 minutes, or between 0.6% and 2.2%. To put these numbers into perspective, elite marathon runners cover more than half a mile in 3 minutes.\n",
       "We made several assumptions that we believe to be reasonable, but nevertheless are open for debate and could be refined. We assumed that the expected Vaporfly effect (\\(b_{1}\\)) is the same for every runner of the same sex. Including prototypes, there are several different versions of Vaporflys, and it is logical to expect that newer versions improve upon older versions. Moreover, depending on biomechanical factors, some runners may benefit from Vaporflys more than others, or could have been wearing shoes that were not optimal for them before switching to Vaporflys. The models assume that, conditional on the runner and race, the marathon time follows a normal distribution. This may not be entirely appropriate because we believe that a runner is more likely to run 5 minutes slower than expected rather than 5 minutes faster; when things go wrong in a marathon, they can go really wrong.\n",
       "The study did not include data on runners that did not finish their races. This data is more difficult to obtain and more difficult to model. Based on the Wired study (Thompson, 2017), which found that people wearing Vaporflys generally ran better in the second half of the race, we believe that people wearing Vaporflys are less likely to drop out, so we are more likely to miss the very worst performances in non-Vaporfly shoes. Thus, we believe that including drop-outs would only strengthen our estimate of the Vaporfly effect.\n",
       "The shoes were identified via a manual process of searching through photographs. We believe that this manual process for getting the shoe data is better (though labor intensive) than relying on self-reported shoes. Nonetheless, it is prone to error in misidentification of the person and the shoes. For example, Nike has an orange Vaporfly with a black Swoosh logo, and also a Zoom Fly with the same color scheme. Another example, some professional athletes ran in a neon yellow and pink prototype Vaporfly, which looks very similar to the neon yellow and pink Nike Zoom Streak 6. See Johnson (2020) for a more detailed analysis. Yet a further example, we identified one athlete who attempted to conceal the identity of his shoes by coloring in the white Swoosh on a blue pair of Vaporflys.\n",
       "Some of the athletes may have competed in marathons not included in the 22 marathons that we sampled. Missing these performances shouldn't bias our results, but our results could be strengthened if we are able to track down every performance from the athletes in the study.\n",
       "It is possible that athletes are more likely to switch to Vaporfly shoes when they know they are ready to turn in a good marathon performance. Inversely, some athletes might not be willing to pay $250 for shoes when they are out of shape. The Upshot study investigated this possibility by controlling for training volume; they did not see substantially different results. Further, our sample consists of solely highly accomplished runners. We believe that these athletes are generally wearing the best shoes available to them whenever they run a marathon.\n",
       "We were able to identify shoes in nearly all, but not all marathon performances. Athletes have the ability to suppress photographs of themselves, for example by untagging themselves in Facebook photos, or simply electing not to post pictures of themselves from their races. If athletes are more likely to suppress photos of poor performances in Vaporfly shoes, our estimated effect of Vaporfly shoes could be larger than it should be.\n",
       "**Acknowledgements**\n",
       "The authors thank Richard Heffron and Melissa Hardesty for discussions and providing comments on an early draft of the manuscript, and Richard Cleary for comments on the first version of the paper. We thank two peer reviewers, Harry Crane and Ted Westling, for providing detailed assessments of the paper and suggestions for improvements. Their reviews, along with our responses, are included in the Appendix. Finally, we express gratitude for those who take photos of major marathons and post them to social media, especially Karen Mitchell, Clay Shaw, and Malrie Sonier.</td>\n",
       "      <td id=\"T_ddf0c_row7_col1\" class=\"data row7 col1\" >What were some of the potential limitations in the study of how much a runner's marathon time improves after switching to Vaporfly shoes?</td>\n",
       "      <td id=\"T_ddf0c_row7_col2\" class=\"data row7 col2\" >Some potential limitations in the study include the assumption that the expected Vaporfly effect is the same for every runner of the same sex, the possibility of missing performances not included in the 22 marathons sampled, and the ability of athletes to suppress photographs of themselves, potentially biasing the estimated effect of Vaporfly shoes.</td>\n",
       "    </tr>\n",
       "    <tr>\n",
       "      <th id=\"T_ddf0c_level0_row8\" class=\"row_heading level0 row8\" >8</th>\n",
       "      <td id=\"T_ddf0c_row8_col0\" class=\"data row8 col0\" >In 1948, Claude E. Shannon published A Mathematical Theory of\n",
       "Communication (Shannon, 1948) establishing the theory of\n",
       "information. In his article, Shannon introduced the concept of\n",
       "information entropy for the first time. We will begin our journey here.</td>\n",
       "      <td id=\"T_ddf0c_row8_col1\" class=\"data row8 col1\" >What concept did Claude E. Shannon introduce for the first time in his article A Mathematical Theory of Communication?</td>\n",
       "      <td id=\"T_ddf0c_row8_col2\" class=\"data row8 col2\" >Information entropy.</td>\n",
       "    </tr>\n",
       "    <tr>\n",
       "      <th id=\"T_ddf0c_level0_row9\" class=\"row_heading level0 row9\" >9</th>\n",
       "      <td id=\"T_ddf0c_row9_col0\" class=\"data row9 col0\" >## Appendix A Table of Marathons Used in Analysis\n",
       "\\begin{tabular}{l} \\hline Boston Marathon \\\\ California International Marathon \\\\ Chicago Marathon \\\\ Columbus Marathon \\\\ Eugene Marathon \\\\ Grandma's Marathon \\\\ Houston Marathon \\\\ Indianapolis Monumental Marathon \\\\ Los Angeles Marathon \\\\ Lakefront Marathon \\\\ Marine Corps Marathon \\\\ New York City Marathon \\\\ Olympic Trials Marathon \\\\ Ottawa Marathon \\\\ Philadelphia Marathon \\\\ Phoenix Marathon \\\\ Richmond Marathon \\\\ Toronto Waterfront Marathon \\\\ Twin Cities Marathon \\\\ Vancouver International Marathon \\\\ Vermont City Marathon \\\\ Wineglass Marathon \\\\ \\hline \\end{tabular}</td>\n",
       "      <td id=\"T_ddf0c_row9_col1\" class=\"data row9 col1\" >What marathons are listed in Appendix A Table of Marathons Used in Analysis?</td>\n",
       "      <td id=\"T_ddf0c_row9_col2\" class=\"data row9 col2\" >The marathons listed are: Boston Marathon, California International Marathon, Chicago Marathon, Columbus Marathon, Eugene Marathon, Grandma's Marathon, Houston Marathon, Indianapolis Monumental Marathon, Los Angeles Marathon, Lakefront Marathon, Marine Corps Marathon, New York City Marathon, Olympic Trials Marathon, Ottawa Marathon, Philadelphia Marathon, Phoenix Marathon, Richmond Marathon, Toronto Waterfront Marathon, Twin Cities Marathon, Vancouver International Marathon, Vermont City Marathon, Wineglass Marathon.</td>\n",
       "    </tr>\n",
       "    <tr>\n",
       "      <th id=\"T_ddf0c_level0_row10\" class=\"row_heading level0 row10\" >10</th>\n",
       "      <td id=\"T_ddf0c_row10_col0\" class=\"data row10 col0\" >## Appendix B Peer Review Comments and Responses\n",
       "This section is divided into subsections, one for each reviewer that provided comments on the paper. The reviewers' comments are italicized, and our responses and discussions are in normal text.</td>\n",
       "      <td id=\"T_ddf0c_row10_col1\" class=\"data row10 col1\" >How is the section on Peer Review Comments and Responses divided?</td>\n",
       "      <td id=\"T_ddf0c_row10_col2\" class=\"data row10 col2\" >This section is divided into subsections, one for each reviewer that provided comments on the paper.</td>\n",
       "    </tr>\n",
       "    <tr>\n",
       "      <th id=\"T_ddf0c_level0_row11\" class=\"row_heading level0 row11\" >11</th>\n",
       "      <td id=\"T_ddf0c_row11_col0\" class=\"data row11 col0\" >### Harry Crane, Rutgers University\n",
       "_This is a very interesting analysis of runner performance with and without the Nike Vaporfly. I'd expect this to be of interest to the running and sports science community, and also the general public as it shows how new technologies can impact the outcome of competitive events. In a case such as this, the early adopters will gain a competitive advantage for however long the benefits of the new product remain unknown to the broader pool of competitors. I hope this analysis will reach the most relevant communities. I have a few questions and commentsbelow. Some of these might be worth commenting in the paper, but for the most part they are for my own curiosity._\n",
       "_1. The analysis notes a performance improvement for athletes who have switched from non-Vaporfly to Vaporfly. Are there any instances of runners going in the other direction, from Vaporfly to non-Vaporfly? If yes, do you find anything interesting in the first performance back without Vaporfly? If not, do the authors believe this is because there has not been sufficient time to observe such a switch or because the performance enhancement is noticeable enough to the athletes that they would not want to switch?_\n",
       "We identified 5 runners who switched to the Vaporfly and then switched to a different shoe. Looking closely at each of these cases, we found that one was a case of a misidentified shoe, bringing the total to 4 runners. One of them joined a racing team sponsored by another company (Brooks). One switched to what looks like a prototype of Brooks's new racing shoe. One is wearing a different Brooks shoe, and one is wearing a different Nike shoe.\n",
       "This is too small a sample to draw any conclusions, but of these 4 runners, 3 ran faster after switching away from the Vaporfly, although 1 of the 3 who ran faster did so on a faster course than the previous marathon in Vaporflys.\n",
       "It is worth noting that very few athletes switched away from Vaporflys after trying them.\n",
       "The analysis has been updated after correcting the misidentified shoe.</td>\n",
       "      <td id=\"T_ddf0c_row11_col1\" class=\"data row11 col1\" >Have the authors identified any instances of runners switching from Vaporfly to non-Vaporfly? What did they observe in the first performance back without Vaporfly?</td>\n",
       "      <td id=\"T_ddf0c_row11_col2\" class=\"data row11 col2\" >Yes, the authors identified 5 runners who switched to the Vaporfly and then switched to a different shoe. Of these 4 runners who switched away from the Vaporfly, 3 ran faster after the switch, although 1 of the 3 ran faster on a faster course than the previous marathon in Vaporflys. It is worth noting that very few athletes switched away from Vaporflys after trying them.</td>\n",
       "    </tr>\n",
       "  </tbody>\n",
       "</table>\n"
      ],
      "text/plain": [
       "<pandas.io.formats.style.Styler at 0x7f7dd119eaa0>"
      ]
     },
     "execution_count": 12,
     "metadata": {},
     "output_type": "execute_result"
    }
   ],
   "source": [
    "# Extracting context, question, and answer into a DataFrame\n",
    "contexts = []\n",
    "questions = []\n",
    "answers = []\n",
    "\n",
    "for item in output[0]:\n",
    "    for i in item.get('output', []):\n",
    "        for response in i.get('response', []):\n",
    "            if any(key not in response for key in ['context', 'question', 'answer']):\n",
    "                print(\"Missing context, question or answer in response:\", response)\n",
    "                continue\n",
    "            \n",
    "            contexts.append(response['context'])\n",
    "            questions.append(response['question'])\n",
    "            answers.append(response['answer'])\n",
    "\n",
    "# Set display options\n",
    "pd.set_option('display.max_colwidth', None)\n",
    "pd.set_option('display.width', 1000)\n",
    "\n",
    "df = pd.DataFrame({\n",
    "    'Context': contexts,\n",
    "    'Question': questions,\n",
    "    'Answer': answers\n",
    "})\n",
    "\n",
    "styled_df = df.style.set_properties(**{'text-align': 'left'}).set_table_styles([{\n",
    "    'selector': 'th',\n",
    "    'props': [('text-align', 'left')]\n",
    "}])\n",
    "styled_df"
   ]
  }
 ],
 "metadata": {
  "kernelspec": {
   "display_name": "uniflow",
   "language": "python",
   "name": "python3"
  },
  "language_info": {
   "codemirror_mode": {
    "name": "ipython",
    "version": 3
   },
   "file_extension": ".py",
   "mimetype": "text/x-python",
   "name": "python",
   "nbconvert_exporter": "python",
   "pygments_lexer": "ipython3",
   "version": "3.10.13"
  }
 },
 "nbformat": 4,
 "nbformat_minor": 2
}
