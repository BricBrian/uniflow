{
 "cells": [
  {
   "cell_type": "code",
   "execution_count": 1,
   "metadata": {},
   "outputs": [],
   "source": [
    "%reload_ext autoreload\n",
    "%autoreload 2\n",
    "\n",
    "import sys\n",
    "import pprint\n",
    "\n",
    "sys.path.append(\".\")\n",
    "sys.path.append(\"..\")\n",
    "sys.path.append(\"../..\")"
   ]
  },
  {
   "cell_type": "code",
   "execution_count": 2,
   "metadata": {},
   "outputs": [
    {
     "name": "stderr",
     "output_type": "stream",
     "text": [
      "/Users/joseortiz/anaconda3/envs/uniflow/lib/python3.10/site-packages/tqdm/auto.py:21: TqdmWarning: IProgress not found. Please update jupyter and ipywidgets. See https://ipywidgets.readthedocs.io/en/stable/user_install.html\n",
      "  from .autonotebook import tqdm as notebook_tqdm\n"
     ]
    },
    {
     "data": {
      "text/plain": [
       "{'basic': ['LinearFlow'],\n",
       " 'extract': ['ExtractTxtFlow'],\n",
       " 'model': ['HuggingFaceModelFlow', 'OpenAIModelFlow'],\n",
       " 'transform': ['TransformHuggingFaceFlow',\n",
       "  'TransformLMQGFlow',\n",
       "  'TransformOpenAIFlow']}"
      ]
     },
     "execution_count": 2,
     "metadata": {},
     "output_type": "execute_result"
    }
   ],
   "source": [
    "from uniflow.pipeline import Pipeline\n",
    "from uniflow.config import PipelineConfig\n",
    "from uniflow.flow.flow_factory import FlowFactory\n",
    "\n",
    "FlowFactory.list()"
   ]
  },
  {
   "cell_type": "code",
   "execution_count": 3,
   "metadata": {},
   "outputs": [],
   "source": [
    "p = Pipeline(PipelineConfig())"
   ]
  },
  {
   "cell_type": "code",
   "execution_count": 4,
   "metadata": {},
   "outputs": [],
   "source": [
    "data = [{\"filename\": \"../extract/data/test.txt\"}] * 2"
   ]
  },
  {
   "cell_type": "code",
   "execution_count": 5,
   "metadata": {},
   "outputs": [
    {
     "name": "stderr",
     "output_type": "stream",
     "text": [
      "100%|██████████| 1/1 [00:00<00:00, 373.03it/s]\n",
      "100%|██████████| 1/1 [00:00<00:00, 892.79it/s]\n",
      "100%|██████████| 4/4 [00:03<00:00,  1.04it/s]\n",
      "100%|██████████| 4/4 [00:03<00:00,  1.14it/s]\n"
     ]
    }
   ],
   "source": [
    "output = p.run(data)"
   ]
  },
  {
   "cell_type": "code",
   "execution_count": 6,
   "metadata": {},
   "outputs": [
    {
     "data": {
      "text/plain": [
       "[[{'output': [{'response': [\"question: What was something the speaker didn't understand about the world as a child?\\nanswer: The degree to which the returns for performance are superlinear.\"],\n",
       "     'error': 'No errors.'}],\n",
       "   'root': <uniflow.node.node.Node at 0x111890640>},\n",
       "  {'output': [{'response': [\"question: What is the consequence of having a product that is only half as good as your competitor's?\\nanswer: You get no customers, and you go out of business.\"],\n",
       "     'error': 'No errors.'}],\n",
       "   'root': <uniflow.node.node.Node at 0x111890f10>},\n",
       "  {'output': [{'response': ['question: Where else do we see the pattern of superlinear returns for performance?\\nanswer: We see the same pattern in fame, power, military victories, knowledge, and even benefit to humanity.'],\n",
       "     'error': 'No errors.'}],\n",
       "   'root': <uniflow.node.node.Node at 0x111891330>},\n",
       "  {'output': [{'response': ['question: Why should ambitious people understand the concept of superlinear returns?\\nanswer: Because it will be the wave they surf on.'],\n",
       "     'error': 'No errors.'}],\n",
       "   'root': <uniflow.node.node.Node at 0x111892710>}],\n",
       " [{'output': [{'response': [\"question: What is one of the most important things you didn't understand about the world when you were a child?\\nanswer: The degree to which the returns for performance are superlinear.\"],\n",
       "     'error': 'No errors.'}],\n",
       "   'root': <uniflow.node.node.Node at 0x111893ac0>},\n",
       "  {'output': [{'response': ['question: What do teachers and coaches often say about the relationship between effort and results?\\nanswer: \"You get out what you put in.\"'],\n",
       "     'error': 'No errors.'}],\n",
       "   'root': <uniflow.node.node.Node at 0x111891060>},\n",
       "  {'output': [{'response': ['question: What are some examples of superlinear returns for performance?\\nanswer: fame, power, military victories, knowledge, and benefit to humanity.'],\n",
       "     'error': 'No errors.'}],\n",
       "   'root': <uniflow.node.node.Node at 0x111892bf0>},\n",
       "  {'output': [{'response': ['question: Why should ambitious people understand the concept of superlinear returns?\\nanswer: Because this will be the wave they surf on.'],\n",
       "     'error': 'No errors.'}],\n",
       "   'root': <uniflow.node.node.Node at 0x111890eb0>}]]"
      ]
     },
     "execution_count": 6,
     "metadata": {},
     "output_type": "execute_result"
    }
   ],
   "source": [
    "output"
   ]
  },
  {
   "cell_type": "code",
   "execution_count": null,
   "metadata": {},
   "outputs": [],
   "source": []
  }
 ],
 "metadata": {
  "kernelspec": {
   "display_name": "uniflow",
   "language": "python",
   "name": "python3"
  },
  "language_info": {
   "codemirror_mode": {
    "name": "ipython",
    "version": 3
   },
   "file_extension": ".py",
   "mimetype": "text/x-python",
   "name": "python",
   "nbconvert_exporter": "python",
   "pygments_lexer": "ipython3",
   "version": "3.10.13"
  }
 },
 "nbformat": 4,
 "nbformat_minor": 2
}
