{
 "cells": [
  {
   "cell_type": "code",
   "execution_count": 1,
   "metadata": {},
   "outputs": [],
   "source": [
    "%reload_ext autoreload\n",
    "%autoreload 2\n",
    "\n",
    "import sys\n",
    "import pprint\n",
    "\n",
    "sys.path.append(\".\")\n",
    "sys.path.append(\"..\")\n",
    "sys.path.append(\"../..\")"
   ]
  },
  {
   "cell_type": "code",
   "execution_count": 2,
   "metadata": {},
   "outputs": [
    {
     "name": "stderr",
     "output_type": "stream",
     "text": [
      "/Users/joseortiz/anaconda3/envs/uniflow/lib/python3.10/site-packages/tqdm/auto.py:21: TqdmWarning: IProgress not found. Please update jupyter and ipywidgets. See https://ipywidgets.readthedocs.io/en/stable/user_install.html\n",
      "  from .autonotebook import tqdm as notebook_tqdm\n"
     ]
    },
    {
     "data": {
      "text/plain": [
       "['ExtractTxtFlow']"
      ]
     },
     "execution_count": 2,
     "metadata": {},
     "output_type": "execute_result"
    }
   ],
   "source": [
    "from uniflow.pipeline import Pipeline\n",
    "from uniflow.config import PipelineConfig\n",
    "from uniflow.extract.flow.flow_factory import FlowFactory\n",
    "\n",
    "FlowFactory.list()"
   ]
  },
  {
   "cell_type": "code",
   "execution_count": 3,
   "metadata": {},
   "outputs": [],
   "source": [
    "p = Pipeline(PipelineConfig())"
   ]
  },
  {
   "cell_type": "code",
   "execution_count": 4,
   "metadata": {},
   "outputs": [],
   "source": [
    "data = [{\"filename\": \"../extract/data/test.txt\"}] * 2"
   ]
  },
  {
   "cell_type": "code",
   "execution_count": 5,
   "metadata": {},
   "outputs": [
    {
     "name": "stderr",
     "output_type": "stream",
     "text": [
      "100%|██████████| 1/1 [00:00<00:00, 13148.29it/s]\n",
      "100%|██████████| 1/1 [00:00<00:00, 177.45it/s]\n",
      "100%|██████████| 4/4 [00:03<00:00,  1.04it/s]\n",
      "100%|██████████| 4/4 [00:04<00:00,  1.02s/it]\n"
     ]
    }
   ],
   "source": [
    "output = p.run(data)"
   ]
  },
  {
   "cell_type": "code",
   "execution_count": 6,
   "metadata": {},
   "outputs": [
    {
     "data": {
      "text/plain": [
       "[[{'output': [{'response': [\"question: What was one of the most important things you didn't understand about the world when you were a child?\\nanswer: The degree to which the returns for performance are superlinear.\"],\n",
       "     'error': 'No errors.'}],\n",
       "   'root': <uniflow.node.node.Node at 0x10b3cf250>},\n",
       "  {'output': [{'response': ['question: What is the implication of the statement \"You get out what you put in\" mentioned in the context?\\nanswer: The implication is that if your product is only half as good as your competitor\\'s, you don\\'t get half as many customers, but you get no customers and go out of business.'],\n",
       "     'error': 'No errors.'}],\n",
       "   'root': <uniflow.node.node.Node at 0x10b424850>},\n",
       "  {'output': [{'response': ['question: What are some examples of superlinear returns for performance?\\nanswer: Fame, power, military victories, knowledge, and benefit to humanity.'],\n",
       "     'error': 'No errors.'}],\n",
       "   'root': <uniflow.node.node.Node at 0x10b424b80>},\n",
       "  {'output': [{'response': ['question: Why should ambitious people understand the concept of superlinear returns?\\nanswer: Because it will be the wave they surf on.'],\n",
       "     'error': 'No errors.'}],\n",
       "   'root': <uniflow.node.node.Node at 0x10b424d60>}],\n",
       " [{'output': [{'response': [\"question: What was one of the most important things you didn't understand about the world as a child?\\nanswer: The degree to which the returns for performance are superlinear.\"],\n",
       "     'error': 'No errors.'}],\n",
       "   'root': <uniflow.node.node.Node at 0x10b427490>},\n",
       "  {'output': [{'response': ['question: What does the phrase \"You get out what you put in\" imply?\\nanswer: It implies that the returns are linear, meaning you get results in direct proportion to the effort you put in.'],\n",
       "     'error': 'No errors.'}],\n",
       "   'root': <uniflow.node.node.Node at 0x10b424940>},\n",
       "  {'output': [{'response': ['question: What are some examples of superlinear returns for performance?\\nanswer: Fame, power, military victories, knowledge, and benefit to humanity.'],\n",
       "     'error': 'No errors.'}],\n",
       "   'root': <uniflow.node.node.Node at 0x10b4273d0>},\n",
       "  {'output': [{'response': [\"question: Why is it important to understand the concept of superlinear returns?\\nanswer: It is important because it will be the wave you surf on if you're ambitious.\"],\n",
       "     'error': 'No errors.'}],\n",
       "   'root': <uniflow.node.node.Node at 0x10b424580>}]]"
      ]
     },
     "execution_count": 6,
     "metadata": {},
     "output_type": "execute_result"
    }
   ],
   "source": [
    "output"
   ]
  },
  {
   "cell_type": "code",
   "execution_count": null,
   "metadata": {},
   "outputs": [],
   "source": []
  }
 ],
 "metadata": {
  "kernelspec": {
   "display_name": "uniflow",
   "language": "python",
   "name": "python3"
  },
  "language_info": {
   "codemirror_mode": {
    "name": "ipython",
    "version": 3
   },
   "file_extension": ".py",
   "mimetype": "text/x-python",
   "name": "python",
   "nbconvert_exporter": "python",
   "pygments_lexer": "ipython3",
   "version": "3.10.13"
  }
 },
 "nbformat": 4,
 "nbformat_minor": 2
}
