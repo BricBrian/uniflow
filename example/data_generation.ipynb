{
 "cells": [
  {
   "cell_type": "markdown",
   "id": "6f370f8d-754e-4122-83e1-ba76aa1f0ca6",
   "metadata": {},
   "source": [
    "# Examle of generating synthetic data from existing question-answer pairs"
   ]
  },
  {
   "cell_type": "code",
   "execution_count": 1,
   "id": "97b61ef3-8030-4e08-8aac-8b39521d0586",
   "metadata": {},
   "outputs": [
    {
     "name": "stderr",
     "output_type": "stream",
     "text": [
      "Since the GPL-licensed package `unidecode` is not installed, using Python's `unicodedata` package which yields worse results.\n"
     ]
    }
   ],
   "source": [
    "import os\n",
    "import pandas as pd\n",
    "import sys\n",
    "sys.path.append(os.path.join(os.getcwd(), os.pardir))\n",
    "from uniflow.flow.flow_data_gen import DataGenFlow\n",
    "import uniflow.flow.constants as constants\n",
    "\n",
    "flow = DataGenFlow()\n",
    "# Load data\n",
    "current_directory = os.getcwd()\n",
    "qaa = pd.read_csv(f\"{current_directory}/data/raw_input/qd_immigration.csv\", encoding = \"utf8\")"
   ]
  },
  {
   "cell_type": "markdown",
   "id": "6a1b6b0e-a1da-489c-afd7-06a21ce8fb03",
   "metadata": {},
   "source": [
    "### a lightweight data generation task with only 3 paris"
   ]
  },
  {
   "cell_type": "code",
   "execution_count": 2,
   "id": "4fde2515-cd95-404e-b0c8-c812995682a6",
   "metadata": {},
   "outputs": [
    {
     "name": "stdout",
     "output_type": "stream",
     "text": [
      "root node name of flow is root\n",
      "\n",
      "\n",
      "output_dict keys: dict_keys(['output'])\n"
     ]
    }
   ],
   "source": [
    "# First 3 Questions and answers as root node\n",
    "input_dict = {\"qaa\": qaa[:3]}\n",
    "output_dict = flow(input_dict)\n",
    "\n",
    "print(f\"root node name of flow is {flow.root.name}\\n\\n\")\n",
    "print(f\"output_dict keys: {output_dict.keys()}\")"
   ]
  },
  {
   "cell_type": "code",
   "execution_count": 3,
   "id": "488fc805-b65f-453f-8075-c5ef52aa03c9",
   "metadata": {},
   "outputs": [
    {
     "data": {
      "text/plain": [
       "1"
      ]
     },
     "execution_count": 3,
     "metadata": {},
     "output_type": "execute_result"
    }
   ],
   "source": [
    "len(output_dict[constants.OUTPUT_NAME])"
   ]
  },
  {
   "cell_type": "code",
   "execution_count": 4,
   "id": "e0152c23-6828-4a45-a566-6da92d771c6d",
   "metadata": {},
   "outputs": [
    {
     "data": {
      "text/plain": [
       "dict_keys(['QApair_df', 'error_list'])"
      ]
     },
     "execution_count": 4,
     "metadata": {},
     "output_type": "execute_result"
    }
   ],
   "source": [
    "output_dict[constants.OUTPUT_NAME][0].keys()"
   ]
  },
  {
   "cell_type": "code",
   "execution_count": 5,
   "id": "dfa4141b-8c4e-4789-a0ef-cc5c56833117",
   "metadata": {},
   "outputs": [
    {
     "data": {
      "text/html": [
       "<div>\n",
       "<style scoped>\n",
       "    .dataframe tbody tr th:only-of-type {\n",
       "        vertical-align: middle;\n",
       "    }\n",
       "\n",
       "    .dataframe tbody tr th {\n",
       "        vertical-align: top;\n",
       "    }\n",
       "\n",
       "    .dataframe thead th {\n",
       "        text-align: right;\n",
       "    }\n",
       "</style>\n",
       "<table border=\"1\" class=\"dataframe\">\n",
       "  <thead>\n",
       "    <tr style=\"text-align: right;\">\n",
       "      <th></th>\n",
       "      <th>_question</th>\n",
       "      <th>_answer</th>\n",
       "    </tr>\n",
       "  </thead>\n",
       "  <tbody>\n",
       "    <tr>\n",
       "      <th>0</th>\n",
       "      <td>Can I begin the green card process if my emplo...</td>\n",
       "      <td>Yes, the employer can initiate the green card ...</td>\n",
       "    </tr>\n",
       "    <tr>\n",
       "      <th>1</th>\n",
       "      <td>If my employer has submitted an H-1B and I pos...</td>\n",
       "      <td>Yes, the employer can initiate the green card ...</td>\n",
       "    </tr>\n",
       "    <tr>\n",
       "      <th>2</th>\n",
       "      <td>If my employer has filed an H-1B and I have a ...</td>\n",
       "      <td>Yes, the employer can begin the green card pro...</td>\n",
       "    </tr>\n",
       "    <tr>\n",
       "      <th>3</th>\n",
       "      <td>What is the eligibility and process for portin...</td>\n",
       "      <td>It is possible to move up or down the employme...</td>\n",
       "    </tr>\n",
       "    <tr>\n",
       "      <th>4</th>\n",
       "      <td>What is the eligibility and procedure for port...</td>\n",
       "      <td>It is possible to move up or down the employme...</td>\n",
       "    </tr>\n",
       "    <tr>\n",
       "      <th>5</th>\n",
       "      <td>What is the eligibility and process for portin...</td>\n",
       "      <td>It is possible to move up or down the employme...</td>\n",
       "    </tr>\n",
       "    <tr>\n",
       "      <th>6</th>\n",
       "      <td>What are my chances of obtaining an L1A visa? ...</td>\n",
       "      <td>It is important to discuss your job descriptio...</td>\n",
       "    </tr>\n",
       "    <tr>\n",
       "      <th>7</th>\n",
       "      <td>What are the odds of me getting an L1A visa? I...</td>\n",
       "      <td>It is important to consult with your lawyers a...</td>\n",
       "    </tr>\n",
       "    <tr>\n",
       "      <th>8</th>\n",
       "      <td>What is the likelihood of me getting an L1A vi...</td>\n",
       "      <td>It is important to discuss your job descriptio...</td>\n",
       "    </tr>\n",
       "  </tbody>\n",
       "</table>\n",
       "</div>"
      ],
      "text/plain": [
       "                                           _question  \\\n",
       "0  Can I begin the green card process if my emplo...   \n",
       "1  If my employer has submitted an H-1B and I pos...   \n",
       "2  If my employer has filed an H-1B and I have a ...   \n",
       "3  What is the eligibility and process for portin...   \n",
       "4  What is the eligibility and procedure for port...   \n",
       "5  What is the eligibility and process for portin...   \n",
       "6  What are my chances of obtaining an L1A visa? ...   \n",
       "7  What are the odds of me getting an L1A visa? I...   \n",
       "8  What is the likelihood of me getting an L1A vi...   \n",
       "\n",
       "                                             _answer  \n",
       "0  Yes, the employer can initiate the green card ...  \n",
       "1  Yes, the employer can initiate the green card ...  \n",
       "2  Yes, the employer can begin the green card pro...  \n",
       "3  It is possible to move up or down the employme...  \n",
       "4  It is possible to move up or down the employme...  \n",
       "5  It is possible to move up or down the employme...  \n",
       "6  It is important to discuss your job descriptio...  \n",
       "7  It is important to consult with your lawyers a...  \n",
       "8  It is important to discuss your job descriptio...  "
      ]
     },
     "execution_count": 5,
     "metadata": {},
     "output_type": "execute_result"
    }
   ],
   "source": [
    "output_dict['output'][0]['QApair_df'][:10]"
   ]
  },
  {
   "cell_type": "code",
   "execution_count": 6,
   "id": "68c37f61-42a3-4cd9-aeb2-54bd2a974fec",
   "metadata": {},
   "outputs": [
    {
     "data": {
      "text/plain": [
       "[]"
      ]
     },
     "execution_count": 6,
     "metadata": {},
     "output_type": "execute_result"
    }
   ],
   "source": [
    "output_dict['output'][0]['error_list']"
   ]
  },
  {
   "cell_type": "code",
   "execution_count": 7,
   "id": "f798733d-0b57-4867-ac87-ec1b53f3cb4e",
   "metadata": {},
   "outputs": [
    {
     "data": {
      "text/plain": [
       "{'output': [{'QApair_df':                                            _question  \\\n",
       "   0  Would it be beneficial to switch from eb-2 to ...   \n",
       "   1  What would be the advantages of switching from...   \n",
       "   2  Should my wife and I consider changing from eb...   \n",
       "   3  What can I do to get my H-1B visa approved for...   \n",
       "   4  What steps can I take to ensure my H-1B visa i...   \n",
       "   5  What can I do to make sure my H-1B visa is app...   \n",
       "   \n",
       "                                                _answer  \n",
       "   0  It could be beneficial to switch from eb-2 to ...  \n",
       "   1  Switching from eb-2 to eb-3 may result in a qu...  \n",
       "   2  It could be worth considering changing from eb...  \n",
       "   3  Typically the only way you can get a three yea...  \n",
       "   4  Generally the only way you can get a three yea...  \n",
       "   5  Usually the only way you can get a three year ...  ,\n",
       "   'error_list': []}]}"
      ]
     },
     "execution_count": 7,
     "metadata": {},
     "output_type": "execute_result"
    }
   ],
   "source": [
    "flow({\"qaa\": qaa[3:5]})"
   ]
  },
  {
   "cell_type": "markdown",
   "id": "2ad11412-8214-4bb5-8878-c844258eba62",
   "metadata": {},
   "source": [
    "### data generation with all entries in the csv file"
   ]
  },
  {
   "cell_type": "code",
   "execution_count": 8,
   "id": "21a275b7-f0d9-40ad-a210-8c02f247f1df",
   "metadata": {},
   "outputs": [],
   "source": [
    "flow2 = DataGenFlow()\n",
    "# Load data\n",
    "current_directory = os.getcwd()\n",
    "qaa = pd.read_csv(f\"{current_directory}/data/raw_input/qd_immigration.csv\", encoding = \"utf8\")\n",
    "# Questions and answers as root node\n",
    "input_dict = {\"qaa\": qaa[5:8]}\n",
    "output_dict = flow2(input_dict)"
   ]
  },
  {
   "cell_type": "code",
   "execution_count": 9,
   "id": "364c4df3-0364-46fb-b0a4-a8205b266441",
   "metadata": {},
   "outputs": [
    {
     "data": {
      "text/plain": [
       "{'output': [{'QApair_df':                                            _question  \\\n",
       "   0  What are the possibilities for me to remain in...   \n",
       "   1  What are my options for staying in the US afte...   \n",
       "   2  What are the chances of me staying in the US a...   \n",
       "   3  Can I downgrade my case from EB-2 to EB-3 for ...   \n",
       "   4  I have been with my current employer since 200...   \n",
       "   5  I have been with my current employer since 200...   \n",
       "   6  I have an EB-2 approval and am applying for EB...   \n",
       "   7  I have an EB-2 approval and am now applying fo...   \n",
       "   8  I have an EB-2 approval and am now applying fo...   \n",
       "   \n",
       "                                                _answer  \n",
       "   0  It is unlikely that you will be able to obtain...  \n",
       "   1  It is unlikely that you will be able to acquir...  \n",
       "   2  It is unlikely that you will be able to get a ...  \n",
       "   3  Your EB-2 will not be affected. You can file E...  \n",
       "   4  Your EB-2 will remain unaffected. You can file...  \n",
       "   5  Your EB-2 will stay intact. You can file EB-3/...  \n",
       "   6  This is largely a matter of procedure and poli...  \n",
       "   7  This is mainly a question of procedure and pol...  \n",
       "   8  This is mainly a question of procedure and pol...  ,\n",
       "   'error_list': []}]}"
      ]
     },
     "execution_count": 9,
     "metadata": {},
     "output_type": "execute_result"
    }
   ],
   "source": [
    "output_dict"
   ]
  },
  {
   "cell_type": "code",
   "execution_count": null,
   "id": "38cdadc4-5f32-4601-8428-dcc82c0e04bc",
   "metadata": {},
   "outputs": [],
   "source": []
  },
  {
   "cell_type": "code",
   "execution_count": null,
   "id": "559de9b8-2484-45e8-a357-ec39c0a74641",
   "metadata": {},
   "outputs": [],
   "source": []
  }
 ],
 "metadata": {
  "kernelspec": {
   "display_name": "Python 3 (ipykernel)",
   "language": "python",
   "name": "python3"
  },
  "language_info": {
   "codemirror_mode": {
    "name": "ipython",
    "version": 3
   },
   "file_extension": ".py",
   "mimetype": "text/x-python",
   "name": "python",
   "nbconvert_exporter": "python",
   "pygments_lexer": "ipython3",
   "version": "3.10.12"
  }
 },
 "nbformat": 4,
 "nbformat_minor": 5
}
