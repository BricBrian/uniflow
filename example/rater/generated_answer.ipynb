{
 "cells": [
  {
   "cell_type": "code",
   "execution_count": 1,
   "metadata": {},
   "outputs": [],
   "source": [
    "%reload_ext autoreload\n",
    "%autoreload 2\n",
    "\n",
    "import sys\n",
    "\n",
    "sys.path.append(\".\")\n",
    "sys.path.append(\"..\")\n",
    "sys.path.append(\"../..\")"
   ]
  },
  {
   "cell_type": "code",
   "execution_count": 2,
   "metadata": {},
   "outputs": [
    {
     "name": "stderr",
     "output_type": "stream",
     "text": [
      "/home/zayn/miniconda3/envs/uniflow/lib/python3.10/site-packages/tqdm/auto.py:21: TqdmWarning: IProgress not found. Please update jupyter and ipywidgets. See https://ipywidgets.readthedocs.io/en/stable/user_install.html\n",
      "  from .autonotebook import tqdm as notebook_tqdm\n"
     ]
    },
    {
     "data": {
      "text/plain": [
       "True"
      ]
     },
     "execution_count": 2,
     "metadata": {},
     "output_type": "execute_result"
    }
   ],
   "source": [
    "import pprint\n",
    "\n",
    "from dotenv import load_dotenv\n",
    "from IPython.display import display\n",
    "\n",
    "from uniflow.flow.client import RaterClient\n",
    "from uniflow.flow.flow_factory import FlowFactory\n",
    "from uniflow.flow.config  import RaterForGeneratedAnswerConfig\n",
    "from uniflow.op.model.model_config  import OpenAIModelConfig\n",
    "from uniflow.viz import Viz\n",
    "from uniflow.op.prompt_schema import Context\n",
    "\n",
    "load_dotenv()"
   ]
  },
  {
   "cell_type": "code",
   "execution_count": 3,
   "metadata": {},
   "outputs": [],
   "source": [
    "raw_input = [\n",
    "    (\"Reddit is an American social news aggregation, content rating, and discussion website. Registered users submit content to the site such as links, text posts, images, and videos, which are then voted up or down by other members.\",\n",
    "     \"What type of content can users submit on Reddit?\",\n",
    "     \"Users can post comments on Reddit.\",\n",
    "     \"Users on Reddit can submit various types of content including links, text posts, images, and videos.\"), # Better\n",
    "    (\"League of Legends (LoL), commonly referred to as League, is a 2009 multiplayer online battle arena video game developed and published by Riot Games. \",\n",
    "     \"When was League of Legends released?\",\n",
    "     \"League of Legends was released in 2009.\",\n",
    "     \"League of Legends was released in the early 2000s.\"), # Worse\n",
    "    (\"Vitamin C (also known as ascorbic acid and ascorbate) is a water-soluble vitamin found in citrus and other fruits, berries and vegetables, also sold as a dietary supplement and as a topical serum ingredient to treat melasma (dark pigment spots) and wrinkles on the face.\",\n",
    "     \"Is Vitamin C water-soluble?\",\n",
    "     \"Yes, Vitamin C is a very water-soluble vitamin.\",\n",
    "     \"Yes, Vitamin C can be dissolved in water well.\"), # Equally good\n",
    "]"
   ]
  },
  {
   "cell_type": "code",
   "execution_count": 4,
   "metadata": {},
   "outputs": [],
   "source": [
    "data = [\n",
    "    Context(context=c[0], question=c[1], grounding_answer=c[2], generated_answer=c[3])\n",
    "    for c in raw_input\n",
    "]"
   ]
  },
  {
   "cell_type": "code",
   "execution_count": 5,
   "metadata": {},
   "outputs": [
    {
     "name": "stdout",
     "output_type": "stream",
     "text": [
      "RaterConfig(flow_name='RaterFlow', model_config={'model_name': 'gpt-3.5-turbo-1106', 'model_server': 'OpenAIModelServer', 'num_call': 3, 'temperature': 0.9, 'response_format': {'type': 'text'}}, label2score={'Strong accept': 2.0, 'Accept': 1.0, 'Equivalent': 0.0, 'Reject': -1.0, 'Strong reject': -2.0}, guided_prompt_template=GuidedPrompt(instruction='Rate the generated answer compared to the grounding answer to the question. Accept means the generated answer is better than the grounding answer and reject means worse.\\n        Follow the format of the examples below to include context, question, grounding answer, generated answer and label in the response.\\n        The response should not include examples in the prompt.', examples=[Context(context='Basic operating system features were developed in the 1950s, and more complex functions were introduced in the 1960s.', question='When were basic operating system features developed?', grounding_answer='In the 1960s, people developed some basic operating system functions.', generated_answer='Basic operating system features were developed in the 1950s.', explanation='The generated answer is much better because it correctly identifies the 1950s as the time when basic operating system features were developed', label='Strong accept'), Context(context='Early computers were built to perform a series of single tasks, like a calculator. Basic operating system could automatically run different programs in succession to speed up processing.', question='Did early computers function like modern calculators?', grounding_answer='No. Early computers were used primarily for complex calculating.', generated_answer='Yes. Early computers were built to perform a series of single tasks, similar to a calculator.', explanation=\"The generated answer is better as it correctly captures the essence of the early computers' functionality, which was to perform single tasks akin to calculators.\", label='Accept'), Context(context='Operating systems did not exist in their modern and more complex forms until the early 1960s. Hardware features were added, that enabled use of runtime libraries, interrupts, and parallel processing.', question='When did operating systems start to resemble their modern forms?', grounding_answer='Operating systems started to resemble their modern forms in the early 1960s.', generated_answer='Modern and more complex forms of operating systems began to emerge in the early 1960s.', explanation='Both answers are equally good as they accurately pinpoint the early 1960s as the period when modern operating systems began to develop.', label='Equivalent'), Context(context='Operating systems did not exist in their modern and more complex forms until the early 1960s. Hardware features were added, that enabled use of runtime libraries, interrupts, and parallel processing.', question='What features were added to hardware in the 1960s?', grounding_answer='Hardware in the 1960s saw the addition of features like runtime libraries and parallel processing.', generated_answer='The 1960s saw the addition of input output control and compatible timesharing capabilities in hardware.', explanation='The generated answer is worse because it inaccurately suggests the addition of capabilities of hardware in 1960s which is not supported by the context.', label='Reject'), Context(context='Operating systems did not exist in their modern and more complex forms until the early 1960s. When personal computers became popular in the 1980s, operating systems were made for them similar in concept to those used on larger computers.', question='When did operating systems in personal computer were similar to those used on larger computers?', grounding_answer='In 1980s, as personal computers became popular.', generated_answer='In the early 1960s, as operating system became more complex.', explanation='The generated answer is much worse as it incorrectly states the early 1960s as the period of popularity for personal computers, contradicting the context which indicates the 1980s.', label='Strong reject')]), num_thread=1)\n"
     ]
    }
   ],
   "source": [
    "config = RaterForGeneratedAnswerConfig(\n",
    "    flow_name=\"RaterFlow\",\n",
    "    model_config=OpenAIModelConfig(num_call=3, response_format={\"type\": \"text\"}),\n",
    "    label2score={\n",
    "        \"Strong accept\": 2.0,\n",
    "        \"Accept\": 1.0,\n",
    "        \"Equivalent\": 0.0,\n",
    "        \"Reject\": -1.0,\n",
    "        \"Strong reject\": -2.0,\n",
    "    }\n",
    ")\n",
    "client = RaterClient(config)"
   ]
  },
  {
   "cell_type": "code",
   "execution_count": 6,
   "metadata": {},
   "outputs": [
    {
     "name": "stderr",
     "output_type": "stream",
     "text": [
      "100%|██████████| 3/3 [00:04<00:00,  1.36s/it]"
     ]
    },
    {
     "name": "stdout",
     "output_type": "stream",
     "text": [
      "[{'output': [{'average_score': 1.0,\n",
      "              'error': 'No errors.',\n",
      "              'majority_vote': 'accept',\n",
      "              'response': ['explanation: The generated answer is better as it '\n",
      "                           'accurately lists the various types of content that '\n",
      "                           'users can submit on Reddit, which is more '\n",
      "                           'comprehensive than just posting comments.\\n'\n",
      "                           'label: Accept',\n",
      "                           'explanation: The generated answer is better as it '\n",
      "                           'accurately lists the various types of content that '\n",
      "                           'users can submit on Reddit, which includes links, '\n",
      "                           'text posts, images, and videos, as mentioned in '\n",
      "                           'the context.\\n'\n",
      "                           'label: Accept',\n",
      "                           'explanation: The generated answer is better as it '\n",
      "                           'provides a more comprehensive list of the types of '\n",
      "                           'content that users can submit on Reddit, whereas '\n",
      "                           'the grounding answer only mentions comments.\\n'\n",
      "                           'label: Accept'],\n",
      "              'scores': [1.0, 1.0, 1.0],\n",
      "              'votes': ['accept', 'accept', 'accept']}],\n",
      "  'root': <uniflow.node.Node object at 0x7f725f404cd0>},\n",
      " {'output': [{'average_score': -1.0,\n",
      "              'error': 'No errors.',\n",
      "              'majority_vote': 'reject',\n",
      "              'response': ['explanation: The generated answer is worse as it '\n",
      "                           'inaccurately states the early 2000s as the release '\n",
      "                           'year for League of Legends, contradicting the '\n",
      "                           'grounding answer.\\n'\n",
      "                           'label: Reject',\n",
      "                           'explanation: The generated answer is worse because '\n",
      "                           'it inaccurately suggests the early 2000s as the '\n",
      "                           'release date of League of Legends, which '\n",
      "                           'contradicts the grounding answer provided in the '\n",
      "                           'context.\\n'\n",
      "                           'label: Reject',\n",
      "                           'explanation: The generated answer is worse as it '\n",
      "                           'inaccurately states the release of League of '\n",
      "                           'Legends in the early 2000s, which contradicts the '\n",
      "                           'grounding answer and the context.\\n'\n",
      "                           'label: Reject'],\n",
      "              'scores': [-1.0, -1.0, -1.0],\n",
      "              'votes': ['reject', 'reject', 'reject']}],\n",
      "  'root': <uniflow.node.Node object at 0x7f727c55f610>},\n",
      " {'output': [{'average_score': 0.6666666666666666,\n",
      "              'error': 'No errors.',\n",
      "              'majority_vote': 'accept',\n",
      "              'response': ['explanation: Both answers are equivalent in '\n",
      "                           'accurately stating that Vitamin C is '\n",
      "                           'water-soluble.\\n'\n",
      "                           'label: Equivalent',\n",
      "                           'explanation: Both answers are correct in stating '\n",
      "                           'that Vitamin C is water-soluble, but the grounding '\n",
      "                           'answer provides a more direct and definitive '\n",
      "                           'statement.\\n'\n",
      "                           'label: Accept',\n",
      "                           'explanation: Both answers are essentially saying '\n",
      "                           'the same thing, although the grounding answer is '\n",
      "                           'slightly more specific in stating that Vitamin C '\n",
      "                           'is \"very\" water-soluble. However, for practical '\n",
      "                           'purposes, both answers convey the same '\n",
      "                           'information.\\n'\n",
      "                           'label: Accept'],\n",
      "              'scores': [0.0, 1.0, 1.0],\n",
      "              'votes': ['equivalent', 'accept', 'accept']}],\n",
      "  'root': <uniflow.node.Node object at 0x7f725f406020>}]\n"
     ]
    },
    {
     "name": "stderr",
     "output_type": "stream",
     "text": [
      "\n"
     ]
    }
   ],
   "source": [
    "output = client.run(data)\n",
    "pprint.pprint(output)"
   ]
  },
  {
   "cell_type": "code",
   "execution_count": 7,
   "metadata": {},
   "outputs": [
    {
     "name": "stdout",
     "output_type": "stream",
     "text": [
      "data 0 has majority vote accept and average score 1.0\n",
      "data 1 has majority vote reject and average score -1.0\n",
      "data 2 has majority vote accept and average score 0.6666666666666666\n"
     ]
    }
   ],
   "source": [
    "for idx, o in enumerate(output):\n",
    "    majority_vote = o['output'][0]['majority_vote']\n",
    "    average_score = o['output'][0]['average_score']\n",
    "    print(f\"data {idx} has majority vote {majority_vote} and average score {average_score}\")"
   ]
  }
 ],
 "metadata": {
  "kernelspec": {
   "display_name": "uniflow",
   "language": "python",
   "name": "python3"
  },
  "language_info": {
   "codemirror_mode": {
    "name": "ipython",
    "version": 3
   },
   "file_extension": ".py",
   "mimetype": "text/x-python",
   "name": "python",
   "nbconvert_exporter": "python",
   "pygments_lexer": "ipython3",
   "version": "3.10.13"
  }
 },
 "nbformat": 4,
 "nbformat_minor": 2
}
