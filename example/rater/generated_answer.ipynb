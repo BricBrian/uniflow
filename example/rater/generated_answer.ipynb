{
 "cells": [
  {
   "cell_type": "code",
   "execution_count": 1,
   "metadata": {},
   "outputs": [],
   "source": [
    "%reload_ext autoreload\n",
    "%autoreload 2\n",
    "\n",
    "import sys\n",
    "\n",
    "sys.path.append(\".\")\n",
    "sys.path.append(\"..\")\n",
    "sys.path.append(\"../..\")"
   ]
  },
  {
   "cell_type": "code",
   "execution_count": 2,
   "metadata": {},
   "outputs": [
    {
     "name": "stderr",
     "output_type": "stream",
     "text": [
      "/media/zayn/Linux/miniconda3/envs/uniflow/lib/python3.10/site-packages/tqdm/auto.py:21: TqdmWarning: IProgress not found. Please update jupyter and ipywidgets. See https://ipywidgets.readthedocs.io/en/stable/user_install.html\n",
      "  from .autonotebook import tqdm as notebook_tqdm\n"
     ]
    },
    {
     "data": {
      "text/plain": [
       "True"
      ]
     },
     "execution_count": 2,
     "metadata": {},
     "output_type": "execute_result"
    }
   ],
   "source": [
    "import pprint\n",
    "\n",
    "from dotenv import load_dotenv\n",
    "from IPython.display import display\n",
    "\n",
    "from uniflow.flow.client import RaterClient\n",
    "from uniflow.flow.flow_factory import FlowFactory\n",
    "from uniflow.flow.config  import RaterForGeneratedAnswerConfig\n",
    "from uniflow.op.model.model_config  import OpenAIModelConfig\n",
    "from uniflow.viz import Viz\n",
    "from uniflow.op.prompt_schema import Context\n",
    "\n",
    "load_dotenv()"
   ]
  },
  {
   "cell_type": "code",
   "execution_count": 3,
   "metadata": {},
   "outputs": [],
   "source": [
    "raw_input = [\n",
    "    (\"Reddit is an American social news aggregation, content rating, and discussion website. Registered users submit content to the site such as links, text posts, images, and videos, which are then voted up or down by other members.\",\n",
    "     \"What type of content can users submit on Reddit?\",\n",
    "     \"Users can post comments on Reddit.\",\n",
    "     \"Users on Reddit can submit various types of content including links, text posts, images, and videos.\"), # Better\n",
    "    (\"League of Legends (LoL), commonly referred to as League, is a 2009 multiplayer online battle arena video game developed and published by Riot Games. \",\n",
    "     \"When was League of Legends released?\",\n",
    "     \"League of Legends was released in 2009.\",\n",
    "     \"League of Legends was released in the early 2000s.\"), # Worse\n",
    "    (\"Vitamin C (also known as ascorbic acid and ascorbate) is a water-soluble vitamin found in citrus and other fruits, berries and vegetables, also sold as a dietary supplement and as a topical serum ingredient to treat melasma (dark pigment spots) and wrinkles on the face.\",\n",
    "     \"Is Vitamin C water-soluble?\",\n",
    "     \"Yes, Vitamin C is a very water-soluble vitamin.\",\n",
    "     \"Yes, Vitamin C can be dissolved in water well.\"), # Equally good\n",
    "]"
   ]
  },
  {
   "cell_type": "code",
   "execution_count": 4,
   "metadata": {},
   "outputs": [],
   "source": [
    "data = [\n",
    "    Context(context=c[0], question=c[1], grounding_answer=c[2], generated_answer=c[3])\n",
    "    for c in raw_input\n",
    "]"
   ]
  },
  {
   "cell_type": "code",
   "execution_count": 5,
   "metadata": {},
   "outputs": [
    {
     "name": "stdout",
     "output_type": "stream",
     "text": [
      "RaterConfig(flow_name='RaterFlow', model_config={'model_name': 'gpt-3.5-turbo-1106', 'model_server': 'OpenAIModelServer', 'num_call': 3, 'temperature': 0.9, 'response_format': {'type': 'text'}}, label2score={'Strong accept': 2.0, 'Accept': 1.0, 'Equivalent': 0.0, 'Reject': -1.0, 'Strong reject': -2.0}, guided_prompt_template=GuidedPrompt(instruction='Rate the generated answer compared to the grounding answer to the question. Accept means the generated answer is better than the grounding answer and reject means worse.\\n        Follow the format of the examples below to include context, question, grounding answer, generated answer and label in the response.\\n        The response should not include examples in the prompt.', examples=[Context(context='Basic operating system features were developed in the 1950s, such as resident monitor functions that could automatically run different programs in succession to speed up processing.', question='When were basic operating system features developed?', grounding_answer='Basic operating system features were developed in the 1980s.', generated_anser='Basic operating system features were developed in the 1950s', explanation='The generated answer is much better because it correctly identifies the 1950s as the time when basic operating system features were developed', label='Strong accept'), Context(context='Early computers were built to perform a series of single tasks, like calculating. Basic operating system could automatically run different programs in succession to speed up processing.', question='Did early computers function like modern calculators?', grounding_answer='No. Early computers were used primarily for complex calculating like solving ODE.', generated_anser='Yes. Early computers were built to perform a series of single tasks, similar to a calculator.', explanation=\"The generated answer is better as it correctly captures the essence of the early computers' functionality, which was to perform single tasks akin to calculators.\", label='Accept'), Context(context='Operating systems did not exist in their modern and more complex forms until the early 1960s. Hardware features were added, that enabled use of runtime libraries, interrupts, and parallel processing.', question='When did operating systems start to resemble their modern forms?', grounding_answer='Operating systems started to resemble their modern forms in the early 1960s.', generated_anser='Modern and more complex forms of operating systems began to emerge in the early 1960s.', explanation='Both answers are equally good as they accurately pinpoint the early 1960s as the period when modern operating systems began to develop.', label='Equivalent'), Context(context='Operating systems did not exist in their modern and more complex forms until the early 1960s. Hardware features were added, that enabled use of runtime libraries, interrupts, and parallel processing.', question='What features were added to hardware in the 1960s?', grounding_answer='Hardware in the 1960s saw the addition of features like runtime libraries and parallel processing.', generated_anser='The 1960s saw the addition of fault tolerance and compatibility in hardware.', explanation='The generated answer is worse because it inaccurately suggests the addition of capabilities of hardware in 1960s which is not supported by the context.', label='Reject'), Context(context='Operating systems did not exist in their modern and more complex forms until the early 1960s. When personal computers became popular in the 1980s, operating systems were made for them similar in concept to those used on larger computers.', question='When did operating systems in personal computer were similar to those used on larger computers?', grounding_answer='In 1980s.', generated_anser='In the early 1960s.', explanation='The generated answer is much worse as it incorrectly states the early 1960s as the period of popularity for personal computers, contradicting the context which indicates the 1980s.', label='Strong reject')]), num_thread=1)\n"
     ]
    }
   ],
   "source": [
    "config = RaterForGeneratedAnswerConfig(\n",
    "    flow_name=\"RaterFlow\",\n",
    "    model_config=OpenAIModelConfig(num_call=3, response_format={\"type\": \"text\"}),\n",
    "    label2score={\n",
    "        \"Strong accept\": 2.0,\n",
    "        \"Accept\": 1.0,\n",
    "        \"Equivalent\": 0.0,\n",
    "        \"Reject\": -1.0,\n",
    "        \"Strong reject\": -2.0,\n",
    "    }\n",
    ")\n",
    "client = RaterClient(config)"
   ]
  },
  {
   "cell_type": "code",
   "execution_count": 6,
   "metadata": {},
   "outputs": [
    {
     "name": "stderr",
     "output_type": "stream",
     "text": [
      "  0%|          | 0/3 [00:00<?, ?it/s]"
     ]
    },
    {
     "name": "stderr",
     "output_type": "stream",
     "text": [
      "100%|██████████| 3/3 [00:04<00:00,  1.44s/it]"
     ]
    },
    {
     "name": "stdout",
     "output_type": "stream",
     "text": [
      "[{'output': [{'average_score': 1.0,\n",
      "              'error': 'No errors.',\n",
      "              'majority_vote': 'accept',\n",
      "              'response': ['explanation: The generated answer is better as it '\n",
      "                           'accurately lists the various types of content that '\n",
      "                           'users can submit on Reddit, including links, text '\n",
      "                           'posts, images, and videos, which aligns with the '\n",
      "                           'context.\\n'\n",
      "                           'label: Accept',\n",
      "                           'explanation: The generated answer is better as it '\n",
      "                           'provides a more comprehensive and accurate list of '\n",
      "                           'the types of content that users can submit on '\n",
      "                           'Reddit, compared to the grounding answer which '\n",
      "                           'only mentions comments.\\n'\n",
      "                           'label: Accept',\n",
      "                           'explanation: The generated answer is better as it '\n",
      "                           'correctly identifies the various types of content '\n",
      "                           'that users can submit on Reddit, whereas the '\n",
      "                           'grounding answer only mentions comments.\\n'\n",
      "                           'label: Accept'],\n",
      "              'scores': [1.0, 1.0, 1.0],\n",
      "              'votes': ['accept', 'accept', 'accept']}],\n",
      "  'root': <uniflow.node.Node object at 0x7f8af623cfd0>},\n",
      " {'output': [{'average_score': -1.6666666666666667,\n",
      "              'error': 'No errors.',\n",
      "              'majority_vote': 'strong reject',\n",
      "              'response': ['explanation: The grounding answer is better as it '\n",
      "                           'accurately states that League of Legends was '\n",
      "                           'released in 2009, while the generated answer '\n",
      "                           'incorrectly states \"early 2000s\".\\n'\n",
      "                           'label: Strong reject',\n",
      "                           'explanation: The generated answer is worse because '\n",
      "                           'it inaccurately states the early 2000s as the '\n",
      "                           'release period of League of Legends, contradicting '\n",
      "                           'the grounding answer and the context which clearly '\n",
      "                           'indicates 2009 as the release year.\\n'\n",
      "                           'label: Strong reject',\n",
      "                           'explanation: The generated answer is worse as it '\n",
      "                           'inaccurately suggests the release of League of '\n",
      "                           'Legends in the early 2000s, which contradicts the '\n",
      "                           'context stating it was released in 2009.\\n'\n",
      "                           'label: Reject'],\n",
      "              'scores': [-2.0, -2.0, -1.0],\n",
      "              'votes': ['strong reject', 'strong reject', 'reject']}],\n",
      "  'root': <uniflow.node.Node object at 0x7f8af6fcbac0>},\n",
      " {'output': [{'average_score': -0.3333333333333333,\n",
      "              'error': 'No errors.',\n",
      "              'majority_vote': 'equivalent',\n",
      "              'response': ['explanation: Both answers are correct and convey '\n",
      "                           'the same information about Vitamin C being '\n",
      "                           'water-soluble.\\n'\n",
      "                           'label: Equivalent',\n",
      "                           'explanation: Both answers are equivalent in '\n",
      "                           'stating that Vitamin C is water-soluble, although '\n",
      "                           'the generated answer provides a bit more detail '\n",
      "                           'about its ability to dissolve in water.\\n'\n",
      "                           'label: Equivalent',\n",
      "                           'explanation: The grounding answer is more '\n",
      "                           'straightforward and accurately states that Vitamin '\n",
      "                           'C is a water-soluble vitamin, while the generated '\n",
      "                           'answer is a bit more verbose and less precise.\\n'\n",
      "                           'label: Reject'],\n",
      "              'scores': [0.0, 0.0, -1.0],\n",
      "              'votes': ['equivalent', 'equivalent', 'reject']}],\n",
      "  'root': <uniflow.node.Node object at 0x7f8af623ceb0>}]\n"
     ]
    },
    {
     "name": "stderr",
     "output_type": "stream",
     "text": [
      "\n"
     ]
    }
   ],
   "source": [
    "output = client.run(data)\n",
    "pprint.pprint(output)"
   ]
  },
  {
   "cell_type": "code",
   "execution_count": 7,
   "metadata": {},
   "outputs": [
    {
     "name": "stdout",
     "output_type": "stream",
     "text": [
      "data 0 has majority vote accept and average score 1.0\n",
      "data 1 has majority vote strong reject and average score -1.6666666666666667\n",
      "data 2 has majority vote equivalent and average score -0.3333333333333333\n"
     ]
    }
   ],
   "source": [
    "for idx, o in enumerate(output):\n",
    "    majority_vote = o['output'][0]['majority_vote']\n",
    "    average_score = o['output'][0]['average_score']\n",
    "    print(f\"data {idx} has majority vote {majority_vote} and average score {average_score}\")"
   ]
  }
 ],
 "metadata": {
  "kernelspec": {
   "display_name": "uniflow",
   "language": "python",
   "name": "python3"
  },
  "language_info": {
   "codemirror_mode": {
    "name": "ipython",
    "version": 3
   },
   "file_extension": ".py",
   "mimetype": "text/x-python",
   "name": "python",
   "nbconvert_exporter": "python",
   "pygments_lexer": "ipython3",
   "version": "3.10.13"
  }
 },
 "nbformat": 4,
 "nbformat_minor": 2
}
