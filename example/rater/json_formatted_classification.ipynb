{
 "cells": [
  {
   "cell_type": "code",
   "execution_count": 8,
   "metadata": {},
   "outputs": [],
   "source": [
    "%reload_ext autoreload\n",
    "%autoreload 2\n",
    "\n",
    "import sys\n",
    "\n",
    "sys.path.append(\".\")\n",
    "sys.path.append(\"..\")\n",
    "sys.path.append(\"../..\")"
   ]
  },
  {
   "cell_type": "code",
   "execution_count": 9,
   "metadata": {},
   "outputs": [
    {
     "data": {
      "text/plain": [
       "True"
      ]
     },
     "execution_count": 9,
     "metadata": {},
     "output_type": "execute_result"
    }
   ],
   "source": [
    "import pprint\n",
    "\n",
    "from dotenv import load_dotenv\n",
    "from IPython.display import display\n",
    "\n",
    "from uniflow.flow.client import RaterClient\n",
    "from uniflow.flow.flow_factory import FlowFactory\n",
    "from uniflow.flow.config  import RaterClassificationConfig\n",
    "from uniflow.op.model.model_config  import OpenAIModelConfig\n",
    "from uniflow.viz import Viz\n",
    "from uniflow.op.prompt_schema import Context\n",
    "\n",
    "load_dotenv()"
   ]
  },
  {
   "cell_type": "code",
   "execution_count": 10,
   "metadata": {},
   "outputs": [
    {
     "data": {
      "text/plain": [
       "{'extract': ['ExtractPDFFlow', 'ExtractTxtFlow'],\n",
       " 'transform': ['TransformCopyFlow',\n",
       "  'TransformHuggingFaceFlow',\n",
       "  'TransformLMQGFlow',\n",
       "  'TransformOpenAIFlow'],\n",
       " 'rater': ['RaterFlow']}"
      ]
     },
     "execution_count": 10,
     "metadata": {},
     "output_type": "execute_result"
    }
   ],
   "source": [
    "FlowFactory.list()"
   ]
  },
  {
   "cell_type": "code",
   "execution_count": 11,
   "metadata": {},
   "outputs": [],
   "source": [
    "raw_input = [\n",
    "    (\"The Pacific Ocean is the largest and deepest of Earth's oceanic divisions. It extends from the Arctic Ocean in the north to the Southern Ocean in the south.\",\n",
    "     \"What is the largest ocean on Earth?\",\n",
    "     \"The largest ocean on Earth is the Pacific Ocean.\"), # correct\n",
    "    (\"Shakespeare, a renowned English playwright and poet, wrote 39 plays during his lifetime. His works include famous plays like 'Hamlet' and 'Romeo and Juliet'.\",\n",
    "     \"How many plays did Shakespeare write?\",\n",
    "     \"Shakespeare wrote 31 plays.\"), # incorrect\n",
    "    (\"The human brain is an intricate organ responsible for intelligence, memory, and emotions. It is made up of approximately 86 billion neurons.\",\n",
    "     \"What is the human brain responsible for?\",\n",
    "     \"The human brain is responsible for physical movement.\"), # incorrect\n",
    "]"
   ]
  },
  {
   "cell_type": "code",
   "execution_count": 12,
   "metadata": {},
   "outputs": [],
   "source": [
    "data = [\n",
    "    Context(context=c[0], question=c[1], answer=c[2])\n",
    "    for c in raw_input\n",
    "]"
   ]
  },
  {
   "cell_type": "code",
   "execution_count": 13,
   "metadata": {},
   "outputs": [
    {
     "name": "stdout",
     "output_type": "stream",
     "text": [
      "RaterConfig(flow_name='RaterFlow', model_config={'model_name': 'gpt-3.5-turbo-1106', 'model_server': 'OpenAIModelServer', 'num_call': 3, 'temperature': 0.9, 'response_format': {'type': 'json_object'}}, label2score={'Yes': 1.0, 'No': 0.0}, guided_prompt_template=GuidedPrompt(instruction='Rate the answer based on the question and the context.\\n        Follow the format of the examples below to include context, question, answer, and label in the response.\\n        The response should not include examples in the prompt.', examples=[Context(context='The Eiffel Tower, located in Paris, France, is one of the most famous landmarks in the world. It was constructed in 1889 and stands at a height of 324 meters.', question='When was the Eiffel Tower constructed?', answer='The Eiffel Tower was constructed in 1889.', explanation='The context explicitly mentions that the Eiffel Tower was constructed in 1889, so the answer is correct.', label='Yes'), Context(context='Photosynthesis is a process used by plants to convert light energy into chemical energy. This process primarily occurs in the chloroplasts of plant cells.', question='Where does photosynthesis primarily occur in plant cells?', answer='Photosynthesis primarily occurs in the mitochondria of plant cells.', explanation='The context mentions that photosynthesis primarily occurs in the chloroplasts of plant cells, so the answer is incorrect.', label='No')]), num_thread=1)\n"
     ]
    }
   ],
   "source": [
    "config = RaterClassificationConfig(\n",
    "    flow_name=\"RaterFlow\",\n",
    "    model_config=OpenAIModelConfig(num_call=3, response_format={\"type\": \"json_object\"}),\n",
    "    label2score={\"Yes\": 1.0, \"No\": 0.0})\n",
    "client = RaterClient(config)"
   ]
  },
  {
   "cell_type": "code",
   "execution_count": 16,
   "metadata": {},
   "outputs": [
    {
     "name": "stderr",
     "output_type": "stream",
     "text": [
      "  0%|          | 0/3 [00:00<?, ?it/s]"
     ]
    },
    {
     "name": "stderr",
     "output_type": "stream",
     "text": [
      "100%|██████████| 3/3 [00:07<00:00,  2.57s/it]"
     ]
    },
    {
     "name": "stdout",
     "output_type": "stream",
     "text": [
      "[{'output': [{'average_score': 1.0,\n",
      "              'error': 'No errors.',\n",
      "              'majority_vote': 'yes',\n",
      "              'response': [{'answer': 'The largest ocean on Earth is the '\n",
      "                                      'Pacific Ocean.',\n",
      "                            'context': 'The Pacific Ocean is the largest and '\n",
      "                                       \"deepest of Earth's oceanic divisions. \"\n",
      "                                       'It extends from the Arctic Ocean in '\n",
      "                                       'the north to the Southern Ocean in the '\n",
      "                                       'south.',\n",
      "                            'label': 'Yes',\n",
      "                            'question': 'What is the largest ocean on Earth?'},\n",
      "                           {'answer': 'The largest ocean on Earth is the '\n",
      "                                      'Pacific Ocean.',\n",
      "                            'context': 'The Pacific Ocean is the largest and '\n",
      "                                       \"deepest of Earth's oceanic divisions. \"\n",
      "                                       'It extends from the Arctic Ocean in '\n",
      "                                       'the north to the Southern Ocean in the '\n",
      "                                       'south.',\n",
      "                            'label': 'Yes',\n",
      "                            'question': 'What is the largest ocean on Earth?'},\n",
      "                           {'answer': 'The largest ocean on Earth is the '\n",
      "                                      'Pacific Ocean.',\n",
      "                            'context': 'The Pacific Ocean is the largest and '\n",
      "                                       \"deepest of Earth's oceanic divisions. \"\n",
      "                                       'It extends from the Arctic Ocean in '\n",
      "                                       'the north to the Southern Ocean in the '\n",
      "                                       'south.',\n",
      "                            'label': 'Yes',\n",
      "                            'question': 'What is the largest ocean on Earth?'}],\n",
      "              'scores': [1.0, 1.0, 1.0],\n",
      "              'votes': ['yes', 'yes', 'yes']}],\n",
      "  'root': <uniflow.node.Node object at 0x10c3e3640>},\n",
      " {'output': [{'average_score': 0.0,\n",
      "              'error': 'No errors.',\n",
      "              'majority_vote': 'no',\n",
      "              'response': [{'answer': 'Shakespeare wrote 31 plays.',\n",
      "                            'context': 'Shakespeare, a renowned English '\n",
      "                                       'playwright and poet, wrote 39 plays '\n",
      "                                       'during his lifetime. His works include '\n",
      "                                       \"famous plays like 'Hamlet' and 'Romeo \"\n",
      "                                       \"and Juliet'.\",\n",
      "                            'explanation': 'The context explicitly states that '\n",
      "                                           'Shakespeare wrote 39 plays, so the '\n",
      "                                           'answer is incorrect.',\n",
      "                            'label': 'No',\n",
      "                            'question': 'How many plays did Shakespeare '\n",
      "                                        'write?'},\n",
      "                           {'answer': 'Shakespeare wrote 31 plays.',\n",
      "                            'context': 'Shakespeare, a renowned English '\n",
      "                                       'playwright and poet, wrote 39 plays '\n",
      "                                       'during his lifetime. His works include '\n",
      "                                       \"famous plays like 'Hamlet' and 'Romeo \"\n",
      "                                       \"and Juliet'.\",\n",
      "                            'explanation': 'The context explicitly states that '\n",
      "                                           'Shakespeare wrote 39 plays, so the '\n",
      "                                           'answer is incorrect.',\n",
      "                            'label': 'No',\n",
      "                            'question': 'How many plays did Shakespeare '\n",
      "                                        'write?'},\n",
      "                           {'answer': 'Shakespeare wrote 31 plays.',\n",
      "                            'context': 'Shakespeare, a renowned English '\n",
      "                                       'playwright and poet, wrote 39 plays '\n",
      "                                       'during his lifetime. His works include '\n",
      "                                       \"famous plays like 'Hamlet' and 'Romeo \"\n",
      "                                       \"and Juliet'.\",\n",
      "                            'explanation': 'The context explicitly states that '\n",
      "                                           'Shakespeare wrote 39 plays, so the '\n",
      "                                           'answer is incorrect.',\n",
      "                            'label': 'No',\n",
      "                            'question': 'How many plays did Shakespeare '\n",
      "                                        'write?'}],\n",
      "              'scores': [0.0, 0.0, 0.0],\n",
      "              'votes': ['no', 'no', 'no']}],\n",
      "  'root': <uniflow.node.Node object at 0x10c3e3580>},\n",
      " {'output': [{'average_score': 0.0,\n",
      "              'error': 'No errors.',\n",
      "              'majority_vote': 'no',\n",
      "              'response': [{'answer': 'The human brain is responsible for '\n",
      "                                      'physical movement.',\n",
      "                            'context': 'The human brain is an intricate organ '\n",
      "                                       'responsible for intelligence, memory, '\n",
      "                                       'and emotions. It is made up of '\n",
      "                                       'approximately 86 billion neurons.',\n",
      "                            'explanation': 'The answer is incorrect because '\n",
      "                                           'the context explicitly mentions '\n",
      "                                           'that the human brain is '\n",
      "                                           'responsible for intelligence, '\n",
      "                                           'memory, and emotions, not just '\n",
      "                                           'physical movement.',\n",
      "                            'label': 'No',\n",
      "                            'question': 'What is the human brain responsible '\n",
      "                                        'for?'},\n",
      "                           {'answer': 'The human brain is responsible for '\n",
      "                                      'physical movement.',\n",
      "                            'context': 'The human brain is an intricate organ '\n",
      "                                       'responsible for intelligence, memory, '\n",
      "                                       'and emotions. It is made up of '\n",
      "                                       'approximately 86 billion neurons.',\n",
      "                            'explanation': 'The answer is incorrect as the '\n",
      "                                           'context explicitly mentions that '\n",
      "                                           'the human brain is responsible for '\n",
      "                                           'intelligence, memory, and '\n",
      "                                           'emotions, not physical movement.',\n",
      "                            'label': 'No',\n",
      "                            'question': 'What is the human brain responsible '\n",
      "                                        'for?'},\n",
      "                           {'answer': 'The human brain is responsible for '\n",
      "                                      'physical movement.',\n",
      "                            'context': 'The human brain is an intricate organ '\n",
      "                                       'responsible for intelligence, memory, '\n",
      "                                       'and emotions. It is made up of '\n",
      "                                       'approximately 86 billion neurons.',\n",
      "                            'explanation': 'The answer is incorrect as the '\n",
      "                                           'context explicitly states that the '\n",
      "                                           'human brain is responsible for '\n",
      "                                           'intelligence, memory, and '\n",
      "                                           'emotions, not physical movement.',\n",
      "                            'label': 'No',\n",
      "                            'question': 'What is the human brain responsible '\n",
      "                                        'for?'}],\n",
      "              'scores': [0.0, 0.0, 0.0],\n",
      "              'votes': ['no', 'no', 'no']}],\n",
      "  'root': <uniflow.node.Node object at 0x10e05bb50>}]\n"
     ]
    },
    {
     "name": "stderr",
     "output_type": "stream",
     "text": [
      "\n"
     ]
    }
   ],
   "source": [
    "output = client.run(data)\n",
    "pprint.pprint(output)"
   ]
  },
  {
   "cell_type": "code",
   "execution_count": 17,
   "metadata": {},
   "outputs": [
    {
     "name": "stdout",
     "output_type": "stream",
     "text": [
      "data 0 has majority vote yes and average score 1.0\n",
      "data 1 has majority vote no and average score 0.0\n",
      "data 2 has majority vote no and average score 0.0\n"
     ]
    }
   ],
   "source": [
    "for idx, o in enumerate(output):\n",
    "    majority_vote = o['output'][0]['majority_vote']\n",
    "    average_score = o['output'][0]['average_score']\n",
    "    print(f\"data {idx} has majority vote {majority_vote} and average score {average_score}\")"
   ]
  },
  {
   "cell_type": "code",
   "execution_count": null,
   "metadata": {},
   "outputs": [],
   "source": []
  }
 ],
 "metadata": {
  "kernelspec": {
   "display_name": "uniflow",
   "language": "python",
   "name": "python3"
  },
  "language_info": {
   "codemirror_mode": {
    "name": "ipython",
    "version": 3
   },
   "file_extension": ".py",
   "mimetype": "text/x-python",
   "name": "python",
   "nbconvert_exporter": "python",
   "pygments_lexer": "ipython3",
   "version": "3.10.13"
  }
 },
 "nbformat": 4,
 "nbformat_minor": 2
}
