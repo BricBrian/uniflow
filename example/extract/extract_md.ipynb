{
 "cells": [
  {
   "cell_type": "markdown",
   "metadata": {},
   "source": [
    "# Example of extracting markdown file"
   ]
  },
  {
   "cell_type": "markdown",
   "metadata": {},
   "source": [
    "### Load packages"
   ]
  },
  {
   "cell_type": "code",
   "execution_count": 1,
   "metadata": {},
   "outputs": [],
   "source": [
    "%reload_ext autoreload\n",
    "%autoreload 2\n",
    "\n",
    "import sys\n",
    "import pprint\n",
    "\n",
    "sys.path.append(\".\")\n",
    "sys.path.append(\"..\")\n",
    "sys.path.append(\"../..\")"
   ]
  },
  {
   "cell_type": "code",
   "execution_count": 2,
   "metadata": {},
   "outputs": [
    {
     "name": "stderr",
     "output_type": "stream",
     "text": [
      "/opt/conda/envs/uniflow/lib/python3.10/site-packages/tqdm/auto.py:21: TqdmWarning: IProgress not found. Please update jupyter and ipywidgets. See https://ipywidgets.readthedocs.io/en/stable/user_install.html\n",
      "  from .autonotebook import tqdm as notebook_tqdm\n"
     ]
    },
    {
     "data": {
      "text/plain": [
       "{'extract': ['ExtractMarkdownFlow', 'ExtractPDFFlow', 'ExtractTxtFlow'],\n",
       " 'transform': ['TransformCopyFlow',\n",
       "  'TransformHuggingFaceFlow',\n",
       "  'TransformLMQGFlow',\n",
       "  'TransformOpenAIFlow']}"
      ]
     },
     "execution_count": 2,
     "metadata": {},
     "output_type": "execute_result"
    }
   ],
   "source": [
    "from uniflow.flow.client import ExtractClient\n",
    "from uniflow.flow.config import ExtractMarkdownConfig\n",
    "from uniflow.viz import Viz\n",
    "from uniflow.flow.flow_factory import FlowFactory\n",
    "\n",
    "FlowFactory.list()"
   ]
  },
  {
   "cell_type": "markdown",
   "metadata": {},
   "source": [
    "### Prepare the input data\n",
    "\n",
    "First, let's set current directory and input data directory, and load the raw data."
   ]
  },
  {
   "cell_type": "code",
   "execution_count": 3,
   "metadata": {},
   "outputs": [],
   "source": [
    "data = [{\"filename\": \"./data/test.md\"}]"
   ]
  },
  {
   "cell_type": "markdown",
   "metadata": {},
   "source": [
    "### Load the markdown file with header splitter operation"
   ]
  },
  {
   "cell_type": "code",
   "execution_count": 4,
   "metadata": {},
   "outputs": [],
   "source": [
    "client = ExtractClient(ExtractMarkdownConfig())"
   ]
  },
  {
   "cell_type": "code",
   "execution_count": 5,
   "metadata": {},
   "outputs": [
    {
     "name": "stderr",
     "output_type": "stream",
     "text": [
      "100%|██████████| 1/1 [00:00<00:00, 13888.42it/s]\n"
     ]
    }
   ],
   "source": [
    "output = client.run(data)"
   ]
  },
  {
   "cell_type": "markdown",
   "metadata": {},
   "source": [
    "### Output\n",
    "\n",
    "Let's take a look of the generation output."
   ]
  },
  {
   "cell_type": "code",
   "execution_count": 6,
   "metadata": {},
   "outputs": [
    {
     "name": "stdout",
     "output_type": "stream",
     "text": [
      "[{'content': '# README文件\\n关于 README.md 文件。',\n",
      "  'metadata': {'Header 1': 'README文件'}},\n",
      " {'content': '## 概述\\n'\n",
      "             '`README.md` 文件是描述一个目录的 Markdown 文件。当你在 GitHub 和 Gitiles '\n",
      "             '中浏览这个目录时，就会展现这个文件。\\n'\n",
      "             '例如，当你查看这个目录的内容时，就会展现它里面的 /README.md 文件：\\n'\n",
      "             'https://github.com/google/styleguide/tree/gh-pages\\n'\n",
      "             '在 Gitiles 中，当显示仓库库索引时，在 `HEAD` 引用中的 `README.md` 也会展现出来：\\n'\n",
      "             'https://gerrit.googlesource.com/gitiles/',\n",
      "  'metadata': {'Header 1': 'README文件', 'Header 2': '概述'}},\n",
      " {'content': '## 准则\\n'\n",
      "             '**`README.md` 文件旨在为浏览您的代码的工程师（尤其是初次使用的用户）提供方向**。 `README.md` '\n",
      "             '文件可能是读者在浏览包含您的代码的目录时遇到的第一个文件。这种情况下，它也充当了目录的说明页面。\\n'\n",
      "             '我们建议您的代码的顶级目录包含最新的`README.md`文件。这对于为其他团队提供接口的软件包目录尤其重要。',\n",
      "  'metadata': {'Header 1': 'README文件', 'Header 2': '准则'}},\n",
      " {'content': '### 文件名\\n统一用 `README.md`。在 Gitiles 的目录视图中，不会显示名字叫 `README` 的文件。',\n",
      "  'metadata': {'Header 1': 'README文件', 'Header 2': '准则', 'Header 3': '文件名'}},\n",
      " {'content': '### 内容\\n'\n",
      "             '至少每个包级别的 `README.md` 都应当包含或指向以下信息：\\n'\n",
      "             '1.  **此包/库中有什么**，它的用途是什么。\\n'\n",
      "             '2.  **联系谁**。\\n'\n",
      "             '3.  **状态**：此包/库是否已弃用，是否不用于一般发布等。\\n'\n",
      "             '4.  **更多信息**：哪里能找到更详细的文档，例如：\\n'\n",
      "             '* overview.md 文件，提供更详细的概念信息。\\n'\n",
      "             '* 使用此软件包/库的任何 API 文档。',\n",
      "  'metadata': {'Header 1': 'README文件', 'Header 2': '准则', 'Header 3': '内容'}}]\n"
     ]
    }
   ],
   "source": [
    "pprint.pprint(output[0]['output'][0]['text'])"
   ]
  }
 ],
 "metadata": {
  "kernelspec": {
   "display_name": "uniflow",
   "language": "python",
   "name": "python3"
  },
  "language_info": {
   "codemirror_mode": {
    "name": "ipython",
    "version": 3
   },
   "file_extension": ".py",
   "mimetype": "text/x-python",
   "name": "python",
   "nbconvert_exporter": "python",
   "pygments_lexer": "ipython3",
   "version": "3.10.13"
  }
 },
 "nbformat": 4,
 "nbformat_minor": 2
}
