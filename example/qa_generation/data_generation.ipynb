{
 "cells": [
  {
   "cell_type": "markdown",
   "id": "6f370f8d-754e-4122-83e1-ba76aa1f0ca6",
   "metadata": {},
   "source": [
    "# Examle of generating synthetic data from existing question-answer pairs"
   ]
  },
  {
   "cell_type": "code",
   "execution_count": 1,
   "id": "97b61ef3-8030-4e08-8aac-8b39521d0586",
   "metadata": {},
   "outputs": [
    {
     "name": "stderr",
     "output_type": "stream",
     "text": [
      "Since the GPL-licensed package `unidecode` is not installed, using Python's `unicodedata` package which yields worse results.\n"
     ]
    }
   ],
   "source": [
    "import os\n",
    "import pandas as pd\n",
    "import sys\n",
    "sys.path.append(os.path.join(os.getcwd(), os.pardir, os.pardir))\n",
    "from uniflow.flow.flow_data_gen import DataGenFlow\n",
    "import uniflow.flow.constants as constants\n",
    "# Initiate flow\n",
    "flow = DataGenFlow()\n",
    "# Load data\n",
    "current_directory = os.getcwd()\n",
    "qaa = pd.read_csv(f\"{current_directory}/data/raw_input/qd_immigration.csv\", encoding = \"utf8\")"
   ]
  },
  {
   "cell_type": "markdown",
   "id": "6a1b6b0e-a1da-489c-afd7-06a21ce8fb03",
   "metadata": {},
   "source": [
    "### For demonstration purposes, we use 3 question-anser pairs as input. And we run the data generation flow to generate rephrased question-answer pairs as output."
   ]
  },
  {
   "cell_type": "code",
   "execution_count": 2,
   "id": "4fde2515-cd95-404e-b0c8-c812995682a6",
   "metadata": {},
   "outputs": [
    {
     "name": "stdout",
     "output_type": "stream",
     "text": [
      "root node name of flow is root\n",
      "\n",
      "\n",
      "output_dict keys: dict_keys(['output'])\n"
     ]
    }
   ],
   "source": [
    "# First 3 Questions and answers as root node\n",
    "input_dict = {\"qaa\": qaa[:3]}\n",
    "output_dict = flow(input_dict)\n",
    "\n",
    "print(f\"root node name of flow is {flow.root.name}\\n\\n\")\n",
    "print(f\"output_dict keys: {output_dict.keys()}\")"
   ]
  },
  {
   "cell_type": "code",
   "execution_count": 3,
   "id": "488fc805-b65f-453f-8075-c5ef52aa03c9",
   "metadata": {},
   "outputs": [
    {
     "data": {
      "text/plain": [
       "1"
      ]
     },
     "execution_count": 3,
     "metadata": {},
     "output_type": "execute_result"
    }
   ],
   "source": [
    "# the number of output nodes\n",
    "len(output_dict[constants.OUTPUT_NAME])"
   ]
  },
  {
   "cell_type": "code",
   "execution_count": 4,
   "id": "e0152c23-6828-4a45-a566-6da92d771c6d",
   "metadata": {},
   "outputs": [
    {
     "data": {
      "text/plain": [
       "dict_keys(['QApair_df', 'error_list'])"
      ]
     },
     "execution_count": 4,
     "metadata": {},
     "output_type": "execute_result"
    }
   ],
   "source": [
    "# the keys of the output dictionary\n",
    "output_dict[constants.OUTPUT_NAME][0].keys()"
   ]
  },
  {
   "cell_type": "code",
   "execution_count": 5,
   "id": "dfa4141b-8c4e-4789-a0ef-cc5c56833117",
   "metadata": {},
   "outputs": [
    {
     "data": {
      "text/html": [
       "<div>\n",
       "<style scoped>\n",
       "    .dataframe tbody tr th:only-of-type {\n",
       "        vertical-align: middle;\n",
       "    }\n",
       "\n",
       "    .dataframe tbody tr th {\n",
       "        vertical-align: top;\n",
       "    }\n",
       "\n",
       "    .dataframe thead th {\n",
       "        text-align: right;\n",
       "    }\n",
       "</style>\n",
       "<table border=\"1\" class=\"dataframe\">\n",
       "  <thead>\n",
       "    <tr style=\"text-align: right;\">\n",
       "      <th></th>\n",
       "      <th>_question</th>\n",
       "      <th>_answer</th>\n",
       "    </tr>\n",
       "  </thead>\n",
       "  <tbody>\n",
       "    <tr>\n",
       "      <th>0</th>\n",
       "      <td>Can I initiate the green card process if my em...</td>\n",
       "      <td>Yes, the employer can initiate the green card ...</td>\n",
       "    </tr>\n",
       "    <tr>\n",
       "      <th>1</th>\n",
       "      <td>If my H-1B is chosen in the lottery, can I sta...</td>\n",
       "      <td>Yes, the employer can initiate the green card ...</td>\n",
       "    </tr>\n",
       "    <tr>\n",
       "      <th>2</th>\n",
       "      <td>If I have an advanced degree (Masters in Engin...</td>\n",
       "      <td>Yes, the employer can start the green card pro...</td>\n",
       "    </tr>\n",
       "    <tr>\n",
       "      <th>3</th>\n",
       "      <td>What is the eligibility and process for portin...</td>\n",
       "      <td>It is possible to move up or down the employme...</td>\n",
       "    </tr>\n",
       "    <tr>\n",
       "      <th>4</th>\n",
       "      <td>What is the eligibility criteria and procedure...</td>\n",
       "      <td>It is possible to move up or down the employme...</td>\n",
       "    </tr>\n",
       "    <tr>\n",
       "      <th>5</th>\n",
       "      <td>What is the eligibility and process for portin...</td>\n",
       "      <td>It is possible to move up or down the employme...</td>\n",
       "    </tr>\n",
       "    <tr>\n",
       "      <th>6</th>\n",
       "      <td>What are my chances of being approved for an L...</td>\n",
       "      <td>It is important to discuss your job descriptio...</td>\n",
       "    </tr>\n",
       "    <tr>\n",
       "      <th>7</th>\n",
       "      <td>What are the odds of me being approved for an ...</td>\n",
       "      <td>It is essential to consult with your lawyers r...</td>\n",
       "    </tr>\n",
       "    <tr>\n",
       "      <th>8</th>\n",
       "      <td>What is the likelihood of me being approved fo...</td>\n",
       "      <td>It is important to discuss your job descriptio...</td>\n",
       "    </tr>\n",
       "  </tbody>\n",
       "</table>\n",
       "</div>"
      ],
      "text/plain": [
       "                                           _question  \\\n",
       "0  Can I initiate the green card process if my em...   \n",
       "1  If my H-1B is chosen in the lottery, can I sta...   \n",
       "2  If I have an advanced degree (Masters in Engin...   \n",
       "3  What is the eligibility and process for portin...   \n",
       "4  What is the eligibility criteria and procedure...   \n",
       "5  What is the eligibility and process for portin...   \n",
       "6  What are my chances of being approved for an L...   \n",
       "7  What are the odds of me being approved for an ...   \n",
       "8  What is the likelihood of me being approved fo...   \n",
       "\n",
       "                                             _answer  \n",
       "0  Yes, the employer can initiate the green card ...  \n",
       "1  Yes, the employer can initiate the green card ...  \n",
       "2  Yes, the employer can start the green card pro...  \n",
       "3  It is possible to move up or down the employme...  \n",
       "4  It is possible to move up or down the employme...  \n",
       "5  It is possible to move up or down the employme...  \n",
       "6  It is important to discuss your job descriptio...  \n",
       "7  It is essential to consult with your lawyers r...  \n",
       "8  It is important to discuss your job descriptio...  "
      ]
     },
     "execution_count": 5,
     "metadata": {},
     "output_type": "execute_result"
    }
   ],
   "source": [
    "# the generated question-answer pairs\n",
    "output_dict['output'][0]['QApair_df']"
   ]
  },
  {
   "cell_type": "code",
   "execution_count": 6,
   "id": "68c37f61-42a3-4cd9-aeb2-54bd2a974fec",
   "metadata": {},
   "outputs": [
    {
     "data": {
      "text/plain": [
       "[]"
      ]
     },
     "execution_count": 6,
     "metadata": {},
     "output_type": "execute_result"
    }
   ],
   "source": [
    "# any error in generated question-answer pairs\n",
    "output_dict['output'][0]['error_list']"
   ]
  },
  {
   "cell_type": "markdown",
   "id": "2ad11412-8214-4bb5-8878-c844258eba62",
   "metadata": {},
   "source": [
    "### Data generation with all question-answer entries in the input csv file. It may take more time..."
   ]
  },
  {
   "cell_type": "code",
   "execution_count": 8,
   "id": "21a275b7-f0d9-40ad-a210-8c02f247f1df",
   "metadata": {},
   "outputs": [
    {
     "name": "stdout",
     "output_type": "stream",
     "text": [
      "invalid syntax. Perhaps you forgot a comma? (<unknown>, line 3)\n",
      "\n",
      "{\"_question\": \"Can I submit an adjustment of status application if my priority date for eb-2 is current and not backlogged?\",\n",
      "\"_answer\": \"Yes, you can submit a concurrent aos filing for eb-2 physical therapist if the 'schedule a' application falls into the \"eb-2\" or employment based second preference category (the employer requires a master's degree in physical therapy or a bachelor's degree in physical therapy + 5 years of experience).\"}\n",
      "\n",
      "\n",
      "\n",
      "\n",
      "\n",
      "\n",
      "invalid syntax. Perhaps you forgot a comma? (<unknown>, line 3)\n",
      "\n",
      "{\"_question\": \"Is it possible to file an adjustment of status application if the priority date for eb-2 is current and not backlogged?\",\n",
      "\"_answer\": \"Yes, concurrent filing is allowed if the 'schedule a' application is classified as \"eb-2\" or employment based second preference category (the employer requires a master's degree in physical therapy or a bachelor's degree in physical therapy + 5 years of experience).\"}\n",
      "\n",
      "\n",
      "\n",
      "\n",
      "unterminated string literal (detected at line 3) (<unknown>, line 3)\n",
      "\n",
      "{\"_question\": \"What academic qualifications are necessary for EB-2?\",\n",
      "\"_answer\": \"In June 2007, the USCIS clarified what is considered to be equivalent to a U.S. master's degree for Employment-Based Category 2. Each petition and its supporting documentation are examined on a case-by-case basis and degree equivalencies are based on the evidence presented with the individual case. However, the below is provided as a general outline: 1. U.S. master's degree as long as it is in the field required, no additional document is required. 2. Four-year bachelor's degree + two-year master's degree (India) with degrees in the same or related fields, this will generally be considered the equivalent to a U.S. master's degree and no additional document is required. 3. Three-year bachelor's degree + three-year master's degree (India) with degrees in the same or related fields, this will generally be equivalent to a U.S. master's degree and no additional document is required. 4. Three-year bachelor's degree + one-year postgraduate diploma + two-year master's degree (India) with degrees in the same or similar field - this would generally be considered the equivalent of a bachelor's degree\n",
      "\n",
      "\n",
      "\n",
      "\n"
     ]
    }
   ],
   "source": [
    "flow2 = DataGenFlow()\n",
    "# Load data\n",
    "current_directory = os.getcwd()\n",
    "qaa = pd.read_csv(f\"{current_directory}/data/raw_input/qd_immigration.csv\", encoding = \"utf8\")\n",
    "# Questions and answers as root node\n",
    "input_dict = {\"qaa\": qaa}\n",
    "output_dict = flow2(input_dict)"
   ]
  },
  {
   "cell_type": "code",
   "execution_count": 10,
   "id": "364c4df3-0364-46fb-b0a4-a8205b266441",
   "metadata": {},
   "outputs": [
    {
     "data": {
      "text/plain": [
       "{'output': [{'QApair_df':                                              _question  \\\n",
       "   0    Is it possible to initiate the green card proc...   \n",
       "   1    Can I begin the green card process if my emplo...   \n",
       "   2    If my employer has filed my H-1B and it is sel...   \n",
       "   3    What is the eligibility and process for portin...   \n",
       "   4    What are the requirements and steps for portin...   \n",
       "   ..                                                 ...   \n",
       "   260  Does my wife have the same EB-2 processing opt...   \n",
       "   261  What are the EB-2 processing options for my wi...   \n",
       "   262  Do I need a master's degree to apply for an EB...   \n",
       "   263  Can I apply for an EB-2 green card if I have 3...   \n",
       "   264  If I have 3 years of work experience, is it po...   \n",
       "   \n",
       "                                                  _answer  \n",
       "   0    Yes, the employer can start the green card pro...  \n",
       "   1    Yes, the employer can initiate the green card ...  \n",
       "   2    Yes, the employer can initiate the green card ...  \n",
       "   3    It is possible to move up or down the employme...  \n",
       "   4    It is possible to move up or down the employme...  \n",
       "   ..                                                 ...  \n",
       "   260  No, occupational therapists do not have the sa...  \n",
       "   261  Occupational therapists do not have the same s...  \n",
       "   262  Yes, you can apply for an EB-2 green card if y...  \n",
       "   263  Yes, you can apply for an EB-2 green card with...  \n",
       "   264  Yes, you can get an EB-2 green card if you hav...  \n",
       "   \n",
       "   [265 rows x 2 columns],\n",
       "   'error_list': ['\\n{\"_question\": \"Can I submit an adjustment of status application if my priority date for eb-2 is current and not backlogged?\",\\n\"_answer\": \"Yes, you can submit a concurrent aos filing for eb-2 physical therapist if the \\'schedule a\\' application falls into the \"eb-2\" or employment based second preference category (the employer requires a master\\'s degree in physical therapy or a bachelor\\'s degree in physical therapy + 5 years of experience).\"}\\n\\n',\n",
       "    '\\n{\"_question\": \"Is it possible to file an adjustment of status application if the priority date for eb-2 is current and not backlogged?\",\\n\"_answer\": \"Yes, concurrent filing is allowed if the \\'schedule a\\' application is classified as \"eb-2\" or employment based second preference category (the employer requires a master\\'s degree in physical therapy or a bachelor\\'s degree in physical therapy + 5 years of experience).\"}',\n",
       "    '\\n{\"_question\": \"What academic qualifications are necessary for EB-2?\",\\n\"_answer\": \"In June 2007, the USCIS clarified what is considered to be equivalent to a U.S. master\\'s degree for Employment-Based Category 2. Each petition and its supporting documentation are examined on a case-by-case basis and degree equivalencies are based on the evidence presented with the individual case. However, the below is provided as a general outline: 1. U.S. master\\'s degree as long as it is in the field required, no additional document is required. 2. Four-year bachelor\\'s degree + two-year master\\'s degree (India) with degrees in the same or related fields, this will generally be considered the equivalent to a U.S. master\\'s degree and no additional document is required. 3. Three-year bachelor\\'s degree + three-year master\\'s degree (India) with degrees in the same or related fields, this will generally be equivalent to a U.S. master\\'s degree and no additional document is required. 4. Three-year bachelor\\'s degree + one-year postgraduate diploma + two-year master\\'s degree (India) with degrees in the same or similar field - this would generally be considered the equivalent of a bachelor\\'s degree']}]}"
      ]
     },
     "execution_count": 10,
     "metadata": {},
     "output_type": "execute_result"
    }
   ],
   "source": [
    "# We save the valid question-answer pairs to a csv file, while omitting the error lists.\n",
    "output_dict"
   ]
  }
 ],
 "metadata": {
  "kernelspec": {
   "display_name": "Python 3 (ipykernel)",
   "language": "python",
   "name": "python3"
  },
  "language_info": {
   "codemirror_mode": {
    "name": "ipython",
    "version": 3
   },
   "file_extension": ".py",
   "mimetype": "text/x-python",
   "name": "python",
   "nbconvert_exporter": "python",
   "pygments_lexer": "ipython3",
   "version": "3.10.12"
  }
 },
 "nbformat": 4,
 "nbformat_minor": 5
}
