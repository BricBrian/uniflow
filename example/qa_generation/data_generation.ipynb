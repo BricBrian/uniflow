{
 "cells": [
  {
   "cell_type": "markdown",
   "id": "6f370f8d-754e-4122-83e1-ba76aa1f0ca6",
   "metadata": {},
   "source": [
    "# Example of generating synthetic data from existing question-answer pairs"
   ]
  },
  {
   "cell_type": "code",
   "execution_count": null,
   "id": "97b61ef3-8030-4e08-8aac-8b39521d0586",
   "metadata": {},
   "outputs": [],
   "source": [
    "import os\n",
    "import pandas as pd\n",
    "import sys\n",
    "sys.path.append(os.path.join(os.getcwd(), os.pardir, os.pardir))\n",
    "from uniflow.client import Client\n",
    "from uniflow.flow.constants import (OUTPUT_NAME, QAPAIR_DF_KEY)\n",
    "import uniflow.config as config\n",
    "# Initiate flow\n",
    "client = Client(\"flow_data_gen\")\n",
    "# Load data\n",
    "current_directory = os.getcwd()\n",
    "qaa = pd.read_csv(f\"{current_directory}/data/raw_input/qd_immigration.csv\", encoding = \"utf8\")"
   ]
  },
  {
   "cell_type": "markdown",
   "id": "6a1b6b0e-a1da-489c-afd7-06a21ce8fb03",
   "metadata": {},
   "source": [
    "### For demonstration purposes, we use 3 question-anser pairs as input. And we run the data generation flow to generate rephrased question-answer pairs as output."
   ]
  },
  {
   "cell_type": "code",
   "execution_count": null,
   "id": "4fde2515-cd95-404e-b0c8-c812995682a6",
   "metadata": {},
   "outputs": [],
   "source": [
    "# First 3 Questions and answers as root node\n",
    "input_dict = {QAPAIR_DF_KEY: qaa[:3]}\n",
    "\n",
    "# Set QA factor to 5 (default is 3)\n",
    "config.set_qa_factor(5)\n",
    "\n",
    "input_list = [input_dict]\n",
    "output_list = client.run(input_list)\n",
    "output_dict = output_list[0]\n",
    "\n",
    "print(f\"output_dict keys: {output_dict.keys()}\")"
   ]
  },
  {
   "cell_type": "code",
   "execution_count": null,
   "id": "488fc805-b65f-453f-8075-c5ef52aa03c9",
   "metadata": {},
   "outputs": [],
   "source": [
    "# the number of output nodes\n",
    "len(output_dict[OUTPUT_NAME])"
   ]
  },
  {
   "cell_type": "code",
   "execution_count": null,
   "id": "e0152c23-6828-4a45-a566-6da92d771c6d",
   "metadata": {},
   "outputs": [],
   "source": [
    "# the keys of the output dictionary\n",
    "output_dict[OUTPUT_NAME][0].keys()"
   ]
  },
  {
   "cell_type": "code",
   "execution_count": null,
   "id": "dfa4141b-8c4e-4789-a0ef-cc5c56833117",
   "metadata": {},
   "outputs": [],
   "source": [
    "# the generated question-answer pairs\n",
    "output_dict[OUTPUT_NAME][0][QAPAIR_DF_KEY]"
   ]
  },
  {
   "cell_type": "code",
   "execution_count": null,
   "id": "68c37f61-42a3-4cd9-aeb2-54bd2a974fec",
   "metadata": {},
   "outputs": [],
   "source": [
    "# any error in generated question-answer pairs\n",
    "output_dict[OUTPUT_NAME][0]['error_list']"
   ]
  },
  {
   "cell_type": "markdown",
   "id": "2ad11412-8214-4bb5-8878-c844258eba62",
   "metadata": {},
   "source": [
    "### Data generation with all question-answer entries in the input csv file. It may take more time..."
   ]
  },
  {
   "cell_type": "code",
   "execution_count": null,
   "id": "21a275b7-f0d9-40ad-a210-8c02f247f1df",
   "metadata": {},
   "outputs": [],
   "source": [
    "client2 = Client(\"flow_data_gen\")\n",
    "# Load data\n",
    "current_directory = os.getcwd()\n",
    "qaa = pd.read_csv(f\"{current_directory}/data/raw_input/qd_immigration.csv\", encoding = \"utf8\")\n",
    "# Questions and answers as root node\n",
    "input_dict = {QAPAIR_DF_KEY: qaa}\n",
    "input_list = [input_dict]\n",
    "output_list = client2.run(input_list)\n",
    "output_dict = output_list[0]"
   ]
  },
  {
   "cell_type": "code",
   "execution_count": null,
   "id": "438c20be",
   "metadata": {},
   "outputs": [],
   "source": [
    "# the generated question-answer pairs\n",
    "output_dict[OUTPUT_NAME][0][QAPAIR_DF_KEY]"
   ]
  },
  {
   "cell_type": "code",
   "execution_count": null,
   "id": "364c4df3-0364-46fb-b0a4-a8205b266441",
   "metadata": {},
   "outputs": [],
   "source": [
    "# We save the valid question-answer pairs to a csv file, while omitting the error lists.\n",
    "output_dict"
   ]
  }
 ],
 "metadata": {
  "kernelspec": {
   "display_name": "Python 3 (ipykernel)",
   "language": "python",
   "name": "python3"
  },
  "language_info": {
   "codemirror_mode": {
    "name": "ipython",
    "version": 3
   },
   "file_extension": ".py",
   "mimetype": "text/x-python",
   "name": "python",
   "nbconvert_exporter": "python",
   "pygments_lexer": "ipython3",
   "version": "3.10.13"
  }
 },
 "nbformat": 4,
 "nbformat_minor": 5
}
