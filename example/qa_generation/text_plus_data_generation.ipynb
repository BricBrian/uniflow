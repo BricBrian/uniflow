{
 "cells": [
  {
   "cell_type": "markdown",
   "id": "6f370f8d-754e-4122-83e1-ba76aa1f0ca6",
   "metadata": {},
   "source": [
    "# Example of generating additional synthetic data from a descriptive text file"
   ]
  },
  {
   "cell_type": "code",
   "execution_count": null,
   "id": "97b61ef3-8030-4e08-8aac-8b39521d0586",
   "metadata": {},
   "outputs": [],
   "source": [
    "import os\n",
    "import sys\n",
    "sys.path.append(os.path.join(os.getcwd(), os.pardir, os.pardir))\n",
    "from uniflow.client import Client\n",
    "from uniflow.flow.constants import (OUTPUT_NAME, INPUT_FILE, QAPAIR_DF_KEY)"
   ]
  },
  {
   "cell_type": "markdown",
   "id": "03606087-4e11-44cf-897c-4b5c4f509025",
   "metadata": {},
   "source": [
    "### Load Data"
   ]
  },
  {
   "cell_type": "code",
   "execution_count": null,
   "id": "f2497d7c-fcee-4de4-a83f-9238360e7f79",
   "metadata": {},
   "outputs": [],
   "source": [
    "dir_cur = os.getcwd()\n",
    "fname = \"umich.txt\"\n",
    "#fname = \"22.4_multivariable-calculus.html\"\n",
    "input_file = os.path.join(f\"{dir_cur}/data/raw_input/\", fname)"
   ]
  },
  {
   "cell_type": "markdown",
   "id": "6a1b6b0e-a1da-489c-afd7-06a21ce8fb03",
   "metadata": {},
   "source": [
    "### synthetic data generation "
   ]
  },
  {
   "cell_type": "code",
   "execution_count": null,
   "id": "b6a23add-52ce-4009-a671-2e8fd32798da",
   "metadata": {},
   "outputs": [],
   "source": [
    "client = Client(\"flow_text_plus_data_gen\")\n",
    "input_dict = {INPUT_FILE: input_file}\n",
    "input_list = [input_dict]\n",
    "output_list = client.run(input_list)\n",
    "output_dict = output_list[0]\n",
    "\n",
    "print(f\"output_dict keys: {output_dict.keys()}\")"
   ]
  },
  {
   "cell_type": "code",
   "execution_count": null,
   "id": "488fc805-b65f-453f-8075-c5ef52aa03c9",
   "metadata": {},
   "outputs": [],
   "source": [
    "# number of output nodes\n",
    "len(output_dict[OUTPUT_NAME])"
   ]
  },
  {
   "cell_type": "code",
   "execution_count": null,
   "id": "e0152c23-6828-4a45-a566-6da92d771c6d",
   "metadata": {},
   "outputs": [],
   "source": [
    "# output dictionary keys\n",
    "output_dict[OUTPUT_NAME][0].keys()"
   ]
  },
  {
   "cell_type": "code",
   "execution_count": null,
   "id": "dfa4141b-8c4e-4789-a0ef-cc5c56833117",
   "metadata": {},
   "outputs": [],
   "source": [
    "# print the first 50 entries in the generated question-answer pairs.\n",
    "print(len(output_dict[OUTPUT_NAME][0][QAPAIR_DF_KEY]))\n",
    "output_dict[OUTPUT_NAME][0][QAPAIR_DF_KEY][:50]"
   ]
  }
 ],
 "metadata": {
  "kernelspec": {
   "display_name": "Python 3 (ipykernel)",
   "language": "python",
   "name": "python3"
  },
  "language_info": {
   "codemirror_mode": {
    "name": "ipython",
    "version": 3
   },
   "file_extension": ".py",
   "mimetype": "text/x-python",
   "name": "python",
   "nbconvert_exporter": "python",
   "pygments_lexer": "ipython3",
   "version": "3.10.13"
  }
 },
 "nbformat": 4,
 "nbformat_minor": 5
}
